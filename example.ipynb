{
 "cells": [
  {
   "cell_type": "markdown",
   "metadata": {},
   "source": [
    "# SO(5) Richardson Gaudin\n",
    "\n",
    "First, let's import the functions and packages we need we need"
   ]
  },
  {
   "cell_type": "code",
   "execution_count": 9,
   "metadata": {},
   "outputs": [],
   "source": [
    "from solve_rg_eqs import solve_rgEqs, solve_rgEqs_2, G_to_g\n",
    "import numpy as np\n",
    "import matplotlib.pyplot as plt\n",
    "import pandas as pd"
   ]
  },
  {
   "cell_type": "markdown",
   "metadata": {},
   "source": [
    "Setting physical parameters. \n",
    "\n",
    "Note that $g$ is not $GL$, but instead\n",
    "$g = \\frac{G}{1-G\\sum_k k}$. At $G_c = \\frac{1}{\\sum_k k}$, $g$ becomes singular. So, around this point I switch to using $1/g$ in the code.\n",
    "\n",
    "Due to assumptions in the code, I currently require Nup and Ndown to be even numbers."
   ]
  },
  {
   "cell_type": "code",
   "execution_count": 10,
   "metadata": {},
   "outputs": [],
   "source": [
    "L = 4 # Very small system, just an illustration\n",
    "Nup = 2\n",
    "Ndown = 2\n",
    "\n",
    "N = Nup + Ndown\n",
    "\n",
    "dims = (L, Nup, Ndown)\n",
    "\n",
    "G_final = 1.5*(2/(np.pi*L)) # 1.5 times critical coupling?\n",
    "# G_final = -0.5\n",
    "k = np.arange(1, 2*L+1, 2)*0.5*np.pi/L"
   ]
  },
  {
   "cell_type": "markdown",
   "metadata": {},
   "source": [
    "Setting numerical parameters. If the following things don't work, try decreasing ``dg`` (which will change the other parameters as well). If you want more (or less) points in the output, decrease (increase) the value of ``skip``, which sets how often we remove artificial imaginary parts and save values to output (i.e. skip ``skip`` values of ``g`` before doing this)."
   ]
  },
  {
   "cell_type": "code",
   "execution_count": 11,
   "metadata": {},
   "outputs": [],
   "source": [
    "dg = 0.01/N # step size of g. Scaling with N instead of L because increasing N increases difficulty\n",
    "g0 = .01*dg # initial value of g\n",
    "imk = dg # scale of the imaginary parts added to k\n",
    "imv = .01*g0 # scale of the imaginary parts used in the initial guess\n",
    "\n",
    "if N/(4*L) <= 0.5:\n",
    "    skip = 4*L # number of steps between times we remove imaginary parts\n",
    "else:\n",
    "    skip = 10*L "
   ]
  },
  {
   "cell_type": "markdown",
   "metadata": {},
   "source": [
    "Solving the Richardson-Gaudin equations.\n",
    "\n",
    "Watch out, this could take a while. It will increment ``g`` from ``g0`` until\n",
    "it has trouble converging, at which point it switches to incrementing ``1/g``.\n",
    "\n",
    "Also, ignore things that look like error messages. \n",
    "\n",
    "## Wait for the evaluation to complete!\n",
    "## The [*]: to the left of this should turn into a number [x]:"
   ]
  },
  {
   "cell_type": "code",
   "execution_count": null,
   "metadata": {},
   "outputs": [
    {
     "name": "stdout",
     "output_type": "stream",
     "text": [
      "Initial guesses:\n",
      "[0.39269523+0.00249999j 0.39269523+0.00249996j]\n",
      "[0.3926978+0.00249919j 0.3926978+0.00250079j]\n",
      "Incrementing from 2.5e-05 to 1.4323944878270585\n",
      "Bootstrapping from 4 to 4 fermions\n",
      "\n",
      "Now using 4 fermions\n",
      "\n",
      "Bad initial guess. Trying with noise.\n",
      "g = 2.5e-05, er = 0.002053648558523383\n",
      "1th try at g = 2.5e-05\n",
      "Smallest error from last set: 0.002053648558523383\n",
      "Noise ranges from -1.7472955490106116e-07 to 2.5075544982882805e-07\n",
      "3th try at g = 2.5e-05\n",
      "Smallest error from last set: 0.0014135202593515913\n",
      "Noise ranges from -2.492186860277628e-07 to 2.198924970505648e-07\n",
      "5th try at g = 2.5e-05\n",
      "Smallest error from last set: 0.0011496932903359055\n",
      "Noise ranges from -1.9427715357623833e-07 to 6.722385670014683e-08\n",
      "7th try at g = 2.5e-05\n",
      "Smallest error from last set: 0.0017079300085749215\n",
      "Noise ranges from -2.8462421830916376e-07 to 1.8442622868919552e-07\n",
      "Error with 4 fermions: 1.6551530279684814e-11\n",
      "Low error!!!\n",
      "Changing dg from 0.0025 to 0.005\n",
      "Low error!!!\n",
      "Changing dg from 0.005 to 0.01\n",
      "Removing im(k) at g = 0.155025\n"
     ]
    }
   ],
   "source": [
    "if G_final > 1./np.sum(k):\n",
    "    # Need to use different code to pass the critical point\n",
    "    output_df = solve_rgEqs_2(dims, G_final, k, dg=dg, g0=g0, imscale_k=imk,\n",
    "                              imscale_v=imv, skip=skip)\n",
    "else:\n",
    "    # Can just increment g\n",
    "    output_df = solve_rgEqs(dims, G_final, k, dg=dg, g0=g0, imscale_k=imk,\n",
    "                            imscale_v=imv, skip=1)"
   ]
  },
  {
   "cell_type": "markdown",
   "metadata": {},
   "source": [
    "OK, that took a while. If there's a big pink error message about division by zero, ignore it for now.\n",
    "\n",
    "If you see an error that says something about child processes, I suggest restarting the kernel and rerunning.\n",
    "\n",
    "Let's look at the output, stored in a Pandas DataFrame.\n",
    "\n",
    "To store it as a CSV, uncomment lines 2 and 3 below and input a filename when prompted. Line 4 is an example of how to load the data (or other CSV data) into a Pandas dataframe."
   ]
  },
  {
   "cell_type": "code",
   "execution_count": null,
   "metadata": {},
   "outputs": [],
   "source": [
    "print(output_df)\n",
    "# filename = input('Name to save file to: ')\n",
    "# output_df.to_csv(filename)\n",
    "# new_df = pd.load_csv(filename)"
   ]
  },
  {
   "cell_type": "markdown",
   "metadata": {},
   "source": [
    "# Using the results\n",
    "\n",
    "## Pairons\n",
    "\n",
    "Let's make a plot of the pairons. First, we need to get the results from the DataFrame. In output_df, the results for each pairon's real and imaginary part is stored as a row, with a name like ``Re(omega_0)``. To get one row, we can do as follows:"
   ]
  },
  {
   "cell_type": "code",
   "execution_count": null,
   "metadata": {},
   "outputs": [],
   "source": [
    "output_df['Re(e_0)']"
   ]
  },
  {
   "cell_type": "markdown",
   "metadata": {},
   "source": [
    "I don't want to do this for every column I'm interested in. Let's make lists of these column names:"
   ]
  },
  {
   "cell_type": "code",
   "execution_count": null,
   "metadata": {},
   "outputs": [],
   "source": [
    "real_e_index = ['Re(e_{})'.format(i) for i in range(Nup)]\n",
    "im_e_index = ['Im(e_{})'.format(i) for i in range(Nup)]\n",
    "real_w_index = ['Re(omega_{})'.format(i) for i in range(Ndown)]\n",
    "im_w_index = ['Im(omega_{})'.format(i) for i in range(Ndown)]\n",
    "\n",
    "# Is this the thing we wanted?\n",
    "print(real_e_index)\n",
    "print(im_e_index)\n",
    "print(real_w_index)\n",
    "print(im_w_index)"
   ]
  },
  {
   "cell_type": "markdown",
   "metadata": {},
   "source": [
    "Let's make a plot with labels and titles and legends!"
   ]
  },
  {
   "cell_type": "code",
   "execution_count": null,
   "metadata": {},
   "outputs": [],
   "source": [
    "plt.figure(figsize=(12,12)) # Making a bigger figure for the plots\n",
    "\n",
    "markers = ['1', '2', '3', '4', 'x', '+', '.', 'v', '^'] \n",
    "# using different shapes for the markers so we can see stacked results\n",
    "\n",
    "plt.subplot(2,1,1) # Making 2 subplots, first for real parts\n",
    "for i, ind in enumerate(real_e_index):\n",
    "    # Plotting like before, but now assigning labels for the legend\n",
    "    # Luckily, our rownames are decent labels already\n",
    "    plt.scatter(output_df['G']*L, output_df[ind], label=ind, marker=markers[i]) \n",
    "# Doing the same for real parts of omega\n",
    "for i, ind in enumerate(real_w_index): \n",
    "    plt.scatter(output_df['G']*L, output_df[ind], label=ind, marker=markers[i]) \n",
    "\n",
    "# Let's plot a horizontal line at 0\n",
    "plt.axhline(0)\n",
    "\n",
    "# Let's make a thin, vertical, dotted/dashed, magenta line at G_c\n",
    "g_c = L/np.sum(k)\n",
    "plt.axvline(g_c, ls='-.', color='magenta', linewidth=.5)\n",
    "    \n",
    "# Making axes labels\n",
    "plt.title('Real parts of the pairons for L = {}, Nup = {}, Ndown = {}'.format(L, Nup, Ndown))\n",
    "plt.xlabel('GL')\n",
    "plt.ylabel('Real part')\n",
    "plt.legend() \n",
    "    \n",
    "plt.subplot(2,1,2) # Now moving to a second subplot\n",
    "for i, ind in enumerate(im_e_index):\n",
    "    plt.scatter(output_df['G']*L, output_df[ind], label=ind, marker=markers[i]) \n",
    "for i, ind in enumerate(im_w_index): \n",
    "    plt.scatter(output_df['G']*L, output_df[ind], label=ind, marker=markers[i]) \n",
    "\n",
    "plt.axhline(0)\n",
    "plt.axvline(g_c, ls='-.', color='magenta', linewidth=.5)    \n",
    "    \n",
    "plt.title('Imaginary parts of the pairons for L = {}, Nup = {}, Ndown = {}'.format(L, Nup, Ndown))\n",
    "plt.xlabel('GL')\n",
    "plt.ylabel('Imaginary part')\n",
    "plt.legend()\n",
    "\n",
    "plt.show()"
   ]
  },
  {
   "cell_type": "markdown",
   "metadata": {},
   "source": [
    "We can change the limits of the axes to get a closer look at the behavior around G_c:"
   ]
  },
  {
   "cell_type": "code",
   "execution_count": null,
   "metadata": {},
   "outputs": [],
   "source": [
    "plt.figure(figsize=(8,8))\n",
    "\n",
    "plt.axvline(g_c, ls = '--', color='lightgray')\n",
    "plt.axhline(0, ls = '--', color='lightgray')\n",
    "\n",
    "for i, ind in enumerate(real_e_index):\n",
    "    # s is the size of the marks (not sure the units)\n",
    "    # Let's make them bigger!\n",
    "    plt.scatter(output_df['G']*L, output_df[ind], label=ind, marker=markers[i], s=100) \n",
    "for i, ind in enumerate(real_w_index): \n",
    "    plt.scatter(output_df['G']*L, output_df[ind], label=ind, marker=markers[i], s=100) \n",
    "for i, ind in enumerate(im_e_index):\n",
    "    plt.scatter(output_df['G']*L, output_df[ind], label=ind, marker=markers[i], s=100) \n",
    "for i, ind in enumerate(im_w_index): \n",
    "    plt.scatter(output_df['G']*L, output_df[ind], label=ind, marker=markers[i], s=100) \n",
    "    \n",
    "plt.xlim(0.95*g_c, 1.05*g_c) # Looking within 5% of g_c\n",
    "plt.ylim(-0.2, 0.2) # You might need to change these values\n",
    "\n",
    "plt.legend()\n",
    "plt.xlabel('GL')\n",
    "\n",
    "plt.title('Real and imaginary parts around G_c')\n",
    "plt.show()"
   ]
  },
  {
   "cell_type": "markdown",
   "metadata": {},
   "source": [
    "## Energy\n",
    "We can also plot energy (and other things). Let's get the energy and derivatives from the output DataFrame.\n",
    "\n",
    "Again, if there is a division by zero error, ignore it for now. This occurs if we are taking the derivative of something too close to vertical."
   ]
  },
  {
   "cell_type": "code",
   "execution_count": null,
   "metadata": {},
   "outputs": [],
   "source": [
    "Es = output_df['energy']\n",
    "Gs = output_df['G']\n",
    "# Rescaling by appropriate factors of L\n",
    "es = Es/L\n",
    "gs = Gs*L # different than g in previous plot\n",
    "\n",
    "print('Taking 1st derivative')\n",
    "de = np.gradient(es, gs) # derivative de/dg\n",
    "print('Taking 2nd derivative')\n",
    "d2e = np.gradient(de, gs) # second derivative\n",
    "print('Taking 3rd derivative')\n",
    "d3e = np.gradient(d2e, gs) # third"
   ]
  },
  {
   "cell_type": "markdown",
   "metadata": {},
   "source": [
    "Now, let's make a 2-by-2 plot with the energy and derivatives."
   ]
  },
  {
   "cell_type": "code",
   "execution_count": null,
   "metadata": {},
   "outputs": [],
   "source": [
    "plt.figure(figsize=(12, 12))\n",
    "\n",
    "plt.subplot(2, 2, 1)\n",
    "plt.scatter(gs, es)\n",
    "plt.xlabel('g')\n",
    "plt.ylabel('e')\n",
    "plt.axvline(g_c, ls=':', color='magenta')\n",
    "\n",
    "plt.subplot(2, 2, 2)\n",
    "plt.scatter(gs, de)\n",
    "plt.xlabel('g')\n",
    "plt.ylabel('de/dg')\n",
    "plt.axvline(g_c, ls=':', color='magenta')\n",
    "\n",
    "\n",
    "plt.subplot(2, 2, 3)\n",
    "plt.scatter(gs, d2e)\n",
    "plt.xlabel('g')\n",
    "plt.ylabel('d^2e/dg^2')\n",
    "plt.axvline(g_c, ls=':', color='magenta')\n",
    "plt.xlim(0.3, 1.0)\n",
    "\n",
    "\n",
    "plt.subplot(2, 2, 4)\n",
    "plt.scatter(gs, d3e)\n",
    "plt.xlabel('g')\n",
    "plt.ylabel('d^3e/dg^3')\n",
    "plt.axvline(g_c, ls=':', color='magenta')\n",
    "plt.xlim(0.3, 1.0) \n",
    "# Behavior around G=0 is weird but this is due to truncation and inaccuracies in the solution around that point\n",
    "\n",
    "plt.show()"
   ]
  },
  {
   "cell_type": "markdown",
   "metadata": {},
   "source": [
    "## Momentum Distribution\n",
    "\n",
    "Let's look at the momentum distribution within $5\\%$ of my prediction for $G_c$."
   ]
  },
  {
   "cell_type": "code",
   "execution_count": null,
   "metadata": {},
   "outputs": [],
   "source": [
    "N_inds = ['N_{}'.format(i) for i in range(L)]\n",
    "\n",
    "plt.figure(figsize=(12, 8))\n",
    "\n",
    "for i, G in enumerate(Gs):\n",
    "    if 0.95 < G*L/g_c < 1.05: # Only selecting within 2% of G_c\n",
    "        plt.plot(k, output_df[N_inds].iloc[i], \n",
    "                label='g = {}'.format(np.round(G*L, 3)), # rounding the label to 3 decimal places\n",
    "                 marker='o') # Putting a dot at each data point\n",
    "plt.xlabel('k')\n",
    "plt.ylabel('N_k')\n",
    "plt.legend()\n",
    "plt.xlim(0, np.pi)\n",
    "plt.show()"
   ]
  },
  {
   "cell_type": "markdown",
   "metadata": {},
   "source": [
    "At precisely the critical coupling, it seems like Jorge's prediction of perfectly flat distribution is true, just not at the coupling he predicted.\n",
    "\n",
    "To get a better sense of overall behavior, we can plot at a wider range of coupling. To make sure we don't end up with too many lines, I'll only plot once every 15 datapoints."
   ]
  },
  {
   "cell_type": "code",
   "execution_count": null,
   "metadata": {},
   "outputs": [],
   "source": [
    "plt.figure(figsize=(8,8))        \n",
    "\n",
    "for i, G in enumerate(Gs):\n",
    "    if i%5 == 0: # Only using indices that are multiples of 5\n",
    "        plt.plot(k, output_df[N_inds].iloc[i], \n",
    "                label='g = {}'.format(np.round(G*L, 3)), # rounding the label to 3 decimal places\n",
    "                 marker='o') # Putting a dot at each data point\n",
    "\n",
    "plt.xlabel('k')\n",
    "plt.ylabel('N_k')\n",
    "plt.legend()\n",
    "plt.xlim(0, np.pi)\n",
    "plt.ylim(0, 4) # Limits on values of N_k = n_{k up} + n_{k down} + n_{-k up} + n_{-k down}\n",
    "plt.show()"
   ]
  },
  {
   "cell_type": "markdown",
   "metadata": {},
   "source": [
    "# Checking results with exact diagonalization\n",
    "\n",
    "To use my exact-diagonalization code, you will need the [Quspin package](https://weinbe58.github.io/QuSpin/).\n",
    "First, we import functions from my exact-diagonalization code and create a basis for ``Nup`` spin up and ``Ndown``\n",
    "spin down fermions on a 1-d lattice with ``2L`` sites (since ``L`` counts only positive $k$):"
   ]
  },
  {
   "cell_type": "code",
   "execution_count": null,
   "metadata": {},
   "outputs": [],
   "source": [
    "from exact_diag import ham_op_2, find_nk, form_basis, casimir_dict, iom_dict, quantum_operator\n",
    "basis = form_basis(2*L, Nup, Ndown)"
   ]
  },
  {
   "cell_type": "markdown",
   "metadata": {},
   "source": [
    "Now, we create a Hamiltonian (as Quspin ``quantum_operator`` object) corresponding to our final coupling."
   ]
  },
  {
   "cell_type": "code",
   "execution_count": null,
   "metadata": {},
   "outputs": [],
   "source": [
    "H = ham_op_2(L, G_final, k, basis=basis)"
   ]
  },
  {
   "cell_type": "markdown",
   "metadata": {},
   "source": [
    "We can diagonalize this Hamiltonian. Let's do full diagonalization if the dimension of the Hilbert space is\n",
    "less than 4000, and do sparse diagonalization to only get the 10 lowest-energy states if it's larger than that."
   ]
  },
  {
   "cell_type": "code",
   "execution_count": null,
   "metadata": {},
   "outputs": [],
   "source": [
    "dim_h = basis.Ns\n",
    "print('Dimension of the Hilbert space:')\n",
    "print(dim_h)\n",
    "\n",
    "if dim_h > 4000:\n",
    "    exact_energies, exact_states = H.eigsh(k=10, which='SA') # k is number of states to find, SA means find the smallest algabraic eigenvalues\n",
    "else:\n",
    "    exact_energies, exact_states = H.eigh() # Full diagonalization of a Hermitian matrix\n",
    "    \n",
    "# Creating a histogram of the energies\n",
    "plt.hist(exact_energies, bins=dim_h//50)\n",
    "plt.xlabel('Energy')\n",
    "plt.ylabel('Number of states')\n",
    "plt.title('Histogram of energies at G = {}'.format(G_final))\n",
    "plt.show()"
   ]
  },
  {
   "cell_type": "markdown",
   "metadata": {},
   "source": [
    "Let's compare the ground state energy from ED to the final ground state energy from the RG equations:"
   ]
  },
  {
   "cell_type": "code",
   "execution_count": null,
   "metadata": {},
   "outputs": [],
   "source": [
    "print('ED ground state energy')\n",
    "print(exact_energies[0]) \n",
    "\n",
    "print('RG ground state energy')\n",
    "print(output_df['energy'].iloc[-1])\n",
    "\n",
    "print('Difference')\n",
    "print(exact_energies[0] - output_df['energy'].iloc[-1])"
   ]
  },
  {
   "cell_type": "markdown",
   "metadata": {},
   "source": [
    "Now let's plot the difference between energies at various couplings."
   ]
  },
  {
   "cell_type": "code",
   "execution_count": null,
   "metadata": {},
   "outputs": [],
   "source": [
    "diffs = []\n",
    "divisible_Gs = []\n",
    "for i, G in enumerate(Gs):\n",
    "    if i%5 == 0: # Only using indices that are multiples of 15\n",
    "        h = ham_op_2(L, G, k, basis=basis)\n",
    "        e, v = h.eigsh(k=1, which = 'SA') # we only need the 0th energy\n",
    "        diffs += [e[0] - output_df['energy'].iloc[i]]\n",
    "        divisible_Gs += [G]\n",
    "         \n",
    "plt.plot(np.array(divisible_Gs)*L, diffs, marker='o')\n",
    "plt.xlabel('GL')\n",
    "plt.ylabel('Energy difference')\n",
    "# plt.ylim(-10**-12, 10**-12)\n",
    "plt.show()"
   ]
  },
  {
   "cell_type": "markdown",
   "metadata": {},
   "source": [
    "If you chose $GL < 0$, you should have noticed a drop in accuracy around $GL = 1.5$. This coincides with\n",
    "a loss of accuracy in the integrals of motion"
   ]
  },
  {
   "cell_type": "code",
   "execution_count": null,
   "metadata": {},
   "outputs": [],
   "source": [
    "iom_inds = ['R_{}'.format(i) for i in range(4)]\n",
    "which_iom = int(input('Index of IOM to check: '))\n",
    "ground_ioms = [] # Exp. value of the IOM operator in the ground state\n",
    "rg_ioms = [] # IOM eigenvalues from RG. Should be the same as \"lowest_ioms\"\n",
    "Gss = []\n",
    "for i, G in enumerate(Gs):\n",
    "    if i%10 == 0: # Only using indices that are multiples of 10\n",
    "        g = G/(1-G*np.sum(k))\n",
    "        h = ham_op_2(L, G, k, basis=basis)\n",
    "        e, v = h.eigsh(k=1, which = 'SA') # we only need the 0th energy\n",
    "        v0 = v[:,0]\n",
    "        i_d = iom_dict(L, g, k, k1=which_iom)\n",
    "        i_o = quantum_operator(i_d, basis=basis)\n",
    "        Gss += [G]\n",
    "        print(i_o.matrix_ele(v0, v0))\n",
    "        print(output_df[iom_inds[which_iom]].iloc[i])\n",
    "        ground_ioms += [i_o.matrix_ele(v0, v0)]\n",
    "        rg_ioms += [output_df[iom_inds[which_iom]].iloc[i]]"
   ]
  },
  {
   "cell_type": "markdown",
   "metadata": {},
   "source": [
    "Now, let's plot these values."
   ]
  },
  {
   "cell_type": "code",
   "execution_count": null,
   "metadata": {},
   "outputs": [],
   "source": [
    "ground_ioms = np.array(ground_ioms)\n",
    "rg_ioms = np.array(rg_ioms)\n",
    "gss = np.array(Gss)*L\n",
    "plt.scatter(gss, ground_ioms, label = 'Measured in ground state', marker = '2')\n",
    "plt.scatter(gss, rg_ioms, label = 'From Richardson-Gaudin', marker='3')\n",
    "plt.ylabel('R_{}'.format(which_iom))\n",
    "plt.xlabel('GL')\n",
    "plt.legend()"
   ]
  },
  {
   "cell_type": "markdown",
   "metadata": {},
   "source": [
    "Strangely, if we form a Hamiltonian by just summing integrals of motion (which is equivalent to the Hamiltonian of study up to a constant that depend on $G$), we still agree!"
   ]
  },
  {
   "cell_type": "code",
   "execution_count": null,
   "metadata": {},
   "outputs": [],
   "source": [
    "Gss = []\n",
    "Ess_ed = []\n",
    "Ess_rg = []\n",
    "for i, G in enumerate(Gs):\n",
    "    if i%10 == 0: # Only using indices that are multiples of 10\n",
    "        g = G/(1-G*np.sum(k))\n",
    "        for j in range(L):\n",
    "            i_d = iom_dict(L, g, k, k1=j, mult=k[j]) # making operator k R_k\n",
    "            i_o = quantum_operator(i_d, basis=basis)\n",
    "            if j == 0:\n",
    "                h = i_o # initializing Hamiltonian operator\n",
    "            else:\n",
    "                h += i_o # H = sum_k k R_k\n",
    "        e, v = h.eigsh(k=1, which = 'SA')\n",
    "        Ess_ed += [e[0]]\n",
    "        Ess_rg += [np.sum(output_df[iom_inds].iloc[i] * k)]\n",
    "        Gss += [G]\n",
    "plt.figure(figsize=(8,8))\n",
    "plt.scatter(np.array(Gss)*L, np.array(Ess_ed) - np.array(Ess_rg))\n",
    "plt.xlabel('GL')\n",
    "plt.ylabel('Energy difference')\n",
    "plt.title('Difference in $\\sum_k k R_k$')"
   ]
  },
  {
   "cell_type": "markdown",
   "metadata": {},
   "source": [
    "Let's take a closer look at the plot:"
   ]
  },
  {
   "cell_type": "code",
   "execution_count": null,
   "metadata": {},
   "outputs": [],
   "source": [
    "plt.figure(figsize=(8,8))\n",
    "plt.scatter(np.array(Gss)*L, np.array(Ess_ed) - np.array(Ess_rg))\n",
    "plt.xlabel('GL')\n",
    "plt.ylabel('Energy difference')\n",
    "plt.title('Difference in $\\sum_k k R_k$')\n",
    "plt.ylim(-10**-14, 10**-14)"
   ]
  },
  {
   "cell_type": "markdown",
   "metadata": {},
   "source": [
    "So, this error doesn't come from us finding incorrect integrals of motion, it comes from the fact that the ground state of $\\sum_k k R_k$ is no longer the ground state of the Hamiltonian with the additional ($G-dependent$) constant. This is because the Casimir operator, which also comes into play in that constant, has a different value for some excited states, ($-1$ instead of $3$, as will be seen below), and this induces those states to a lower energy as we increase $G$, causing a level crossing and 1st order phase transition!"
   ]
  },
  {
   "cell_type": "markdown",
   "metadata": {},
   "source": [
    "## Phase transition in the repulsive case\n",
    "\n",
    "There is an additional complication. If you happened to choose a repulsive coupling greater than $GL \\approx 1.5$, you may have noticed a sudden drop in accuracy of the solutions. This appears to occur due to a change in the value of the Casimir operator\n",
    "\\begin{equation}\n",
    "Q_k = \\vec T_k^+ \\cdot \\vec T_{k'}^- + \\vec T_k^- \\cdot \\vec T_k^+ + \\vec S_k \\cdot \\vec S_k\n",
    "+ \\left(\\frac{1}{2}N_k - 1\\right)^2,\n",
    "\\end{equation}\n",
    "as I will show after first demonstrating that there is an issue at this value of $GL$:"
   ]
  },
  {
   "cell_type": "code",
   "execution_count": null,
   "metadata": {},
   "outputs": [],
   "source": [
    "Gss = np.linspace(-1.25, -1.75, 20)/L\n",
    "Ess = np.zeros((20, 20))\n",
    "vss = [] # I'm going to save the states so  I don't have to keep diagonalizing things\n",
    "for i, G in enumerate(Gss):\n",
    "    h = ham_op_2(L, G, k, basis=basis)\n",
    "    e, v = h.eigsh(k=20, which = 'SA') # we only need the 0th energy\n",
    "    Ess[i,:] = np.sort(e)\n",
    "    vss += [v]\n",
    "for i in range(10): # Only plotting the first 10 energies because it ends up neater\n",
    "    plt.scatter(Gss*L, Ess[:,i])"
   ]
  },
  {
   "cell_type": "markdown",
   "metadata": {},
   "source": [
    "This is even stranger! It looks like a number of different states are becoming degenerate at a coupling around $GL = 1.5$! Let's plot this as lines with the same color, since the ordering seems to be getting scrambled (which gives makes the colors more or less useless)."
   ]
  },
  {
   "cell_type": "code",
   "execution_count": null,
   "metadata": {},
   "outputs": [],
   "source": [
    "for i in range(10):\n",
    "    plt.plot(np.array(Gss)*L, Ess[:,i], color='black')"
   ]
  },
  {
   "cell_type": "markdown",
   "metadata": {},
   "source": [
    "This happens along with a change in the Casimir operator!"
   ]
  },
  {
   "cell_type": "code",
   "execution_count": null,
   "metadata": {},
   "outputs": [],
   "source": [
    "casimirs = np.zeros((20, 4))\n",
    "# Forming a list of Casimir operators.\n",
    "cdicts = [casimir_dict(4, i, 1.) for i in range(4)]\n",
    "cops = [quantum_operator(cdicts[i], basis=basis) for i in range(4)]\n",
    "\n",
    "for i, G in enumerate(Gss):\n",
    "    # h = ham_op_2(L, G, k, basis=basis)\n",
    "    # e, v = h.eigsh(k=1, which='SA') # Let's only deal with the ground state for now\n",
    "    v0 = vss[i][:,0] # vss is a list of matrices, the columns of the matrices are the wavefunctions\n",
    "    for j in range(4):\n",
    "        casimirs[i, j] = cops[j].matrix_ele(v0, v0)\n",
    "for j in range(4):\n",
    "    plt.plot(Gss*L, casimirs[:, j], label = ('Q_{}'.format(j)), marker=markers[j])\n",
    "plt.legend()"
   ]
  },
  {
   "cell_type": "markdown",
   "metadata": {},
   "source": [
    "I'm not sure how to account for these changes. What if we stop dealing with the diagonal element in the Hamiltonian? Then, we could just define a Hamiltonian that doesn't have to have this additional constant. This won't change the attractive-coupling physics, since in that case the ground state wavefunction is unaffected (though the energy will be different)."
   ]
  },
  {
   "cell_type": "code",
   "execution_count": null,
   "metadata": {},
   "outputs": [],
   "source": []
  }
 ],
 "metadata": {
  "kernelspec": {
   "display_name": "Python 3",
   "language": "python",
   "name": "python3"
  },
  "language_info": {
   "codemirror_mode": {
    "name": "ipython",
    "version": 3
   },
   "file_extension": ".py",
   "mimetype": "text/x-python",
   "name": "python",
   "nbconvert_exporter": "python",
   "pygments_lexer": "ipython3",
   "version": "3.7.6"
  }
 },
 "nbformat": 4,
 "nbformat_minor": 4
}
