{
 "cells": [
  {
   "cell_type": "markdown",
   "metadata": {},
   "source": [
    "# SO(5) Richardson Gaudin\n",
    "\n",
    "First, let's import the functions and packages we need we need"
   ]
  },
  {
   "cell_type": "code",
   "execution_count": 5,
   "metadata": {},
   "outputs": [],
   "source": [
    "from solve_rg_eqs import solve_rgEqs, solve_rgEqs_2, G_to_g\n",
    "import numpy as np\n",
    "import matplotlib.pyplot as plt\n",
    "import pandas as pd"
   ]
  },
  {
   "cell_type": "markdown",
   "metadata": {},
   "source": [
    "Setting physical parameters. \n",
    "\n",
    "Note that $g$ is not $GL$, but instead\n",
    "$g = \\frac{G}{1-G\\sum_k k}$. At $G_c = \\frac{1}{\\sum_k k}$, $g$ becomes singular. So, around this point I switch to using $1/g$ in the code.\n",
    "\n",
    "Due to assumptions in the code, I currently require Nup and Ndown to be even numbers."
   ]
  },
  {
   "cell_type": "code",
   "execution_count": 6,
   "metadata": {},
   "outputs": [],
   "source": [
    "L = 4 # Very small system, just an illustration\n",
    "Nup = 6\n",
    "Ndown = 6\n",
    "\n",
    "N = Nup + Ndown\n",
    "\n",
    "dims = (L, Nup, Ndown)\n",
    "\n",
    "G_final = 1.5*(2/(np.pi*L)) # 1.5 times critical coupling?\n",
    "# G_final = -0.5\n",
    "k = np.arange(1, 2*L+1, 2)*0.5*np.pi/L"
   ]
  },
  {
   "cell_type": "markdown",
   "metadata": {},
   "source": [
    "Setting numerical parameters. If the following things don't work, try decreasing ``dg`` (which will change the other parameters as well). If you want more (or less) points in the output, decrease (increase) the value of ``skip``, which sets how often we remove artificial imaginary parts and save values to output (i.e. skip ``skip`` values of ``g`` before doing this)."
   ]
  },
  {
   "cell_type": "code",
   "execution_count": 7,
   "metadata": {},
   "outputs": [],
   "source": [
    "dg = 0.01/N # step size of g. Scaling with N instead of L because increasing N increases difficulty\n",
    "g0 = .01*dg # initial value of g\n",
    "imk = dg # scale of the imaginary parts added to k\n",
    "imv = .01*g0 # scale of the imaginary parts used in the initial guess\n",
    "\n",
    "skip=4*N # it's harder for larger N, so let's make it easy on us"
   ]
  },
  {
   "cell_type": "markdown",
   "metadata": {},
   "source": [
    "Solving the Richardson-Gaudin equations.\n",
    "\n",
    "Watch out, this could take a while. It will increment ``g`` from ``g0`` until\n",
    "it has trouble converging, at which point it switches to incrementing ``1/g``.\n",
    "\n",
    "Also, ignore things that look like error messages. \n",
    "\n",
    "## Wait for the evaluation to complete!\n",
    "## The [*]: to the left of this should turn into a number [x]:"
   ]
  },
  {
   "cell_type": "code",
   "execution_count": 8,
   "metadata": {},
   "outputs": [
    {
     "name": "stdout",
     "output_type": "stream",
     "text": [
      "Initial guesses:\n",
      "[0.3926978 +0.00083334j 0.3926978 +0.00083332j 1.17808568-0.00083331j\n",
      " 1.17808568-0.00083334j 1.96346328+0.00083334j 1.96346328+0.0008333j ]\n",
      "[0.39269865+0.00083307j 0.39269865+0.0008336j  1.17809339-0.00083386j\n",
      " 1.17809339-0.0008328j  1.9634847 +0.00083253j 1.9634847 +0.00083413j]\n",
      "Incrementing from 8.333333333333334e-06 to 1.4323944878270585\n",
      "Bootstrapping from 4 to 12 fermions\n",
      "\n",
      "Now using 4 fermions\n",
      "\n",
      "Bad initial guess. Trying with noise.\n",
      "g = 8.333333333333334e-06, er = 0.003421747917500812\n",
      "1th try at g = 8.333333333333334e-06\n",
      "Smallest error from last set: 0.003421747917500812\n",
      "Noise ranges from -5.422201414894421e-08 to 9.086415097576986e-08\n",
      "3th try at g = 8.333333333333334e-06\n",
      "Smallest error from last set: 0.0022982480676164655\n",
      "Noise ranges from -8.625243960557066e-08 to 9.300073444826062e-08\n",
      "Error with 4 fermions: 2.957312972284853e-11\n",
      "\n",
      "Now using 8 fermions\n",
      "\n",
      "Bad initial guess. Trying with noise.\n",
      "g = 8.333333333333334e-06, er = 0.004011910782862554\n",
      "1th try at g = 8.333333333333334e-06\n",
      "Smallest error from last set: 0.004011910782862554\n",
      "Noise ranges from -3.388558101851269e-08 to 1.0812940653267717e-08\n",
      "3th try at g = 8.333333333333334e-06\n",
      "Smallest error from last set: 0.004590363156253777\n",
      "Noise ranges from -8.498080531410478e-08 to 7.086068792947288e-08\n",
      "5th try at g = 8.333333333333334e-06\n",
      "Smallest error from last set: 0.00230890472671393\n",
      "Noise ranges from -8.304388759719052e-08 to 8.773878277754875e-08\n",
      "7th try at g = 8.333333333333334e-06\n",
      "Smallest error from last set: 0.002826055957203876\n",
      "Noise ranges from -4.20185866098106e-08 to 1.1165924447821071e-07\n",
      "9th try at g = 8.333333333333334e-06\n",
      "Smallest error from last set: 0.0024773337236555252\n",
      "Noise ranges from -1.1100127628249969e-07 to 4.151267321967526e-08\n",
      "Error with 8 fermions: 3.922317934335063e-11\n",
      "\n",
      "Now using 12 fermions\n",
      "\n",
      "Bad initial guess. Trying with noise.\n",
      "g = 8.333333333333334e-06, er = 0.0043109215455513685\n",
      "1th try at g = 8.333333333333334e-06\n",
      "Smallest error from last set: 0.0043109215455513685\n",
      "Noise ranges from -1.502185045370398e-08 to 6.805489109927908e-08\n",
      "3th try at g = 8.333333333333334e-06\n",
      "Smallest error from last set: 0.004241691017820279\n",
      "Noise ranges from -8.994955998958087e-08 to 2.4906954028184424e-08\n",
      "5th try at g = 8.333333333333334e-06\n",
      "Smallest error from last set: 0.004089136002466187\n",
      "Noise ranges from -1.0414103663860185e-07 to 7.685752673702994e-08\n",
      "Error with 12 fermions: 6.051292681756119e-11\n",
      "Changing dg from 0.0008333333333333334 to 0.0016666666666666668\n",
      "Changing dg from 0.0016666666666666668 to 0.0033333333333333335\n",
      "Changing dg from 0.0033333333333333335 to 0.006666666666666667\n",
      "Changing dg from 0.006666666666666667 to 0.013333333333333334\n",
      "Changing dg from 0.013333333333333334 to 0.006666666666666667\n",
      "Stepping back from 0.07834166666666667 to 0.06500833333333333\n",
      "Changing dg from 0.0013333333333333335 to 0.002666666666666667\n",
      "Changing dg from 0.002666666666666667 to 0.005333333333333334\n",
      "Changing dg from 0.005333333333333334 to 0.002666666666666667\n",
      "Stepping back from 0.07434166666666667 to 0.06900833333333334\n",
      "Changing dg from 0.0005333333333333335 to 0.001066666666666667\n",
      "Changing dg from 0.001066666666666667 to 0.002133333333333334\n",
      "Changing dg from 0.002133333333333334 to 0.001066666666666667\n",
      "Stepping back from 0.07274166666666666 to 0.07060833333333333\n",
      "Changing dg from 0.0002133333333333334 to 0.0004266666666666668\n",
      "Changing dg from 0.0004266666666666668 to 0.0008533333333333335\n",
      "Changing dg from 0.0008533333333333335 to 0.001706666666666667\n",
      "Changing dg from 0.001706666666666667 to 0.0008533333333333335\n",
      "Stepping back from 0.07380833333333332 to 0.07210166666666666\n",
      "Changing dg from 0.00017066666666666673 to 0.00034133333333333346\n",
      "Changing dg from 0.00034133333333333346 to 0.00017066666666666673\n",
      "Stepping back from 0.07261366666666666 to 0.07227233333333333\n",
      "Changing dg from 3.413333333333335e-05 to 6.82666666666667e-05\n",
      "Changing dg from 6.82666666666667e-05 to 0.0001365333333333334\n",
      "Changing dg from 0.0001365333333333334 to 0.0002730666666666668\n",
      "Changing dg from 0.0002730666666666668 to 0.0005461333333333336\n",
      "Changing dg from 0.0005461333333333336 to 0.0010922666666666671\n",
      "Changing dg from 0.0010922666666666671 to 0.0021845333333333342\n",
      "Changing dg from 0.0021845333333333342 to 0.0043690666666666685\n",
      "Changing dg from 0.0043690666666666685 to 0.008738133333333337\n",
      "Changing dg from 0.008738133333333337 to 0.017476266666666674\n",
      "Changing dg from 0.017476266666666674 to 0.008738133333333337\n",
      "Stepping back from 0.15961953333333337 to 0.14214326666666668\n",
      "Changing dg from 0.0017476266666666676 to 0.003495253333333335\n",
      "Changing dg from 0.003495253333333335 to 0.00699050666666667\n",
      "Changing dg from 0.00699050666666667 to 0.003495253333333335\n",
      "Stepping back from 0.15437665333333336 to 0.1473861466666667\n",
      "Changing dg from 0.0006990506666666671 to 0.0013981013333333341\n",
      "Changing dg from 0.0013981013333333341 to 0.0006990506666666671\n",
      "Stepping back from 0.1494832986666667 to 0.14808519733333336\n",
      "Changing dg from 0.00013981013333333342 to 0.00027962026666666684\n",
      "Removing im(k) at g = 0.14850462773333337\n",
      "Variables after removing im(k)\n",
      "[0.34979407+1.24844456e-18j 0.38032854+1.07241301e-18j\n",
      " 1.17671001-2.10243521e-02j 0.81376231-1.81110968e-01j\n",
      " 0.81376231+1.81110968e-01j 1.17671001+2.10243521e-02j]\n",
      "[0.36416357-0.0087902j  0.36416357+0.0087902j  0.93168877-0.10573235j\n",
      " 0.93168877+0.10573235j 0.95110385-0.2927963j  0.95110385+0.2927963j ]\n",
      "Changing dg from 0.00027962026666666684 to 0.0005592405333333337\n",
      "Changing dg from 0.0005592405333333337 to 0.0011184810666666674\n",
      "Changing dg from 0.0011184810666666674 to 0.0022369621333333347\n",
      "Changing dg from 0.0022369621333333347 to 0.004473924266666669\n",
      "Changing dg from 0.004473924266666669 to 0.008947848533333339\n",
      "Changing dg from 0.008947848533333339 to 0.017895697066666678\n",
      "Removing im(k) at g = 0.7921904816000008\n",
      "Variables after removing im(k)\n",
      "[0.22260272-1.94247537e-17j 0.32523074-4.67017890e-18j\n",
      " 0.35450747-2.33972818e-01j 0.18960475-1.30052877e-01j\n",
      " 0.18960475+1.30052877e-01j 0.35450747+2.33972818e-01j]\n",
      "[0.26243099-0.02629421j 0.26243099+0.02629421j 0.25299782-0.13329138j\n",
      " 0.25299782+0.13329138j 0.19812589-0.20249499j 0.19812589+0.20249499j]\n",
      "Close enough to gf\n",
      "Failed at g = 1.4323944878270585\n",
      "Rolling back to previous value: 1.4144987907603919\n",
      "\n",
      "Done incrementing g. Error:\n",
      "1.102426944458538e-15\n",
      "Now incrementing 1/g!\n",
      "Final q: -2.0943951023931953\n",
      "q = 0.7069641957505175\n",
      "Removing im(k) at q = 0.7069641957505175\n",
      "Changing dq from 0.0008333333333333334 to 0.0016666666666666668\n",
      "q = 0.7052975290838508\n",
      "Changing dq from 0.0016666666666666668 to 0.0033333333333333335\n",
      "q = 0.7019641957505175\n",
      "Changing dq from 0.0033333333333333335 to 0.006666666666666667\n",
      "q = 0.6952975290838508\n",
      "Changing dq from 0.006666666666666667 to 0.013333333333333334\n",
      "q = 0.6819641957505175\n",
      "q = 0.6686308624171842\n",
      "q = 0.6552975290838509\n",
      "q = 0.6419641957505176\n",
      "q = 0.6286308624171842\n",
      "q = 0.6152975290838509\n",
      "q = 0.6019641957505176\n",
      "q = 0.5886308624171843\n",
      "q = 0.575297529083851\n",
      "q = 0.5619641957505177\n",
      "q = 0.5486308624171844\n",
      "q = 0.5352975290838511\n",
      "q = 0.5219641957505178\n",
      "q = 0.5086308624171845\n",
      "q = 0.49529752908385116\n",
      "q = 0.48196419575051785\n",
      "q = 0.46863086241718455\n",
      "q = 0.45529752908385124\n",
      "q = 0.44196419575051793\n",
      "q = 0.4286308624171846\n",
      "q = 0.4152975290838513\n",
      "q = 0.401964195750518\n",
      "q = 0.3886308624171847\n",
      "q = 0.3752975290838514\n",
      "q = 0.3619641957505181\n",
      "q = 0.3486308624171848\n",
      "q = 0.33529752908385146\n",
      "q = 0.32196419575051816\n",
      "q = 0.30863086241718485\n",
      "q = 0.29529752908385154\n",
      "q = 0.28196419575051823\n",
      "q = 0.2686308624171849\n",
      "q = 0.2552975290838516\n",
      "q = 0.24196419575051828\n",
      "q = 0.22863086241718494\n",
      "q = 0.2152975290838516\n",
      "q = 0.20196419575051827\n",
      "Removing im(k) at q = 0.20196419575051827\n",
      "q = 0.18863086241718494\n",
      "q = 0.1752975290838516\n",
      "q = 0.16196419575051826\n",
      "q = 0.14863086241718493\n",
      "q = 0.1352975290838516\n",
      "q = 0.12196419575051826\n",
      "q = 0.10863086241718492\n",
      "q = 0.09529752908385158\n",
      "q = 0.08196419575051825\n",
      "q = 0.06863086241718491\n",
      "q = 0.055297529083851577\n",
      "q = 0.04196419575051824\n",
      "q = 0.028630862417184905\n",
      "q = 0.01529752908385157\n",
      "q = 0.0019641957505182363\n",
      "q = -0.011369137582815098\n",
      "q = -0.024702470916148432\n",
      "q = -0.03803580424948177\n",
      "q = -0.051369137582815104\n",
      "q = -0.06470247091614843\n",
      "q = -0.07803580424948177\n",
      "q = -0.0913691375828151\n",
      "q = -0.10470247091614844\n"
     ]
    },
    {
     "name": "stdout",
     "output_type": "stream",
     "text": [
      "q = -0.11803580424948178\n",
      "q = -0.1313691375828151\n",
      "q = -0.14470247091614843\n",
      "q = -0.15803580424948177\n",
      "q = -0.1713691375828151\n",
      "q = -0.18470247091614844\n",
      "q = -0.19803580424948178\n",
      "q = -0.21136913758281511\n",
      "q = -0.22470247091614845\n",
      "q = -0.23803580424948179\n",
      "q = -0.2513691375828151\n",
      "q = -0.2647024709161484\n",
      "q = -0.2780358042494817\n",
      "q = -0.291369137582815\n",
      "q = -0.3047024709161483\n",
      "q = -0.31803580424948164\n",
      "q = -0.33136913758281494\n",
      "Removing im(k) at q = -0.33136913758281494\n",
      "q = -0.34470247091614825\n",
      "q = -0.35803580424948156\n",
      "q = -0.37136913758281487\n",
      "q = -0.3847024709161482\n",
      "q = -0.3980358042494815\n",
      "q = -0.4113691375828148\n",
      "q = -0.4247024709161481\n",
      "q = -0.4380358042494814\n",
      "q = -0.4513691375828147\n",
      "q = -0.464702470916148\n",
      "q = -0.47803580424948133\n",
      "q = -0.49136913758281464\n",
      "q = -0.504702470916148\n",
      "q = -0.5180358042494813\n",
      "q = -0.5313691375828146\n",
      "q = -0.5447024709161479\n",
      "q = -0.5580358042494812\n",
      "q = -0.5713691375828145\n",
      "q = -0.5847024709161478\n",
      "q = -0.5980358042494811\n",
      "q = -0.6113691375828144\n",
      "q = -0.6247024709161477\n",
      "q = -0.638035804249481\n",
      "q = -0.6513691375828143\n",
      "q = -0.6647024709161476\n",
      "q = -0.678035804249481\n",
      "q = -0.6913691375828143\n",
      "q = -0.7047024709161476\n",
      "q = -0.7180358042494809\n",
      "q = -0.7313691375828142\n",
      "q = -0.7447024709161475\n",
      "q = -0.7580358042494808\n",
      "q = -0.7713691375828141\n",
      "q = -0.7847024709161474\n",
      "q = -0.7980358042494807\n",
      "q = -0.811369137582814\n",
      "q = -0.8247024709161473\n",
      "q = -0.8380358042494807\n",
      "q = -0.851369137582814\n",
      "q = -0.8647024709161473\n",
      "Removing im(k) at q = -0.8647024709161473\n",
      "q = -0.8780358042494806\n",
      "q = -0.8913691375828139\n",
      "q = -0.9047024709161472\n",
      "q = -0.9180358042494805\n",
      "q = -0.9313691375828138\n",
      "q = -0.9447024709161471\n",
      "q = -0.9580358042494804\n",
      "q = -0.9713691375828137\n",
      "q = -0.984702470916147\n",
      "q = -0.9980358042494804\n",
      "q = -1.0113691375828138\n",
      "q = -1.0247024709161472\n",
      "q = -1.0380358042494806\n",
      "q = -1.051369137582814\n",
      "q = -1.0647024709161474\n",
      "q = -1.0780358042494809\n",
      "q = -1.0913691375828143\n",
      "q = -1.1047024709161477\n",
      "q = -1.1180358042494811\n",
      "q = -1.1313691375828145\n",
      "q = -1.144702470916148\n",
      "q = -1.1580358042494814\n",
      "q = -1.1713691375828148\n",
      "q = -1.1847024709161482\n",
      "q = -1.1980358042494816\n",
      "q = -1.211369137582815\n",
      "q = -1.2247024709161485\n",
      "q = -1.238035804249482\n",
      "q = -1.2513691375828153\n",
      "q = -1.2647024709161487\n",
      "q = -1.2780358042494822\n",
      "q = -1.2913691375828156\n",
      "q = -1.304702470916149\n",
      "q = -1.3180358042494824\n",
      "q = -1.3313691375828158\n",
      "q = -1.3447024709161493\n",
      "q = -1.3580358042494827\n",
      "q = -1.371369137582816\n",
      "q = -1.3847024709161495\n",
      "q = -1.398035804249483\n",
      "Removing im(k) at q = -1.398035804249483\n",
      "q = -1.4113691375828163\n",
      "q = -1.4247024709161498\n",
      "q = -1.4380358042494832\n",
      "q = -1.4513691375828166\n",
      "q = -1.46470247091615\n",
      "q = -1.4780358042494834\n",
      "q = -1.4913691375828169\n",
      "q = -1.5047024709161503\n",
      "q = -1.5180358042494837\n",
      "q = -1.5313691375828171\n",
      "q = -1.5447024709161505\n",
      "q = -1.558035804249484\n",
      "q = -1.5713691375828174\n",
      "q = -1.5847024709161508\n",
      "q = -1.5980358042494842\n",
      "q = -1.6113691375828176\n",
      "q = -1.624702470916151\n",
      "q = -1.6380358042494845\n",
      "q = -1.651369137582818\n",
      "q = -1.6647024709161513\n",
      "q = -1.6780358042494847\n",
      "q = -1.6913691375828181\n",
      "q = -1.7047024709161516\n",
      "q = -1.718035804249485\n",
      "q = -1.7313691375828184\n",
      "q = -1.7447024709161518\n",
      "q = -1.7580358042494852\n",
      "q = -1.7713691375828187\n",
      "q = -1.784702470916152\n",
      "q = -1.7980358042494855\n",
      "q = -1.811369137582819\n",
      "q = -1.8247024709161523\n",
      "q = -1.8380358042494858\n",
      "q = -1.8513691375828192\n",
      "q = -1.8647024709161526\n",
      "q = -1.878035804249486\n",
      "q = -1.8913691375828194\n",
      "q = -1.9047024709161529\n",
      "q = -1.9180358042494863\n",
      "q = -1.9313691375828197\n",
      "Removing im(k) at q = -1.9313691375828197\n",
      "q = -1.9447024709161531\n",
      "q = -1.9580358042494865\n",
      "q = -1.97136913758282\n",
      "q = -1.9847024709161534\n",
      "q = -1.9980358042494868\n",
      "q = -2.01136913758282\n",
      "q = -2.024702470916153\n",
      "q = -2.0380358042494864\n",
      "q = -2.0513691375828196\n",
      "q = -2.0647024709161528\n",
      "q = -2.078035804249486\n",
      "SKIPPING TO QF\n",
      "q = -2.0943951023931953\n",
      "Removing im(k) at q = -2.0943951023931953\n",
      "DID QF!!!!!!!!!\n",
      "Terminated at q = -2.0943951023931953\n",
      "Error: 4.650491330678175e-15\n",
      "Calculating R_k, energy\n",
      "\n",
      "['!', '!', '!', '!', '!', '!', '!', '!', '!', '!', '!', '!', '!', '!', '!', '!', '!', '!', '!', '!', '!', '!', '!', '!', '!', '!', '!', '!', '!', '!', '!', '!', '!', '!', '!', '!', '!', '!', '!', '!']\n",
      "Finished!\n",
      "['!', '!', '!', '!', '!', '!', '!', '!', '!', '!', '!', '!', '!', '!', '!', '!', '!', '!', '!', '!', '!', '!', '!', '!', '!', '!', '!', '!', '!', '!', '!', '!', '!', '!', '!', '!', '!', '!', '!', '!']\n"
     ]
    }
   ],
   "source": [
    "if G_final > 1./np.sum(k):\n",
    "    # Need to use different code to pass the critical point\n",
    "    output_df = solve_rgEqs_2(dims, G_final, k, dg=dg, g0=g0, imscale_k=imk,\n",
    "                              imscale_v=imv, skip=skip)\n",
    "else:\n",
    "    # Can just increment g\n",
    "    output_df = solve_rgEqs(dims, G_final, k, dg=dg, g0=g0, imscale_k=imk,\n",
    "                            imscale_v=imv, skip=1)"
   ]
  },
  {
   "cell_type": "markdown",
   "metadata": {},
   "source": [
    "OK, that took a while. If there's a big pink error message about division by zero, ignore it for now.\n",
    "\n",
    "If you see an error that says something about child processes, I suggest restarting the kernel and rerunning.\n",
    "\n",
    "Let's look at the output, stored in a Pandas DataFrame.\n",
    "\n",
    "To store it as a CSV, uncomment lines 2 and 3 below and input a filename when prompted. Line 4 is an example of how to load the data (or other CSV data) into a Pandas dataframe."
   ]
  },
  {
   "cell_type": "code",
   "execution_count": 9,
   "metadata": {},
   "outputs": [
    {
     "name": "stdout",
     "output_type": "stream",
     "text": [
      "          g         G   Re(e_0)       Im(e_0)  Re(omega_0)  Im(omega_0)  \\\n",
      "0  0.148505  0.076823  0.349794  1.248445e-18     0.364164    -0.008790   \n",
      "1  0.792190  0.132529  0.222603 -1.942475e-17     0.262431    -0.026294   \n",
      "2  1.414499  0.143058  0.143624 -2.936424e-10     0.174825    -0.023114   \n",
      "3  4.951373  0.154198  0.046627 -4.217845e-10     0.058426    -0.009354   \n",
      "4 -3.017783  0.168016 -0.087926  5.958361e-11    -0.113783     0.021814   \n",
      "5 -1.156467  0.184554 -0.265316 -1.324953e-09    -0.355372     0.081420   \n",
      "6 -0.715289  0.204702 -0.499343 -3.695356e-09    -0.693931     0.191949   \n",
      "7 -0.517767  0.229789 -0.810517  5.887446e-09    -1.171765     0.401017   \n",
      "8 -0.477465  0.238732 -0.925813 -1.746834e-09    -1.355148     0.498931   \n",
      "\n",
      "    Re(e_1)       Im(e_1)  Re(omega_1)  Im(omega_1)  ...  Im(omega_5)  \\\n",
      "0  0.380329  1.072413e-18     0.364164     0.008790  ...     0.292796   \n",
      "1  0.325231 -4.670179e-18     0.262431     0.026294  ...     0.202495   \n",
      "2  0.243305 -1.014302e-10     0.174825     0.023114  ...     0.133116   \n",
      "3  0.089443 -4.393569e-10     0.058426     0.009354  ...     0.043811   \n",
      "4 -0.195112 -4.228227e-10    -0.113783    -0.021814  ...    -0.082432   \n",
      "5 -0.711419 -1.208417e-09    -0.355372    -0.081420  ...    -0.241253   \n",
      "6 -1.764422 -1.828218e-08    -0.693931    -0.191949  ...    -0.424278   \n",
      "7 -4.643894  9.796625e-08    -1.171765    -0.401017  ...    -0.616225   \n",
      "8 -6.802995  8.179739e-08    -1.355148    -0.498931  ...    -0.673965   \n",
      "\n",
      "      energy       R_0       N_0       R_1       N_1       R_2       N_2  \\\n",
      "0   5.665667  1.884963  3.863765  1.652828  3.377305  1.393058  2.769715   \n",
      "1  -2.119973  1.681594  3.691226  1.497546  3.190922  1.428604  2.781192   \n",
      "2  -3.699428  1.618266  3.490816  1.491405  3.006115  1.454104  2.805921   \n",
      "3  -5.409898  1.539120  3.589535  1.495046  2.953518  1.485111  2.771890   \n",
      "4  -7.593642  1.425298  2.210156  1.513444  3.182655  1.527708  3.284240   \n",
      "5 -10.300853  1.280132  1.855919  1.549258  3.306957  1.579469  3.401507   \n",
      "6 -13.712223  1.122094  1.355587  1.596429  3.478560  1.633797  3.567488   \n",
      "7 -18.062755  0.976152  0.967436  1.644082  3.619379  1.682852  3.694010   \n",
      "8 -19.629330  0.936076  0.922599  1.657619  3.635985  1.696195  3.708523   \n",
      "\n",
      "        R_3       N_3  \n",
      "0  1.069151  1.989215  \n",
      "1  1.392256  2.336660  \n",
      "2  1.436225  2.697148  \n",
      "3  1.480722  2.685057  \n",
      "4  1.533550  3.322948  \n",
      "5  1.591141  3.435617  \n",
      "6  1.647681  3.598364  \n",
      "7  1.696914  3.719174  \n",
      "8  1.710110  3.732893  \n",
      "\n",
      "[9 rows x 35 columns]\n"
     ]
    }
   ],
   "source": [
    "print(output_df)\n",
    "# filename = input('Name to save file to: ')\n",
    "# output_df.to_csv(filename)\n",
    "# new_df = pd.load_csv(filename)"
   ]
  },
  {
   "cell_type": "markdown",
   "metadata": {},
   "source": [
    "# Using the results\n",
    "\n",
    "## Pairons\n",
    "\n",
    "Let's make a plot of the pairons. First, we need to get the results from the DataFrame. In output_df, the results for each pairon's real and imaginary part is stored as a row, with a name like ``Re(omega_0)``. To get one row, we can do as follows:"
   ]
  },
  {
   "cell_type": "code",
   "execution_count": 10,
   "metadata": {},
   "outputs": [
    {
     "data": {
      "text/plain": [
       "0    0.349794\n",
       "1    0.222603\n",
       "2    0.143624\n",
       "3    0.046627\n",
       "4   -0.087926\n",
       "5   -0.265316\n",
       "6   -0.499343\n",
       "7   -0.810517\n",
       "8   -0.925813\n",
       "Name: Re(e_0), dtype: float64"
      ]
     },
     "execution_count": 10,
     "metadata": {},
     "output_type": "execute_result"
    }
   ],
   "source": [
    "output_df['Re(e_0)']"
   ]
  },
  {
   "cell_type": "markdown",
   "metadata": {},
   "source": [
    "I don't want to do this for every column I'm interested in. Let's make lists of these column names:"
   ]
  },
  {
   "cell_type": "code",
   "execution_count": 11,
   "metadata": {},
   "outputs": [
    {
     "name": "stdout",
     "output_type": "stream",
     "text": [
      "['Re(e_0)', 'Re(e_1)', 'Re(e_2)', 'Re(e_3)', 'Re(e_4)', 'Re(e_5)']\n",
      "['Im(e_0)', 'Im(e_1)', 'Im(e_2)', 'Im(e_3)', 'Im(e_4)', 'Im(e_5)']\n",
      "['Re(omega_0)', 'Re(omega_1)', 'Re(omega_2)', 'Re(omega_3)', 'Re(omega_4)', 'Re(omega_5)']\n",
      "['Im(omega_0)', 'Im(omega_1)', 'Im(omega_2)', 'Im(omega_3)', 'Im(omega_4)', 'Im(omega_5)']\n"
     ]
    }
   ],
   "source": [
    "real_e_index = ['Re(e_{})'.format(i) for i in range(Nup)]\n",
    "im_e_index = ['Im(e_{})'.format(i) for i in range(Nup)]\n",
    "real_w_index = ['Re(omega_{})'.format(i) for i in range(Ndown)]\n",
    "im_w_index = ['Im(omega_{})'.format(i) for i in range(Ndown)]\n",
    "\n",
    "# Is this the thing we wanted?\n",
    "print(real_e_index)\n",
    "print(im_e_index)\n",
    "print(real_w_index)\n",
    "print(im_w_index)"
   ]
  },
  {
   "cell_type": "markdown",
   "metadata": {},
   "source": [
    "Let's make a plot with labels and titles and legends!"
   ]
  },
  {
   "cell_type": "code",
   "execution_count": 12,
   "metadata": {},
   "outputs": [
    {
     "data": {
      "image/png": "[encoded data removed]",
      "text/plain": [
       "<Figure size 864x864 with 2 Axes>"
      ]
     },
     "metadata": {
      "needs_background": "light"
     },
     "output_type": "display_data"
    }
   ],
   "source": [
    "plt.figure(figsize=(12,12)) # Making a bigger figure for the plots\n",
    "\n",
    "markers = ['1', '2', '3', '4', 'x', '+', '.', 'v', '^'] \n",
    "# using different shapes for the markers so we can see stacked results\n",
    "\n",
    "plt.subplot(2,1,1) # Making 2 subplots, first for real parts\n",
    "for i, ind in enumerate(real_e_index):\n",
    "    # Plotting like before, but now assigning labels for the legend\n",
    "    # Luckily, our rownames are decent labels already\n",
    "    plt.scatter(output_df['G']*L, output_df[ind], label=ind, marker=markers[i]) \n",
    "# Doing the same for real parts of omega\n",
    "for i, ind in enumerate(real_w_index): \n",
    "    plt.scatter(output_df['G']*L, output_df[ind], label=ind, marker=markers[i]) \n",
    "\n",
    "# Let's plot a horizontal line at 0\n",
    "plt.axhline(0)\n",
    "\n",
    "# Let's make a thin, vertical, dotted/dashed, magenta line at G_c\n",
    "g_c = L/np.sum(k)\n",
    "plt.axvline(g_c, ls='-.', color='magenta', linewidth=.5)\n",
    "    \n",
    "# Making axes labels\n",
    "plt.title('Real parts of the pairons for L = {}, Nup = {}, Ndown = {}'.format(L, Nup, Ndown))\n",
    "plt.xlabel('GL')\n",
    "plt.ylabel('Real part')\n",
    "plt.legend() \n",
    "    \n",
    "plt.subplot(2,1,2) # Now moving to a second subplot\n",
    "for i, ind in enumerate(im_e_index):\n",
    "    plt.scatter(output_df['G']*L, output_df[ind], label=ind, marker=markers[i]) \n",
    "for i, ind in enumerate(im_w_index): \n",
    "    plt.scatter(output_df['G']*L, output_df[ind], label=ind, marker=markers[i]) \n",
    "\n",
    "plt.axhline(0)\n",
    "plt.axvline(g_c, ls='-.', color='magenta', linewidth=.5)    \n",
    "    \n",
    "plt.title('Imaginary parts of the pairons for L = {}, Nup = {}, Ndown = {}'.format(L, Nup, Ndown))\n",
    "plt.xlabel('GL')\n",
    "plt.ylabel('Imaginary part')\n",
    "plt.legend()\n",
    "\n",
    "plt.show()"
   ]
  },
  {
   "cell_type": "markdown",
   "metadata": {},
   "source": [
    "We can change the limits of the axes to get a closer look at the behavior around G_c:"
   ]
  },
  {
   "cell_type": "code",
   "execution_count": 13,
   "metadata": {},
   "outputs": [
    {
     "data": {
      "image/png": "[encoded data removed]",
      "text/plain": [
       "<Figure size 576x576 with 1 Axes>"
      ]
     },
     "metadata": {
      "needs_background": "light"
     },
     "output_type": "display_data"
    }
   ],
   "source": [
    "plt.figure(figsize=(8,8))\n",
    "\n",
    "plt.axvline(g_c, ls = '--', color='lightgray')\n",
    "plt.axhline(0, ls = '--', color='lightgray')\n",
    "\n",
    "for i, ind in enumerate(real_e_index):\n",
    "    # s is the size of the marks (not sure the units)\n",
    "    # Let's make them bigger!\n",
    "    plt.scatter(output_df['G']*L, output_df[ind], label=ind, marker=markers[i], s=100) \n",
    "for i, ind in enumerate(real_w_index): \n",
    "    plt.scatter(output_df['G']*L, output_df[ind], label=ind, marker=markers[i], s=100) \n",
    "for i, ind in enumerate(im_e_index):\n",
    "    plt.scatter(output_df['G']*L, output_df[ind], label=ind, marker=markers[i], s=100) \n",
    "for i, ind in enumerate(im_w_index): \n",
    "    plt.scatter(output_df['G']*L, output_df[ind], label=ind, marker=markers[i], s=100) \n",
    "    \n",
    "plt.xlim(0.95*g_c, 1.05*g_c) # Looking within 5% of g_c\n",
    "plt.ylim(-0.2, 0.2) # You might need to change these values\n",
    "\n",
    "plt.legend()\n",
    "plt.xlabel('GL')\n",
    "\n",
    "plt.title('Real and imaginary parts around G_c')\n",
    "plt.show()"
   ]
  },
  {
   "cell_type": "markdown",
   "metadata": {},
   "source": [
    "## Energy\n",
    "We can also plot energy (and other things). Let's get the energy and derivatives from the output DataFrame.\n",
    "\n",
    "Again, if there is a division by zero error, ignore it for now. This occurs if we are taking the derivative of something too close to vertical."
   ]
  },
  {
   "cell_type": "code",
   "execution_count": 14,
   "metadata": {},
   "outputs": [
    {
     "name": "stdout",
     "output_type": "stream",
     "text": [
      "Taking 1st derivative\n",
      "Taking 2nd derivative\n",
      "Taking 3rd derivative\n"
     ]
    }
   ],
   "source": [
    "Es = output_df['energy']\n",
    "Gs = output_df['G']\n",
    "# Rescaling by appropriate factors of L\n",
    "es = Es/L\n",
    "gs = Gs*L # different than g in previous plot\n",
    "\n",
    "print('Taking 1st derivative')\n",
    "de = np.gradient(es, gs) # derivative de/dg\n",
    "print('Taking 2nd derivative')\n",
    "d2e = np.gradient(de, gs) # second derivative\n",
    "print('Taking 3rd derivative')\n",
    "d3e = np.gradient(d2e, gs) # third"
   ]
  },
  {
   "cell_type": "markdown",
   "metadata": {},
   "source": [
    "Now, let's make a 2-by-2 plot with the energy and derivatives."
   ]
  },
  {
   "cell_type": "code",
   "execution_count": 15,
   "metadata": {},
   "outputs": [
    {
     "data": {
      "image/png": "[encoded data removed]",
      "text/plain": [
       "<Figure size 864x864 with 4 Axes>"
      ]
     },
     "metadata": {
      "needs_background": "light"
     },
     "output_type": "display_data"
    }
   ],
   "source": [
    "plt.figure(figsize=(12, 12))\n",
    "\n",
    "plt.subplot(2, 2, 1)\n",
    "plt.scatter(gs, es)\n",
    "plt.xlabel('g')\n",
    "plt.ylabel('e')\n",
    "plt.axvline(g_c, ls=':', color='magenta')\n",
    "\n",
    "plt.subplot(2, 2, 2)\n",
    "plt.scatter(gs, de)\n",
    "plt.xlabel('g')\n",
    "plt.ylabel('de/dg')\n",
    "plt.axvline(g_c, ls=':', color='magenta')\n",
    "\n",
    "\n",
    "plt.subplot(2, 2, 3)\n",
    "plt.scatter(gs, d2e)\n",
    "plt.xlabel('g')\n",
    "plt.ylabel('d^2e/dg^2')\n",
    "plt.axvline(g_c, ls=':', color='magenta')\n",
    "plt.xlim(0.3, 1.0)\n",
    "\n",
    "\n",
    "plt.subplot(2, 2, 4)\n",
    "plt.scatter(gs, d3e)\n",
    "plt.xlabel('g')\n",
    "plt.ylabel('d^3e/dg^3')\n",
    "plt.axvline(g_c, ls=':', color='magenta')\n",
    "plt.xlim(0.3, 1.0) \n",
    "# Behavior around G=0 is weird but this is due to truncation and inaccuracies in the solution around that point\n",
    "\n",
    "plt.show()"
   ]
  },
  {
   "cell_type": "markdown",
   "metadata": {},
   "source": [
    "## Momentum Distribution\n",
    "\n",
    "Let's look at the momentum distribution within $5\\%$ of my prediction for $G_c$."
   ]
  },
  {
   "cell_type": "code",
   "execution_count": 16,
   "metadata": {},
   "outputs": [
    {
     "data": {
      "image/png": "[encoded data removed]",
      "text/plain": [
       "<Figure size 864x576 with 1 Axes>"
      ]
     },
     "metadata": {
      "needs_background": "light"
     },
     "output_type": "display_data"
    }
   ],
   "source": [
    "N_inds = ['N_{}'.format(i) for i in range(L)]\n",
    "\n",
    "plt.figure(figsize=(12, 8))\n",
    "\n",
    "for i, G in enumerate(Gs):\n",
    "    if 0.95 < G*L/g_c < 1.05: # Only selecting within 2% of G_c\n",
    "        plt.plot(k, output_df[N_inds].iloc[i], \n",
    "                label='g = {}'.format(np.round(G*L, 3)), # rounding the label to 3 decimal places\n",
    "                 marker='o') # Putting a dot at each data point\n",
    "plt.xlabel('k')\n",
    "plt.ylabel('N_k')\n",
    "plt.legend()\n",
    "plt.xlim(0, np.pi)\n",
    "plt.show()"
   ]
  },
  {
   "cell_type": "markdown",
   "metadata": {},
   "source": [
    "At precisely the critical coupling, it seems like Jorge's prediction of perfectly flat distribution is true, just not at the coupling he predicted.\n",
    "\n",
    "To get a better sense of overall behavior, we can plot at a wider range of coupling. To make sure we don't end up with too many lines, I'll only plot once every 5 datapoints."
   ]
  },
  {
   "cell_type": "code",
   "execution_count": 18,
   "metadata": {},
   "outputs": [
    {
     "data": {
      "image/png": "[encoded data removed]",
      "text/plain": [
       "<Figure size 576x576 with 1 Axes>"
      ]
     },
     "metadata": {
      "needs_background": "light"
     },
     "output_type": "display_data"
    }
   ],
   "source": [
    "plt.figure(figsize=(8,8))        \n",
    "\n",
    "for i, G in enumerate(Gs):\n",
    "    if i%5 == 0: # Only using indices that are multiples of 5\n",
    "        plt.plot(k, output_df[N_inds].iloc[i], \n",
    "                label='g = {}'.format(np.round(G*L, 3)), # rounding the label to 3 decimal places\n",
    "                 marker='o') # Putting a dot at each data point\n",
    "\n",
    "plt.xlabel('k')\n",
    "plt.ylabel('N_k')\n",
    "plt.legend()\n",
    "plt.xlim(0, np.pi)\n",
    "plt.ylim(0, 4) # Limits on values of N_k = n_{k up} + n_{k down} + n_{-k up} + n_{-k down}\n",
    "plt.show()"
   ]
  },
  {
   "cell_type": "markdown",
   "metadata": {},
   "source": [
    "# Checking results with exact diagonalization\n",
    "\n",
    "To use my exact-diagonalization code, you will need the [Quspin package](https://weinbe58.github.io/QuSpin/).\n",
    "First, we import functions from my exact-diagonalization code and create a basis for ``Nup`` spin up and ``Ndown``\n",
    "spin down fermions on a 1-d lattice with ``2L`` sites (since ``L`` counts only positive $k$):"
   ]
  },
  {
   "cell_type": "code",
   "execution_count": 19,
   "metadata": {},
   "outputs": [],
   "source": [
    "from exact_diag import ham_op_2, find_nk, form_basis, casimir_dict, iom_dict, quantum_operator\n",
    "basis = form_basis(2*L, Nup, Ndown)"
   ]
  },
  {
   "cell_type": "markdown",
   "metadata": {},
   "source": [
    "Now, we create a Hamiltonian (as Quspin ``quantum_operator`` object) corresponding to our final coupling."
   ]
  },
  {
   "cell_type": "code",
   "execution_count": 20,
   "metadata": {},
   "outputs": [
    {
     "name": "stdout",
     "output_type": "stream",
     "text": [
      "Hermiticity check passed!\n",
      "Symmetry checks passed!\n",
      "Particle conservation check passed!\n"
     ]
    }
   ],
   "source": [
    "H = ham_op_2(L, G_final, k, basis=basis)"
   ]
  },
  {
   "cell_type": "markdown",
   "metadata": {},
   "source": [
    "We can diagonalize this Hamiltonian. Let's do full diagonalization if the dimension of the Hilbert space is\n",
    "less than 4000, and do sparse diagonalization to only get the 10 lowest-energy states if it's larger than that."
   ]
  },
  {
   "cell_type": "code",
   "execution_count": 21,
   "metadata": {},
   "outputs": [
    {
     "name": "stdout",
     "output_type": "stream",
     "text": [
      "Dimension of the Hilbert space:\n",
      "784\n"
     ]
    },
    {
     "data": {
      "image/png": "[encoded data removed]",
      "text/plain": [
       "<Figure size 432x288 with 1 Axes>"
      ]
     },
     "metadata": {
      "needs_background": "light"
     },
     "output_type": "display_data"
    }
   ],
   "source": [
    "dim_h = basis.Ns\n",
    "print('Dimension of the Hilbert space:')\n",
    "print(dim_h)\n",
    "\n",
    "if dim_h > 4000:\n",
    "    exact_energies, exact_states = H.eigsh(k=10, which='SA') # k is number of states to find, SA means find the smallest algabraic eigenvalues\n",
    "else:\n",
    "    exact_energies, exact_states = H.eigh() # Full diagonalization of a Hermitian matrix\n",
    "    \n",
    "# Creating a histogram of the energies\n",
    "plt.hist(exact_energies, bins=dim_h//50)\n",
    "plt.xlabel('Energy')\n",
    "plt.ylabel('Number of states')\n",
    "plt.title('Histogram of energies at G = {}'.format(G_final))\n",
    "plt.show()"
   ]
  },
  {
   "cell_type": "markdown",
   "metadata": {},
   "source": [
    "Let's compare the ground state energy from ED to the final ground state energy from the RG equations:"
   ]
  },
  {
   "cell_type": "code",
   "execution_count": 22,
   "metadata": {},
   "outputs": [
    {
     "name": "stdout",
     "output_type": "stream",
     "text": [
      "ED ground state energy\n",
      "-19.629329962580005\n",
      "RG ground state energy\n",
      "-19.629329959299803\n",
      "Difference\n",
      "-3.2802027760681085e-09\n"
     ]
    }
   ],
   "source": [
    "print('ED ground state energy')\n",
    "print(exact_energies[0]) \n",
    "\n",
    "print('RG ground state energy')\n",
    "print(output_df['energy'].iloc[-1])\n",
    "\n",
    "print('Difference')\n",
    "print(exact_energies[0] - output_df['energy'].iloc[-1])"
   ]
  },
  {
   "cell_type": "markdown",
   "metadata": {},
   "source": [
    "Now let's plot the difference between energies at various couplings."
   ]
  },
  {
   "cell_type": "code",
   "execution_count": 23,
   "metadata": {},
   "outputs": [
    {
     "name": "stdout",
     "output_type": "stream",
     "text": [
      "Hermiticity check passed!\n",
      "Symmetry checks passed!\n",
      "Particle conservation check passed!\n",
      "Hermiticity check passed!\n",
      "Symmetry checks passed!\n",
      "Particle conservation check passed!\n"
     ]
    },
    {
     "data": {
      "image/png": "[encoded data removed]",
      "text/plain": [
       "<Figure size 432x288 with 1 Axes>"
      ]
     },
     "metadata": {
      "needs_background": "light"
     },
     "output_type": "display_data"
    }
   ],
   "source": [
    "diffs = []\n",
    "divisible_Gs = []\n",
    "for i, G in enumerate(Gs):\n",
    "    if i%5 == 0: # Only using indices that are multiples of 15\n",
    "        h = ham_op_2(L, G, k, basis=basis)\n",
    "        e, v = h.eigsh(k=1, which = 'SA') # we only need the 0th energy\n",
    "        diffs += [e[0] - output_df['energy'].iloc[i]]\n",
    "        divisible_Gs += [G]\n",
    "         \n",
    "plt.plot(np.array(divisible_Gs)*L, diffs, marker='o')\n",
    "plt.xlabel('GL')\n",
    "plt.ylabel('Energy difference')\n",
    "# plt.ylim(-10**-12, 10**-12)\n",
    "plt.show()"
   ]
  },
  {
   "cell_type": "markdown",
   "metadata": {},
   "source": [
    "If you chose $GL < 0$, you should have noticed a drop in accuracy around $GL = 1.5$. This coincides with\n",
    "a loss of accuracy in the integrals of motion"
   ]
  },
  {
   "cell_type": "code",
   "execution_count": 24,
   "metadata": {},
   "outputs": [
    {
     "name": "stdout",
     "output_type": "stream",
     "text": [
      "Index of IOM to check: 3\n",
      "Hermiticity check passed!\n",
      "Symmetry checks passed!\n",
      "Particle conservation check passed!\n",
      "p_k1, m_k1 = 7, 0\n",
      "Hermiticity check passed!\n",
      "Symmetry checks passed!\n",
      "Particle conservation check passed!\n",
      "(1.0691508777643999+0j)\n",
      "1.0691508777644052\n"
     ]
    }
   ],
   "source": [
    "iom_inds = ['R_{}'.format(i) for i in range(4)]\n",
    "which_iom = int(input('Index of IOM to check: '))\n",
    "ground_ioms = [] # Exp. value of the IOM operator in the ground state\n",
    "rg_ioms = [] # IOM eigenvalues from RG. Should be the same as \"lowest_ioms\"\n",
    "Gss = []\n",
    "for i, G in enumerate(Gs):\n",
    "    if i%10 == 0: # Only using indices that are multiples of 10\n",
    "        g = G/(1-G*np.sum(k))\n",
    "        h = ham_op_2(L, G, k, basis=basis)\n",
    "        e, v = h.eigsh(k=1, which = 'SA') # we only need the 0th energy\n",
    "        v0 = v[:,0]\n",
    "        i_d = iom_dict(L, g, k, k1=which_iom)\n",
    "        i_o = quantum_operator(i_d, basis=basis)\n",
    "        Gss += [G]\n",
    "        print(i_o.matrix_ele(v0, v0))\n",
    "        print(output_df[iom_inds[which_iom]].iloc[i])\n",
    "        ground_ioms += [i_o.matrix_ele(v0, v0)]\n",
    "        rg_ioms += [output_df[iom_inds[which_iom]].iloc[i]]"
   ]
  },
  {
   "cell_type": "markdown",
   "metadata": {},
   "source": [
    "Now, let's plot these values."
   ]
  },
  {
   "cell_type": "code",
   "execution_count": 25,
   "metadata": {},
   "outputs": [
    {
     "name": "stderr",
     "output_type": "stream",
     "text": [
      "/Users/wholdhus/anaconda3/lib/python3.7/site-packages/numpy/core/_asarray.py:138: ComplexWarning: Casting complex values to real discards the imaginary part\n",
      "  return array(a, dtype, copy=False, order=order, subok=True)\n"
     ]
    },
    {
     "data": {
      "text/plain": [
       "<matplotlib.legend.Legend at 0x1025428c50>"
      ]
     },
     "execution_count": 25,
     "metadata": {},
     "output_type": "execute_result"
    },
    {
     "data": {
      "image/png": "[encoded data removed]",
      "text/plain": [
       "<Figure size 432x288 with 1 Axes>"
      ]
     },
     "metadata": {
      "needs_background": "light"
     },
     "output_type": "display_data"
    }
   ],
   "source": [
    "ground_ioms = np.array(ground_ioms)\n",
    "rg_ioms = np.array(rg_ioms)\n",
    "gss = np.array(Gss)*L\n",
    "plt.scatter(gss, ground_ioms, label = 'Measured in ground state', marker = '2')\n",
    "plt.scatter(gss, rg_ioms, label = 'From Richardson-Gaudin', marker='3')\n",
    "plt.ylabel('R_{}'.format(which_iom))\n",
    "plt.xlabel('GL')\n",
    "plt.legend()"
   ]
  },
  {
   "cell_type": "markdown",
   "metadata": {},
   "source": [
    "Strangely, if we form a Hamiltonian by just summing integrals of motion (which is equivalent to the Hamiltonian of study up to a constant that depend on $G$), we still agree!"
   ]
  },
  {
   "cell_type": "code",
   "execution_count": null,
   "metadata": {},
   "outputs": [],
   "source": [
    "Gss = []\n",
    "Ess_ed = []\n",
    "Ess_rg = []\n",
    "for i, G in enumerate(Gs):\n",
    "    if i%10 == 0: # Only using indices that are multiples of 10\n",
    "        g = G/(1-G*np.sum(k))\n",
    "        for j in range(L):\n",
    "            i_d = iom_dict(L, g, k, k1=j, mult=k[j]) # making operator k R_k\n",
    "            i_o = quantum_operator(i_d, basis=basis)\n",
    "            if j == 0:\n",
    "                h = i_o # initializing Hamiltonian operator\n",
    "            else:\n",
    "                h += i_o # H = sum_k k R_k\n",
    "        e, v = h.eigsh(k=1, which = 'SA')\n",
    "        Ess_ed += [e[0]]\n",
    "        Ess_rg += [np.sum(output_df[iom_inds].iloc[i] * k)]\n",
    "        Gss += [G]\n",
    "plt.figure(figsize=(8,8))\n",
    "plt.scatter(np.array(Gss)*L, np.array(Ess_ed) - np.array(Ess_rg))\n",
    "plt.xlabel('GL')\n",
    "plt.ylabel('Energy difference')\n",
    "plt.title('Difference in $\\sum_k k R_k$')"
   ]
  },
  {
   "cell_type": "markdown",
   "metadata": {},
   "source": [
    "Let's take a closer look at the plot:"
   ]
  },
  {
   "cell_type": "code",
   "execution_count": null,
   "metadata": {},
   "outputs": [],
   "source": [
    "plt.figure(figsize=(8,8))\n",
    "plt.scatter(np.array(Gss)*L, np.array(Ess_ed) - np.array(Ess_rg))\n",
    "plt.xlabel('GL')\n",
    "plt.ylabel('Energy difference')\n",
    "plt.title('Difference in $\\sum_k k R_k$')\n",
    "plt.ylim(-10**-14, 10**-14)"
   ]
  },
  {
   "cell_type": "markdown",
   "metadata": {},
   "source": [
    "So, this error doesn't come from us finding incorrect integrals of motion, it comes from the fact that the ground state of $\\sum_k k R_k$ is no longer the ground state of the Hamiltonian with the additional ($G-dependent$) constant. This is because the Casimir operator, which also comes into play in that constant, has a different value for some excited states, ($-1$ instead of $3$, as will be seen below), and this induces those states to a lower energy as we increase $G$, causing a level crossing and 1st order phase transition!"
   ]
  },
  {
   "cell_type": "markdown",
   "metadata": {},
   "source": [
    "## Phase transition in the repulsive case\n",
    "\n",
    "There is an additional complication. If you happened to choose a repulsive coupling greater than $GL \\approx 1.5$, you may have noticed a sudden drop in accuracy of the solutions. This appears to occur due to a change in the value of the Casimir operator\n",
    "\\begin{equation}\n",
    "Q_k = \\vec T_k^+ \\cdot \\vec T_{k'}^- + \\vec T_k^- \\cdot \\vec T_k^+ + \\vec S_k \\cdot \\vec S_k\n",
    "+ \\left(\\frac{1}{2}N_k - 1\\right)^2,\n",
    "\\end{equation}\n",
    "as I will show after first demonstrating that there is an issue at this value of $GL$:"
   ]
  },
  {
   "cell_type": "code",
   "execution_count": null,
   "metadata": {},
   "outputs": [],
   "source": [
    "Gss = np.linspace(-1.25, -1.75, 20)/L\n",
    "Ess = np.zeros((20, 20))\n",
    "vss = [] # I'm going to save the states so  I don't have to keep diagonalizing things\n",
    "for i, G in enumerate(Gss):\n",
    "    h = ham_op_2(L, G, k, basis=basis)\n",
    "    e, v = h.eigsh(k=20, which = 'SA') # we only need the 0th energy\n",
    "    Ess[i,:] = np.sort(e)\n",
    "    vss += [v]\n",
    "for i in range(10): # Only plotting the first 10 energies because it ends up neater\n",
    "    plt.scatter(Gss*L, Ess[:,i])"
   ]
  },
  {
   "cell_type": "markdown",
   "metadata": {},
   "source": [
    "This is even stranger! It looks like a number of different states are becoming degenerate at a coupling around $GL = 1.5$! Let's plot this as lines with the same color, since the ordering seems to be getting scrambled (which gives makes the colors more or less useless)."
   ]
  },
  {
   "cell_type": "code",
   "execution_count": null,
   "metadata": {},
   "outputs": [],
   "source": [
    "for i in range(10):\n",
    "    plt.plot(np.array(Gss)*L, Ess[:,i], color='black')"
   ]
  },
  {
   "cell_type": "markdown",
   "metadata": {},
   "source": [
    "This happens along with a change in the Casimir operator!"
   ]
  },
  {
   "cell_type": "code",
   "execution_count": null,
   "metadata": {},
   "outputs": [],
   "source": [
    "casimirs = np.zeros((20, 4))\n",
    "# Forming a list of Casimir operators.\n",
    "cdicts = [casimir_dict(4, i, 1.) for i in range(4)]\n",
    "cops = [quantum_operator(cdicts[i], basis=basis) for i in range(4)]\n",
    "\n",
    "for i, G in enumerate(Gss):\n",
    "    # h = ham_op_2(L, G, k, basis=basis)\n",
    "    # e, v = h.eigsh(k=1, which='SA') # Let's only deal with the ground state for now\n",
    "    v0 = vss[i][:,0] # vss is a list of matrices, the columns of the matrices are the wavefunctions\n",
    "    for j in range(4):\n",
    "        casimirs[i, j] = cops[j].matrix_ele(v0, v0)\n",
    "for j in range(4):\n",
    "    plt.plot(Gss*L, casimirs[:, j], label = ('Q_{}'.format(j)), marker=markers[j])\n",
    "plt.legend()"
   ]
  },
  {
   "cell_type": "markdown",
   "metadata": {},
   "source": [
    "I'm not sure how to account for these changes. What if we stop dealing with the diagonal element in the Hamiltonian? Then, we could just define a Hamiltonian that doesn't have to have this additional constant. This won't change the attractive-coupling physics, since in that case the ground state wavefunction is unaffected (though the energy will be different)."
   ]
  },
  {
   "cell_type": "code",
   "execution_count": null,
   "metadata": {},
   "outputs": [],
   "source": []
  }
 ],
 "metadata": {
  "kernelspec": {
   "display_name": "Python 3",
   "language": "python",
   "name": "python3"
  },
  "language_info": {
   "codemirror_mode": {
    "name": "ipython",
    "version": 3
   },
   "file_extension": ".py",
   "mimetype": "text/x-python",
   "name": "python",
   "nbconvert_exporter": "python",
   "pygments_lexer": "ipython3",
   "version": "3.7.6"
  }
 },
 "nbformat": 4,
 "nbformat_minor": 4
}
