{
 "cells": [
  {
   "cell_type": "code",
   "execution_count": 1,
   "metadata": {},
   "outputs": [],
   "source": [
    "from exact_diag import form_basis, periodic_ham\n",
    "from exact_diag import ham_op_2, antiperiodic_ham\n",
    "from exact_diag import casimir_dict, find_nk, find_skz, quantum_operator\n",
    "import matplotlib.pyplot as plt\n",
    "import numpy as np\n",
    "import tqdm"
   ]
  },
  {
   "cell_type": "code",
   "execution_count": 2,
   "metadata": {},
   "outputs": [
    {
     "name": "stdout",
     "output_type": "stream",
     "text": [
      "Gs/Gc\n",
      "0.7\n",
      "1.7500000000000002\n"
     ]
    }
   ],
   "source": [
    "l = 4\n",
    "k_peri = np.pi*np.arange(-2*l, 2*l, 2)/(2*l)\n",
    "k_anti = np.pi*np.arange(-2*l+1, 2*l, 2)/(2*l)\n",
    "\n",
    "\n",
    "Gc = 2./np.sum(np.abs(k_peri))\n",
    "\n",
    "G1 = 0.7*Gc\n",
    "G2 = G1/(2*G1/Gc-1)\n",
    "print('Gs/Gc')\n",
    "print(G1/Gc)\n",
    "print(G2/Gc)\n",
    "\n",
    "cds = [casimir_dict(l, i, 1) for i in range(l)]"
   ]
  },
  {
   "cell_type": "markdown",
   "metadata": {},
   "source": [
    "# Below half-filling"
   ]
  },
  {
   "cell_type": "code",
   "execution_count": 3,
   "metadata": {},
   "outputs": [
    {
     "name": "stdout",
     "output_type": "stream",
     "text": [
      "Hermiticity check passed!\n",
      "Symmetry checks passed!\n",
      "Particle conservation check passed!\n",
      "Hermiticity check passed!\n",
      "Symmetry checks passed!\n",
      "Particle conservation check passed!\n",
      "Hermiticity check passed!\n",
      "Symmetry checks passed!\n",
      "Particle conservation check passed!\n",
      "Hermiticity check passed!\n",
      "Symmetry checks passed!\n",
      "Particle conservation check passed!\n"
     ]
    }
   ],
   "source": [
    "Nup = l//2\n",
    "Ndwn = l//2\n",
    "basis = form_basis(2*l, Nup, Ndwn)\n",
    "    \n",
    "hp_below = periodic_ham(l, G1, basis)\n",
    "ha1_below = ham_op_2(l, G1, k_anti[l:], basis)\n",
    "ha2_below = antiperiodic_ham(l, G1, basis)\n",
    "\n",
    "hp_above = periodic_ham(l, G2, basis)\n",
    "ha1_above = ham_op_2(l, G2, k_anti[l:], basis)\n",
    "ha2_above = antiperiodic_ham(l, G2, basis)\n",
    "\n",
    "cos = [quantum_operator(cd, basis=basis) for cd in cds]"
   ]
  },
  {
   "cell_type": "code",
   "execution_count": 4,
   "metadata": {},
   "outputs": [
    {
     "name": "stdout",
     "output_type": "stream",
     "text": [
      "[-1.69121984 -1.17809725 -1.17809725 -1.17809725 -0.92381098 -0.92381098\n",
      " -0.92381098 -0.92381098 -0.56850892 -0.54873675]\n",
      "[-3.11997205 -2.73723043 -2.40251769 -2.40251769 -2.40251769 -2.33151452\n",
      " -2.24434952 -2.14373414 -2.14373414 -2.14373414]\n",
      "[-3.11997205 -2.73723043 -2.40251769 -2.40251769 -2.40251769 -2.33151452\n",
      " -2.24434952 -2.14373414 -2.14373414 -2.14373414]\n"
     ]
    },
    {
     "data": {
      "image/png": "[encoded data removed]",
      "text/plain": [
       "<Figure size 432x288 with 1 Axes>"
      ]
     },
     "metadata": {
      "needs_background": "light"
     },
     "output_type": "display_data"
    }
   ],
   "source": [
    "ep, vp = hp_below.eigh()\n",
    "ea1, va1 = ha1_below.eigh()\n",
    "ea2, va2 = ha2_below.eigh()\n",
    "print(ep[:10])\n",
    "print(ea1[:10])\n",
    "print(ea2[:10])\n",
    "\n",
    "eps_degen = ep[np.abs(ep - ep[0]) < 10**-10]\n",
    "for i in range(len(eps_degen)):\n",
    "    n_peri = find_nk(l, vp[:,i], basis)\n",
    "    n_anti = find_nk(l, va2[:,0], basis)\n",
    "    plt.scatter(k_peri, n_peri)\n",
    "    plt.scatter(k_anti, n_anti)\n",
    "    plt.show()\n"
   ]
  },
  {
   "cell_type": "code",
   "execution_count": 5,
   "metadata": {},
   "outputs": [
    {
     "name": "stdout",
     "output_type": "stream",
     "text": [
      "[-11.50351692 -11.50351692 -11.13201318 -11.13201318 -11.11419821\n",
      " -11.11419821  -9.93028864  -9.93028864  -9.28924098  -9.23342244]\n",
      "[-16.48017445 -16.26785404 -13.4316032  -13.05680803 -13.05680803\n",
      " -13.05680803 -12.7649849  -12.75852031 -12.75852031 -12.75852031]\n",
      "[-16.48017445 -16.26785404 -13.4316032  -13.05680803 -13.05680803\n",
      " -13.05680803 -12.7649849  -12.75852031 -12.75852031 -12.75852031]\n"
     ]
    },
    {
     "data": {
      "image/png": "[encoded data removed]",
      "text/plain": [
       "<Figure size 432x288 with 1 Axes>"
      ]
     },
     "metadata": {
      "needs_background": "light"
     },
     "output_type": "display_data"
    },
    {
     "data": {
      "image/png": "[encoded data removed]",
      "text/plain": [
       "<Figure size 432x288 with 1 Axes>"
      ]
     },
     "metadata": {
      "needs_background": "light"
     },
     "output_type": "display_data"
    }
   ],
   "source": [
    "ep, vp = hp_above.eigh()\n",
    "ea1, va1 = ha1_above.eigh()\n",
    "ea2, va2 = ha2_above.eigh()\n",
    "print(ep[:10])\n",
    "print(ea1[:10])\n",
    "print(ea2[:10])\n",
    "\n",
    "eps_degen = ep[np.abs(ep - ep[0]) < 10**-10]\n",
    "for i in range(len(eps_degen)):\n",
    "    n_peri = find_nk(l, vp[:,i], basis)\n",
    "    n_anti = find_nk(l, va2[:,0], basis)\n",
    "    plt.scatter(k_peri, n_peri)\n",
    "    plt.scatter(k_anti, n_anti)\n",
    "    plt.show()"
   ]
  },
  {
   "cell_type": "code",
   "execution_count": null,
   "metadata": {},
   "outputs": [
    {
     "name": "stderr",
     "output_type": "stream",
     "text": [
      " 68%|██████▊   | 55/81 [02:21<00:41,  1.61s/it]"
     ]
    }
   ],
   "source": [
    "Gs = np.arange(0, 4.05, .05)*Gc\n",
    "eps_05 = np.zeros(len(Gs))\n",
    "eas_05 = np.zeros(len(Gs))\n",
    "for i, G in enumerate(tqdm.tqdm(Gs)):\n",
    "    hp = periodic_ham(l, G, basis)\n",
    "    ha = ham_op_2(l, G, k_anti[l:], basis)\n",
    "    ep, _ = hp.eigh()\n",
    "    eps_05[i] = ep[0]\n",
    "    ea, _ = ha.eigh()\n",
    "    eas_05[i] = ea[0]"
   ]
  },
  {
   "cell_type": "code",
   "execution_count": null,
   "metadata": {},
   "outputs": [],
   "source": [
    "plt.scatter(Gs/Gc, np.gradient(eps_05, Gs/Gc))\n",
    "plt.scatter(Gs/Gc, np.gradient(eas_05, Gs/Gc))\n",
    "plt.axvline(1)"
   ]
  },
  {
   "cell_type": "markdown",
   "metadata": {},
   "source": [
    "## Above 1/2 filling"
   ]
  },
  {
   "cell_type": "code",
   "execution_count": null,
   "metadata": {},
   "outputs": [],
   "source": [
    "Nup = 3*l//2\n",
    "Ndwn = 3*l//2\n",
    "basis = form_basis(2*l, Nup, Ndwn)\n",
    "    \n",
    "hp_below = periodic_ham(l, G1, basis)\n",
    "ha1_below = ham_op_2(l, G1, k_anti[l:], basis)\n",
    "ha2_below = antiperiodic_ham(l, G1, basis)\n",
    "\n",
    "hp_above = periodic_ham(l, G2, basis)\n",
    "ha1_above = ham_op_2(l, G2, k_anti[l:], basis)\n",
    "ha2_above = antiperiodic_ham(l, G2, basis)\n",
    "\n",
    "cos = [quantum_operator(cd, basis=basis) for cd in cds]"
   ]
  },
  {
   "cell_type": "code",
   "execution_count": null,
   "metadata": {},
   "outputs": [],
   "source": [
    "ep, vp = hp_below.eigh()\n",
    "ea1, va1 = ha1_below.eigh()\n",
    "ea2, va2 = ha2_below.eigh()\n",
    "print(ep[:10])\n",
    "print(ea1[:10])\n",
    "print(ea2[:10])\n",
    "\n",
    "eps_degen = ep[np.abs(ep - ep[0]) < 10**-10]\n",
    "for i in range(len(eps_degen)):\n",
    "    n_peri = find_nk(l, vp[:,i], basis)\n",
    "    n_anti = find_nk(l, va2[:,0], basis)\n",
    "    plt.scatter(k_peri, n_peri)\n",
    "    plt.scatter(k_anti, n_anti)\n",
    "    plt.show()"
   ]
  },
  {
   "cell_type": "code",
   "execution_count": null,
   "metadata": {},
   "outputs": [],
   "source": [
    "ep, vp = hp_above.eigh()\n",
    "ea1, va1 = ha1_above.eigh()\n",
    "ea2, va2 = ha2_above.eigh()\n",
    "print(ep[:10])\n",
    "print(ea1[:10])\n",
    "print(ea2[:10])\n",
    "\n",
    "eps_degen = ep[np.abs(ep - ep[0]) < 10**-10]\n",
    "for i in range(len(eps_degen)):\n",
    "    n_peri = find_nk(l, vp[:,i], basis)\n",
    "    n_anti = find_nk(l, va2[:,0], basis)\n",
    "    plt.scatter(k_peri, n_peri)\n",
    "    plt.scatter(k_anti, n_anti)\n",
    "    plt.show()"
   ]
  },
  {
   "cell_type": "code",
   "execution_count": null,
   "metadata": {},
   "outputs": [],
   "source": [
    "Gs = np.arange(0, 4.05, .05)*Gc\n",
    "eps_15 = np.zeros(len(Gs))\n",
    "eas_15 = np.zeros(len(Gs))\n",
    "for i, G in enumerate(tqdm.tqdm(Gs)):\n",
    "    hp = periodic_ham(l, G, basis)\n",
    "    ha = ham_op_2(l, G, k_anti[l:], basis)\n",
    "    ep, _ = hp.eigh()\n",
    "    eps_15[i] = ep[0]\n",
    "    ea, _ = ha.eigh()\n",
    "    eas_15[i] = ea[0]"
   ]
  },
  {
   "cell_type": "code",
   "execution_count": null,
   "metadata": {},
   "outputs": [],
   "source": [
    "plt.figure(figsize=(5,5), dpi=200)\n",
    "plt.plot(Gs, np.gradient(.5*eas_15/l, Gs))\n",
    "plt.scatter(Gs, np.gradient(.5*eps_15/l, Gs), label=r'$\\rho = 1.5$')\n",
    "plt.plot(Gs, np.gradient(.5*eas_05/l, Gs))\n",
    "plt.scatter(Gs, np.gradient(.5*eps_05/l, Gs), label=r'$\\rho = 0.5$')\n",
    "plt.xlabel(r'$G$')\n",
    "plt.ylabel(r'$de/dG$')\n",
    "plt.axvline(Gc, ls='--', color='black')\n",
    "\n",
    "plt.legend()\n",
    "plt.savefig('periodic_antiperiodic_energies.png')"
   ]
  },
  {
   "cell_type": "code",
   "execution_count": null,
   "metadata": {},
   "outputs": [],
   "source": []
  }
 ],
 "metadata": {
  "kernelspec": {
   "display_name": "Python 3",
   "language": "python",
   "name": "python3"
  },
  "language_info": {
   "codemirror_mode": {
    "name": "ipython",
    "version": 3
   },
   "file_extension": ".py",
   "mimetype": "text/x-python",
   "name": "python",
   "nbconvert_exporter": "python",
   "pygments_lexer": "ipython3",
   "version": "3.7.6"
  }
 },
 "nbformat": 4,
 "nbformat_minor": 4
}
