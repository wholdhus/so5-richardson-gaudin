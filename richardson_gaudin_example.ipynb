{
 "cells": [
  {
   "cell_type": "markdown",
   "metadata": {},
   "source": [
    "# SO(5) Richardson Gaudin\n",
    "\n",
    "First, let's import the functions and packages we need we need"
   ]
  },
  {
   "cell_type": "code",
   "execution_count": 5,
   "metadata": {},
   "outputs": [],
   "source": [
    "from solve_rg_eqs import solve_rgEqs, solve_rgEqs_2, G_to_g\n",
    "import numpy as np\n",
    "import matplotlib.pyplot as plt\n",
    "import pandas as pd"
   ]
  },
  {
   "cell_type": "markdown",
   "metadata": {},
   "source": [
    "Setting physical parameters. \n",
    "\n",
    "Note that $g$ is not $GL$, but instead\n",
    "$g = \\frac{G}{1-G\\sum_k k}$. At $G_c = \\frac{1}{\\sum_k k}$, $g$ becomes singular. So, around this point I switch to using $1/g$ in the code.\n",
    "\n",
    "Due to assumptions in the code, I currently require Nup and Ndown to be even numbers."
   ]
  },
  {
   "cell_type": "code",
   "execution_count": 6,
   "metadata": {},
   "outputs": [],
   "source": [
    "L = 4 # Very small system, just an illustration\n",
    "Nup = 2\n",
    "Ndown = 2\n",
    "\n",
    "N = Nup + Ndown\n",
    "\n",
    "dims = (L, Nup, Ndown)\n",
    "\n",
    "# G_final = 1.5*(2/(np.pi*L)) # 1.5 times critical coupling?\n",
    "G_final = -0.5\n",
    "k = np.arange(1, 2*L+1, 2)*0.5*np.pi/L"
   ]
  },
  {
   "cell_type": "markdown",
   "metadata": {},
   "source": [
    "Setting numerical parameters. If the following things don't work, try decreasing ``dg`` (which will change the other parameters as well). If you want more (or less) points in the output, decrease (increase) the value of ``skip``, which sets how often we remove artificial imaginary parts and save values to output (i.e. skip ``skip`` values of ``g`` before doing this)."
   ]
  },
  {
   "cell_type": "code",
   "execution_count": 7,
   "metadata": {},
   "outputs": [],
   "source": [
    "dg = 0.01/N # step size of g. Scaling with N instead of L because increasing N increases difficulty\n",
    "g0 = .01*dg # initial value of g\n",
    "imk = dg # scale of the imaginary parts added to k\n",
    "imv = .01*g0 # scale of the imaginary parts used in the initial guess\n",
    "\n",
    "skip=4*N # it's harder for larger N, so let's make it easy on us"
   ]
  },
  {
   "cell_type": "markdown",
   "metadata": {},
   "source": [
    "Solving the Richardson-Gaudin equations.\n",
    "\n",
    "Watch out, this could take a while. It will increment ``g`` from ``g0`` until\n",
    "it has trouble converging, at which point it switches to incrementing ``1/g``.\n",
    "\n",
    "Also, ignore things that look like error messages. \n",
    "\n",
    "## Wait for the evaluation to complete!\n",
    "## The [*]: to the left of this should turn into a number [x]:"
   ]
  },
  {
   "cell_type": "code",
   "execution_count": 8,
   "metadata": {},
   "outputs": [
    {
     "name": "stdout",
     "output_type": "stream",
     "text": [
      "[0.39269523+0.00249999j 0.39269523+0.00249996j]\n",
      "[0.3926978+0.00249919j 0.3926978+0.00250079j]\n",
      "First, boostrapping from 4 to 4 fermions\n"
     ]
    },
    {
     "name": "stderr",
     "output_type": "stream",
     "text": [
      "Traceback (most recent call last):\n",
      "  File \"/Users/wholdhus/Desktop/repos/so5-richardson-gaudin/solve_rg_eqs.py\", line 120, in root_threads\n",
      "    yield res.result()\n",
      "  File \"/Users/wholdhus/anaconda3/lib/python3.7/concurrent/futures/_base.py\", line 428, in result\n",
      "    return self.__get_result()\n",
      "  File \"/Users/wholdhus/anaconda3/lib/python3.7/concurrent/futures/_base.py\", line 384, in __get_result\n",
      "    raise self._exception\n",
      "concurrent.futures.process.BrokenProcessPool: A process in the process pool was terminated abruptly while the future was running or pending.\n",
      "Traceback (most recent call last):\n",
      "  File \"/Users/wholdhus/Desktop/repos/so5-richardson-gaudin/solve_rg_eqs.py\", line 120, in root_threads\n",
      "    yield res.result()\n",
      "  File \"/Users/wholdhus/anaconda3/lib/python3.7/concurrent/futures/_base.py\", line 428, in result\n",
      "    return self.__get_result()\n",
      "  File \"/Users/wholdhus/anaconda3/lib/python3.7/concurrent/futures/_base.py\", line 384, in __get_result\n",
      "    raise self._exception\n",
      "  File \"/Users/wholdhus/Desktop/repos/so5-richardson-gaudin/solve_rg_eqs.py\", line 120, in root_threads\n",
      "    yield res.result()\n",
      "  File \"/Users/wholdhus/anaconda3/lib/python3.7/concurrent/futures/_base.py\", line 428, in result\n",
      "    return self.__get_result()\n",
      "  File \"/Users/wholdhus/anaconda3/lib/python3.7/concurrent/futures/_base.py\", line 384, in __get_result\n",
      "    raise self._exception\n",
      "concurrent.futures.process.BrokenProcessPool: A process in the process pool was terminated abruptly while the future was running or pending.\n",
      "Traceback (most recent call last):\n",
      "  File \"/Users/wholdhus/Desktop/repos/so5-richardson-gaudin/solve_rg_eqs.py\", line 120, in root_threads\n",
      "    yield res.result()\n",
      "  File \"/Users/wholdhus/anaconda3/lib/python3.7/concurrent/futures/_base.py\", line 428, in result\n",
      "    return self.__get_result()\n",
      "  File \"/Users/wholdhus/anaconda3/lib/python3.7/concurrent/futures/_base.py\", line 384, in __get_result\n",
      "    raise self._exception\n",
      "concurrent.futures.process.BrokenProcessPool: A process in the process pool was terminated abruptly while the future was running or pending.\n",
      "Traceback (most recent call last):\n",
      "  File \"/Users/wholdhus/Desktop/repos/so5-richardson-gaudin/solve_rg_eqs.py\", line 120, in root_threads\n",
      "    yield res.result()\n",
      "  File \"/Users/wholdhus/anaconda3/lib/python3.7/concurrent/futures/_base.py\", line 428, in result\n",
      "    return self.__get_result()\n",
      "  File \"/Users/wholdhus/anaconda3/lib/python3.7/concurrent/futures/_base.py\", line 384, in __get_result\n",
      "    raise self._exception\n",
      "  File \"/Users/wholdhus/Desktop/repos/so5-richardson-gaudin/solve_rg_eqs.py\", line 120, in root_threads\n",
      "    yield res.result()\n",
      "  File \"/Users/wholdhus/anaconda3/lib/python3.7/concurrent/futures/_base.py\", line 428, in result\n",
      "    return self.__get_result()\n",
      "  File \"/Users/wholdhus/anaconda3/lib/python3.7/concurrent/futures/_base.py\", line 384, in __get_result\n",
      "    raise self._exception\n",
      "concurrent.futures.process.BrokenProcessPool: A process in the process pool was terminated abruptly while the future was running or pending.\n",
      "Traceback (most recent call last):\n",
      "  File \"/Users/wholdhus/Desktop/repos/so5-richardson-gaudin/solve_rg_eqs.py\", line 120, in root_threads\n",
      "    yield res.result()\n",
      "  File \"/Users/wholdhus/anaconda3/lib/python3.7/concurrent/futures/_base.py\", line 428, in result\n",
      "    return self.__get_result()\n",
      "  File \"/Users/wholdhus/anaconda3/lib/python3.7/concurrent/futures/_base.py\", line 384, in __get_result\n",
      "    raise self._exception\n",
      "concurrent.futures.process.BrokenProcessPool: A process in the process pool was terminated abruptly while the future was running or pending.\n",
      "Traceback (most recent call last):\n",
      "  File \"/Users/wholdhus/Desktop/repos/so5-richardson-gaudin/solve_rg_eqs.py\", line 120, in root_threads\n",
      "    yield res.result()\n",
      "  File \"/Users/wholdhus/anaconda3/lib/python3.7/concurrent/futures/_base.py\", line 428, in result\n",
      "    return self.__get_result()\n",
      "  File \"/Users/wholdhus/anaconda3/lib/python3.7/concurrent/futures/_base.py\", line 384, in __get_result\n",
      "    raise self._exception\n",
      "  File \"/Users/wholdhus/Desktop/repos/so5-richardson-gaudin/solve_rg_eqs.py\", line 120, in root_threads\n",
      "    yield res.result()\n",
      "  File \"/Users/wholdhus/anaconda3/lib/python3.7/concurrent/futures/_base.py\", line 428, in result\n",
      "    return self.__get_result()\n",
      "  File \"/Users/wholdhus/anaconda3/lib/python3.7/concurrent/futures/_base.py\", line 384, in __get_result\n",
      "    raise self._exception\n",
      "concurrent.futures.process.BrokenProcessPool: A process in the process pool was terminated abruptly while the future was running or pending.\n",
      "Traceback (most recent call last):\n",
      "  File \"/Users/wholdhus/Desktop/repos/so5-richardson-gaudin/solve_rg_eqs.py\", line 120, in root_threads\n",
      "    yield res.result()\n",
      "  File \"/Users/wholdhus/anaconda3/lib/python3.7/concurrent/futures/_base.py\", line 428, in result\n",
      "    return self.__get_result()\n",
      "  File \"/Users/wholdhus/anaconda3/lib/python3.7/concurrent/futures/_base.py\", line 384, in __get_result\n",
      "    raise self._exception\n",
      "concurrent.futures.process.BrokenProcessPool: A process in the process pool was terminated abruptly while the future was running or pending.\n",
      "Traceback (most recent call last):\n",
      "  File \"/Users/wholdhus/Desktop/repos/so5-richardson-gaudin/solve_rg_eqs.py\", line 120, in root_threads\n",
      "    yield res.result()\n",
      "  File \"/Users/wholdhus/anaconda3/lib/python3.7/concurrent/futures/_base.py\", line 428, in result\n",
      "    return self.__get_result()\n",
      "  File \"/Users/wholdhus/anaconda3/lib/python3.7/concurrent/futures/_base.py\", line 384, in __get_result\n",
      "    raise self._exception\n",
      "  File \"/Users/wholdhus/Desktop/repos/so5-richardson-gaudin/solve_rg_eqs.py\", line 120, in root_threads\n",
      "    yield res.result()\n",
      "  File \"/Users/wholdhus/anaconda3/lib/python3.7/concurrent/futures/_base.py\", line 428, in result\n",
      "    return self.__get_result()\n",
      "  File \"/Users/wholdhus/anaconda3/lib/python3.7/concurrent/futures/_base.py\", line 384, in __get_result\n",
      "    raise self._exception\n",
      "concurrent.futures.process.BrokenProcessPool: A process in the process pool was terminated abruptly while the future was running or pending.\n",
      "Traceback (most recent call last):\n",
      "  File \"/Users/wholdhus/Desktop/repos/so5-richardson-gaudin/solve_rg_eqs.py\", line 120, in root_threads\n",
      "    yield res.result()\n",
      "  File \"/Users/wholdhus/anaconda3/lib/python3.7/concurrent/futures/_base.py\", line 428, in result\n",
      "    return self.__get_result()\n",
      "  File \"/Users/wholdhus/anaconda3/lib/python3.7/concurrent/futures/_base.py\", line 384, in __get_result\n",
      "    raise self._exception\n",
      "concurrent.futures.process.BrokenProcessPool: A process in the process pool was terminated abruptly while the future was running or pending.\n",
      "Traceback (most recent call last):\n",
      "  File \"/Users/wholdhus/Desktop/repos/so5-richardson-gaudin/solve_rg_eqs.py\", line 120, in root_threads\n",
      "    yield res.result()\n",
      "  File \"/Users/wholdhus/anaconda3/lib/python3.7/concurrent/futures/_base.py\", line 428, in result\n",
      "    return self.__get_result()\n",
      "  File \"/Users/wholdhus/anaconda3/lib/python3.7/concurrent/futures/_base.py\", line 384, in __get_result\n",
      "    raise self._exception\n",
      "  File \"/Users/wholdhus/Desktop/repos/so5-richardson-gaudin/solve_rg_eqs.py\", line 120, in root_threads\n",
      "    yield res.result()\n",
      "  File \"/Users/wholdhus/anaconda3/lib/python3.7/concurrent/futures/_base.py\", line 428, in result\n",
      "    return self.__get_result()\n",
      "  File \"/Users/wholdhus/anaconda3/lib/python3.7/concurrent/futures/_base.py\", line 384, in __get_result\n",
      "    raise self._exception\n",
      "concurrent.futures.process.BrokenProcessPool: A process in the process pool was terminated abruptly while the future was running or pending.\n"
     ]
    },
    {
     "ename": "BrokenProcessPool",
     "evalue": "A child process terminated abruptly, the process pool is not usable anymore",
     "output_type": "error",
     "traceback": [
      "\u001b[0;31m---------------------------------------------------------------------------\u001b[0m",
      "\u001b[0;31mBrokenProcessPool\u001b[0m                         Traceback (most recent call last)",
      "\u001b[0;32m<ipython-input-8-5f42cf5729fb>\u001b[0m in \u001b[0;36m<module>\u001b[0;34m\u001b[0m\n\u001b[1;32m      6\u001b[0m     \u001b[0;31m# Can just increment g\u001b[0m\u001b[0;34m\u001b[0m\u001b[0;34m\u001b[0m\u001b[0;34m\u001b[0m\u001b[0m\n\u001b[1;32m      7\u001b[0m     output_df = solve_rgEqs(dims, G_final, k, dg=dg, g0=g0, imscale_k=imk,\n\u001b[0;32m----> 8\u001b[0;31m                             imscale_v=imv, skip=1)\n\u001b[0m",
      "\u001b[0;32m~/Desktop/repos/so5-richardson-gaudin/solve_rg_eqs.py\u001b[0m in \u001b[0;36msolve_rgEqs\u001b[0;34m(dims, Gf, k, dg, g0, imscale_k, imscale_v, skip)\u001b[0m\n\u001b[1;32m    388\u001b[0m         \u001b[0;32mif\u001b[0m \u001b[0mi\u001b[0m \u001b[0;34m==\u001b[0m \u001b[0;36m0\u001b[0m\u001b[0;34m:\u001b[0m\u001b[0;34m\u001b[0m\u001b[0;34m\u001b[0m\u001b[0m\n\u001b[1;32m    389\u001b[0m             \u001b[0mprint\u001b[0m\u001b[0;34m(\u001b[0m\u001b[0;34m'First, boostrapping from 4 to {} fermions'\u001b[0m\u001b[0;34m.\u001b[0m\u001b[0mformat\u001b[0m\u001b[0;34m(\u001b[0m\u001b[0mNe\u001b[0m\u001b[0;34m+\u001b[0m\u001b[0mNw\u001b[0m\u001b[0;34m)\u001b[0m\u001b[0;34m)\u001b[0m\u001b[0;34m\u001b[0m\u001b[0;34m\u001b[0m\u001b[0m\n\u001b[0;32m--> 390\u001b[0;31m             \u001b[0msol\u001b[0m \u001b[0;34m=\u001b[0m \u001b[0mbootstrap_g0\u001b[0m\u001b[0;34m(\u001b[0m\u001b[0mdims\u001b[0m\u001b[0;34m,\u001b[0m \u001b[0mg\u001b[0m\u001b[0;34m,\u001b[0m \u001b[0mkc\u001b[0m\u001b[0;34m,\u001b[0m \u001b[0mimscale_v\u001b[0m\u001b[0;34m)\u001b[0m\u001b[0;34m\u001b[0m\u001b[0;34m\u001b[0m\u001b[0m\n\u001b[0m\u001b[1;32m    391\u001b[0m         \u001b[0;32melse\u001b[0m\u001b[0;34m:\u001b[0m\u001b[0;34m\u001b[0m\u001b[0;34m\u001b[0m\u001b[0m\n\u001b[1;32m    392\u001b[0m             sol = find_root_multithread(vars, kc, g, dims, imscale_v,\n",
      "\u001b[0;32m~/Desktop/repos/so5-richardson-gaudin/solve_rg_eqs.py\u001b[0m in \u001b[0;36mbootstrap_g0\u001b[0;34m(dims, g0, kc, imscale_v)\u001b[0m\n\u001b[1;32m    287\u001b[0m                                         \u001b[0mmax_steps\u001b[0m\u001b[0;34m=\u001b[0m\u001b[0mMAX_STEPS\u001b[0m\u001b[0;34m,\u001b[0m\u001b[0;34m\u001b[0m\u001b[0;34m\u001b[0m\u001b[0m\n\u001b[1;32m    288\u001b[0m                                         \u001b[0muse_k_guess\u001b[0m\u001b[0;34m=\u001b[0m\u001b[0;32mFalse\u001b[0m\u001b[0;34m,\u001b[0m\u001b[0;34m\u001b[0m\u001b[0;34m\u001b[0m\u001b[0m\n\u001b[0;32m--> 289\u001b[0;31m                                         force_gs=False)\n\u001b[0m\u001b[1;32m    290\u001b[0m         \u001b[0;32melse\u001b[0m\u001b[0;34m:\u001b[0m\u001b[0;34m\u001b[0m\u001b[0;34m\u001b[0m\u001b[0m\n\u001b[1;32m    291\u001b[0m             \u001b[0;31m# The previous solution matches to roughly the accuracy of the solution\u001b[0m\u001b[0;34m\u001b[0m\u001b[0;34m\u001b[0m\u001b[0;34m\u001b[0m\u001b[0m\n",
      "\u001b[0;32m~/Desktop/repos/so5-richardson-gaudin/solve_rg_eqs.py\u001b[0m in \u001b[0;36mfind_root_multithread\u001b[0;34m(vars, kc, g, dims, im_v, max_steps, use_k_guess, factor, force_gs, noise_factors)\u001b[0m\n\u001b[1;32m    163\u001b[0m         for i, r in enumerate(root_threads(vars0, noise_scale,\n\u001b[1;32m    164\u001b[0m                               \u001b[0mkc\u001b[0m\u001b[0;34m,\u001b[0m \u001b[0mg\u001b[0m\u001b[0;34m,\u001b[0m \u001b[0mdims\u001b[0m\u001b[0;34m,\u001b[0m \u001b[0mforce_gs\u001b[0m\u001b[0;34m,\u001b[0m\u001b[0;34m\u001b[0m\u001b[0;34m\u001b[0m\u001b[0m\n\u001b[0;32m--> 165\u001b[0;31m                               noise_factors=noise_factors)):\n\u001b[0m\u001b[1;32m    166\u001b[0m             \u001b[0msols\u001b[0m\u001b[0;34m[\u001b[0m\u001b[0mi\u001b[0m\u001b[0;34m]\u001b[0m\u001b[0;34m,\u001b[0m \u001b[0m_\u001b[0m\u001b[0;34m,\u001b[0m \u001b[0mers\u001b[0m\u001b[0;34m[\u001b[0m\u001b[0mi\u001b[0m\u001b[0;34m]\u001b[0m \u001b[0;34m=\u001b[0m \u001b[0mr\u001b[0m\u001b[0;34m\u001b[0m\u001b[0;34m\u001b[0m\u001b[0m\n\u001b[1;32m    167\u001b[0m         \u001b[0mer\u001b[0m \u001b[0;34m=\u001b[0m \u001b[0mnp\u001b[0m\u001b[0;34m.\u001b[0m\u001b[0mmin\u001b[0m\u001b[0;34m(\u001b[0m\u001b[0mers\u001b[0m\u001b[0;34m)\u001b[0m\u001b[0;34m\u001b[0m\u001b[0;34m\u001b[0m\u001b[0m\n",
      "\u001b[0;32m~/Desktop/repos/so5-richardson-gaudin/solve_rg_eqs.py\u001b[0m in \u001b[0;36mroot_threads\u001b[0;34m(prev_vars, noise_scale, kc, g, dims, force_gs, noise_factors)\u001b[0m\n\u001b[1;32m    114\u001b[0m                                           \u001b[0mtries\u001b[0m\u001b[0;34m[\u001b[0m\u001b[0mn\u001b[0m\u001b[0;34m]\u001b[0m\u001b[0;34m,\u001b[0m\u001b[0;34m\u001b[0m\u001b[0;34m\u001b[0m\u001b[0m\n\u001b[1;32m    115\u001b[0m                                           kc, g, dims, force_gs)\n\u001b[0;32m--> 116\u001b[0;31m                           for n in range(JOBS)]\n\u001b[0m\u001b[1;32m    117\u001b[0m         \u001b[0mconcurrent\u001b[0m\u001b[0;34m.\u001b[0m\u001b[0mfutures\u001b[0m\u001b[0;34m.\u001b[0m\u001b[0mwait\u001b[0m\u001b[0;34m(\u001b[0m\u001b[0mfuture_results\u001b[0m\u001b[0;34m)\u001b[0m\u001b[0;34m\u001b[0m\u001b[0;34m\u001b[0m\u001b[0m\n\u001b[1;32m    118\u001b[0m         \u001b[0;32mfor\u001b[0m \u001b[0mres\u001b[0m \u001b[0;32min\u001b[0m \u001b[0mfuture_results\u001b[0m\u001b[0;34m:\u001b[0m\u001b[0;34m\u001b[0m\u001b[0;34m\u001b[0m\u001b[0m\n",
      "\u001b[0;32m~/Desktop/repos/so5-richardson-gaudin/solve_rg_eqs.py\u001b[0m in \u001b[0;36m<listcomp>\u001b[0;34m(.0)\u001b[0m\n\u001b[1;32m    114\u001b[0m                                           \u001b[0mtries\u001b[0m\u001b[0;34m[\u001b[0m\u001b[0mn\u001b[0m\u001b[0;34m]\u001b[0m\u001b[0;34m,\u001b[0m\u001b[0;34m\u001b[0m\u001b[0;34m\u001b[0m\u001b[0m\n\u001b[1;32m    115\u001b[0m                                           kc, g, dims, force_gs)\n\u001b[0;32m--> 116\u001b[0;31m                           for n in range(JOBS)]\n\u001b[0m\u001b[1;32m    117\u001b[0m         \u001b[0mconcurrent\u001b[0m\u001b[0;34m.\u001b[0m\u001b[0mfutures\u001b[0m\u001b[0;34m.\u001b[0m\u001b[0mwait\u001b[0m\u001b[0;34m(\u001b[0m\u001b[0mfuture_results\u001b[0m\u001b[0;34m)\u001b[0m\u001b[0;34m\u001b[0m\u001b[0;34m\u001b[0m\u001b[0m\n\u001b[1;32m    118\u001b[0m         \u001b[0;32mfor\u001b[0m \u001b[0mres\u001b[0m \u001b[0;32min\u001b[0m \u001b[0mfuture_results\u001b[0m\u001b[0;34m:\u001b[0m\u001b[0;34m\u001b[0m\u001b[0;34m\u001b[0m\u001b[0m\n",
      "\u001b[0;32m~/anaconda3/lib/python3.7/concurrent/futures/process.py\u001b[0m in \u001b[0;36msubmit\u001b[0;34m(*args, **kwargs)\u001b[0m\n\u001b[1;32m    623\u001b[0m         \u001b[0;32mwith\u001b[0m \u001b[0mself\u001b[0m\u001b[0;34m.\u001b[0m\u001b[0m_shutdown_lock\u001b[0m\u001b[0;34m:\u001b[0m\u001b[0;34m\u001b[0m\u001b[0;34m\u001b[0m\u001b[0m\n\u001b[1;32m    624\u001b[0m             \u001b[0;32mif\u001b[0m \u001b[0mself\u001b[0m\u001b[0;34m.\u001b[0m\u001b[0m_broken\u001b[0m\u001b[0;34m:\u001b[0m\u001b[0;34m\u001b[0m\u001b[0;34m\u001b[0m\u001b[0m\n\u001b[0;32m--> 625\u001b[0;31m                 \u001b[0;32mraise\u001b[0m \u001b[0mBrokenProcessPool\u001b[0m\u001b[0;34m(\u001b[0m\u001b[0mself\u001b[0m\u001b[0;34m.\u001b[0m\u001b[0m_broken\u001b[0m\u001b[0;34m)\u001b[0m\u001b[0;34m\u001b[0m\u001b[0;34m\u001b[0m\u001b[0m\n\u001b[0m\u001b[1;32m    626\u001b[0m             \u001b[0;32mif\u001b[0m \u001b[0mself\u001b[0m\u001b[0;34m.\u001b[0m\u001b[0m_shutdown_thread\u001b[0m\u001b[0;34m:\u001b[0m\u001b[0;34m\u001b[0m\u001b[0;34m\u001b[0m\u001b[0m\n\u001b[1;32m    627\u001b[0m                 \u001b[0;32mraise\u001b[0m \u001b[0mRuntimeError\u001b[0m\u001b[0;34m(\u001b[0m\u001b[0;34m'cannot schedule new futures after shutdown'\u001b[0m\u001b[0;34m)\u001b[0m\u001b[0;34m\u001b[0m\u001b[0;34m\u001b[0m\u001b[0m\n",
      "\u001b[0;31mBrokenProcessPool\u001b[0m: A child process terminated abruptly, the process pool is not usable anymore"
     ]
    }
   ],
   "source": [
    "if G_final > 1./np.sum(k):\n",
    "    # Need to use different code to pass the critical point\n",
    "    output_df = solve_rgEqs_2(dims, G_final, k, dg=dg, g0=g0, imscale_k=imk,\n",
    "                              imscale_v=imv, skip=skip)\n",
    "else:\n",
    "    # Can just increment g\n",
    "    output_df = solve_rgEqs(dims, G_final, k, dg=dg, g0=g0, imscale_k=imk,\n",
    "                            imscale_v=imv, skip=1)"
   ]
  },
  {
   "cell_type": "markdown",
   "metadata": {},
   "source": [
    "OK, that took a while. If there's a big pink error message about division by zero, ignore it for now.\n",
    "\n",
    "If you see an error that says something about child processes, I suggest restarting the kernel and rerunning.\n",
    "\n",
    "Let's look at the output, stored in a Pandas DataFrame.\n",
    "\n",
    "To store it as a CSV, uncomment lines 2 and 3 below and input a filename when prompted. Line 4 is an example of how to load the data (or other CSV data) into a Pandas dataframe."
   ]
  },
  {
   "cell_type": "code",
   "execution_count": 5,
   "metadata": {},
   "outputs": [
    {
     "name": "stdout",
     "output_type": "stream",
     "text": [
      "            g         G   Re(e_0)       Im(e_0)  Re(omega_0)  Im(omega_0)  \\\n",
      "0   -0.002498 -0.002537  0.393609  7.063218e-20     0.393275    -0.000192   \n",
      "1   -0.004895 -0.005050  0.394480 -1.607382e-19     0.393826    -0.000377   \n",
      "2   -0.007219 -0.007562  0.395321  5.067897e-20     0.394357    -0.000555   \n",
      "3   -0.009475 -0.010075  0.396136  5.853129e-21     0.394870    -0.000728   \n",
      "4   -0.011665 -0.012587  0.396924  2.348780e-20     0.395365    -0.000895   \n",
      "..        ...       ...       ...           ...          ...          ...   \n",
      "194 -0.120132 -0.489950  0.432663 -2.145664e-18     0.416991    -0.008621   \n",
      "195 -0.120282 -0.492463  0.432707  8.383548e-18     0.417017    -0.008631   \n",
      "196 -0.120431 -0.494975  0.432752  1.983027e-18     0.417043    -0.008640   \n",
      "197 -0.120579 -0.497488  0.432796  3.503614e-18     0.417069    -0.008650   \n",
      "198 -0.120727 -0.500000  0.432839 -2.115628e-18     0.417094    -0.008660   \n",
      "\n",
      "      Re(e_1)       Im(e_1)  Re(omega_1)  Im(omega_1)     energy       R_0  \\\n",
      "0    0.392942 -5.054176e-21     0.393275     0.000192   1.670927  2.007698   \n",
      "1    0.393175 -9.370746e-21     0.393826     0.000377   1.769988  2.015114   \n",
      "2    0.393398  4.148359e-20     0.394357     0.000555   1.868971  2.022332   \n",
      "3    0.393614 -4.151013e-22     0.394870     0.000728   1.967879  2.029360   \n",
      "4    0.393822 -1.661333e-21     0.395365     0.000895   2.066716  2.036206   \n",
      "..        ...           ...          ...          ...        ...       ...   \n",
      "194  0.402748 -4.365805e-19     0.416991     0.008621  20.540304  2.401567   \n",
      "195  0.402758  6.029548e-19     0.417017     0.008631  20.637154  2.402107   \n",
      "196  0.402769  4.498525e-19     0.417043     0.008640  20.734003  2.402642   \n",
      "197  0.402779  3.497459e-19     0.417069     0.008650  20.830851  2.403173   \n",
      "198  0.402790  1.409576e-19     0.417094     0.008660  20.927698  2.403701   \n",
      "\n",
      "          N_0       R_1       N_1       R_2       N_2       R_3       N_3  \n",
      "0    3.999942 -0.002949  0.000025 -0.002457  0.000018 -0.002292  0.000015  \n",
      "1    3.999886 -0.005791  0.000050 -0.004823  0.000034 -0.004500  0.000030  \n",
      "2    3.999752 -0.008559  0.000108 -0.007125  0.000075 -0.006648  0.000065  \n",
      "3    3.999574 -0.011256  0.000186 -0.009367  0.000128 -0.008738  0.000112  \n",
      "4    3.999357 -0.013883  0.000281 -0.011549  0.000194 -0.010773  0.000169  \n",
      "..        ...       ...       ...       ...       ...       ...       ...  \n",
      "194  3.941724 -0.155659  0.026098 -0.127534  0.017316 -0.118374  0.014862  \n",
      "195  3.941594 -0.155870  0.026157 -0.127705  0.017355 -0.118531  0.014894  \n",
      "196  3.941464 -0.156080  0.026216 -0.127874  0.017393 -0.118688  0.014927  \n",
      "197  3.941336 -0.156288  0.026275 -0.128042  0.017431 -0.118843  0.014959  \n",
      "198  3.941272 -0.156495  0.026304 -0.128209  0.017449 -0.118997  0.014975  \n",
      "\n",
      "[199 rows x 19 columns]\n"
     ]
    }
   ],
   "source": [
    "print(output_df)\n",
    "# filename = input('Name to save file to: ')\n",
    "# output_df.to_csv(filename)\n",
    "# new_df = pd.load_csv(filename)"
   ]
  },
  {
   "cell_type": "markdown",
   "metadata": {},
   "source": [
    "# Using the results\n",
    "\n",
    "## Pairons\n",
    "\n",
    "Let's make a plot of the pairons. First, we need to get the results from the DataFrame. In output_df, the results for each pairon's real and imaginary part is stored as a row, with a name like ``Re(omega_0)``. To get one row, we can do as follows:"
   ]
  },
  {
   "cell_type": "code",
   "execution_count": 6,
   "metadata": {},
   "outputs": [
    {
     "data": {
      "text/plain": [
       "0      0.393609\n",
       "1      0.394480\n",
       "2      0.395321\n",
       "3      0.396136\n",
       "4      0.396924\n",
       "         ...   \n",
       "194    0.432663\n",
       "195    0.432707\n",
       "196    0.432752\n",
       "197    0.432796\n",
       "198    0.432839\n",
       "Name: Re(e_0), Length: 199, dtype: float64"
      ]
     },
     "execution_count": 6,
     "metadata": {},
     "output_type": "execute_result"
    }
   ],
   "source": [
    "output_df['Re(e_0)']"
   ]
  },
  {
   "cell_type": "markdown",
   "metadata": {},
   "source": [
    "I don't want to do this for every column I'm interested in. Let's make lists of these column names:"
   ]
  },
  {
   "cell_type": "code",
   "execution_count": 7,
   "metadata": {},
   "outputs": [
    {
     "name": "stdout",
     "output_type": "stream",
     "text": [
      "['Re(e_0)', 'Re(e_1)']\n",
      "['Im(e_0)', 'Im(e_1)']\n",
      "['Re(omega_0)', 'Re(omega_1)']\n",
      "['Im(omega_0)', 'Im(omega_1)']\n"
     ]
    }
   ],
   "source": [
    "real_e_index = ['Re(e_{})'.format(i) for i in range(Nup)]\n",
    "im_e_index = ['Im(e_{})'.format(i) for i in range(Nup)]\n",
    "real_w_index = ['Re(omega_{})'.format(i) for i in range(Ndown)]\n",
    "im_w_index = ['Im(omega_{})'.format(i) for i in range(Ndown)]\n",
    "\n",
    "# Is this the thing we wanted?\n",
    "print(real_e_index)\n",
    "print(im_e_index)\n",
    "print(real_w_index)\n",
    "print(im_w_index)"
   ]
  },
  {
   "cell_type": "markdown",
   "metadata": {},
   "source": [
    "Let's make a plot with labels and titles and legends!"
   ]
  },
  {
   "cell_type": "code",
   "execution_count": 4,
   "metadata": {},
   "outputs": [
    {
     "ename": "NameError",
     "evalue": "name 'real_e_index' is not defined",
     "output_type": "error",
     "traceback": [
      "\u001b[0;31m---------------------------------------------------------------------------\u001b[0m",
      "\u001b[0;31mNameError\u001b[0m                                 Traceback (most recent call last)",
      "\u001b[0;32m<ipython-input-4-92b205d90d50>\u001b[0m in \u001b[0;36m<module>\u001b[0;34m\u001b[0m\n\u001b[1;32m      5\u001b[0m \u001b[0;34m\u001b[0m\u001b[0m\n\u001b[1;32m      6\u001b[0m \u001b[0mplt\u001b[0m\u001b[0;34m.\u001b[0m\u001b[0msubplot\u001b[0m\u001b[0;34m(\u001b[0m\u001b[0;36m2\u001b[0m\u001b[0;34m,\u001b[0m\u001b[0;36m1\u001b[0m\u001b[0;34m,\u001b[0m\u001b[0;36m1\u001b[0m\u001b[0;34m)\u001b[0m \u001b[0;31m# Making 2 subplots, first for real parts\u001b[0m\u001b[0;34m\u001b[0m\u001b[0;34m\u001b[0m\u001b[0m\n\u001b[0;32m----> 7\u001b[0;31m \u001b[0;32mfor\u001b[0m \u001b[0mi\u001b[0m\u001b[0;34m,\u001b[0m \u001b[0mind\u001b[0m \u001b[0;32min\u001b[0m \u001b[0menumerate\u001b[0m\u001b[0;34m(\u001b[0m\u001b[0mreal_e_index\u001b[0m\u001b[0;34m)\u001b[0m\u001b[0;34m:\u001b[0m\u001b[0;34m\u001b[0m\u001b[0;34m\u001b[0m\u001b[0m\n\u001b[0m\u001b[1;32m      8\u001b[0m     \u001b[0;31m# Plotting like before, but now assigning labels for the legend\u001b[0m\u001b[0;34m\u001b[0m\u001b[0;34m\u001b[0m\u001b[0;34m\u001b[0m\u001b[0m\n\u001b[1;32m      9\u001b[0m     \u001b[0;31m# Luckily, our rownames are decent labels already\u001b[0m\u001b[0;34m\u001b[0m\u001b[0;34m\u001b[0m\u001b[0;34m\u001b[0m\u001b[0m\n",
      "\u001b[0;31mNameError\u001b[0m: name 'real_e_index' is not defined"
     ]
    },
    {
     "data": {
      "image/png": "[encoded data removed]",
      "text/plain": [
       "<Figure size 864x864 with 1 Axes>"
      ]
     },
     "metadata": {
      "needs_background": "light"
     },
     "output_type": "display_data"
    }
   ],
   "source": [
    "plt.figure(figsize=(12,12)) # Making a bigger figure for the plots\n",
    "\n",
    "markers = ['1', '2', '3', '4', 'x', '+', '.', 'v', '^'] \n",
    "# using different shapes for the markers so we can see stacked results\n",
    "\n",
    "plt.subplot(2,1,1) # Making 2 subplots, first for real parts\n",
    "for i, ind in enumerate(real_e_index):\n",
    "    # Plotting like before, but now assigning labels for the legend\n",
    "    # Luckily, our rownames are decent labels already\n",
    "    plt.scatter(output_df['G']*L, output_df[ind], label=ind, marker=markers[i]) \n",
    "# Doing the same for real parts of omega\n",
    "for i, ind in enumerate(real_w_index): \n",
    "    plt.scatter(output_df['G']*L, output_df[ind], label=ind, marker=markers[i]) \n",
    "\n",
    "# Let's plot a horizontal line at 0\n",
    "# plt.axhline(0)\n",
    "\n",
    "# Let's make a thin, vertical, dotted/dashed, magenta line at G_c\n",
    "g_c = L/np.sum(k)\n",
    "plt.axvline(g_c, ls='-.', color='magenta', linewidth=.5)\n",
    "    \n",
    "# Making axes labels\n",
    "plt.title('Real parts of the pairons for L = {}, Nup = {}, Ndown = {}'.format(L, Nup, Ndown))\n",
    "plt.xlabel('GL')\n",
    "plt.ylabel('Real part')\n",
    "plt.legend() \n",
    "    \n",
    "plt.subplot(2,1,2) # Now moving to a second subplot\n",
    "for i, ind in enumerate(im_e_index):\n",
    "    plt.scatter(output_df['G']*L, output_df[ind], label=ind, marker=markers[i]) \n",
    "for i, ind in enumerate(im_w_index): \n",
    "    plt.scatter(output_df['G']*L, output_df[ind], label=ind, marker=markers[i]) \n",
    "\n",
    "# plt.axhline(0)\n",
    "# plt.axvline(g_c, ls='-.', color='magenta', linewidth=.5)    \n",
    "    \n",
    "plt.title('Imaginary parts of the pairons for L = {}, Nup = {}, Ndown = {}'.format(L, Nup, Ndown))\n",
    "plt.xlabel('GL')\n",
    "plt.ylabel('Imaginary part')\n",
    "plt.legend()\n",
    "\n",
    "plt.show()"
   ]
  },
  {
   "cell_type": "markdown",
   "metadata": {},
   "source": [
    "We can change the limits of the axes to get a closer look at the behavior around G_c:"
   ]
  },
  {
   "cell_type": "code",
   "execution_count": 10,
   "metadata": {},
   "outputs": [
    {
     "data": {
      "image/png": "[encoded data removed]",
      "text/plain": [
       "<Figure size 576x576 with 1 Axes>"
      ]
     },
     "metadata": {
      "needs_background": "light"
     },
     "output_type": "display_data"
    }
   ],
   "source": [
    "plt.figure(figsize=(8,8))\n",
    "\n",
    "plt.axvline(g_c, ls = '--', color='lightgray')\n",
    "plt.axhline(0, ls = '--', color='lightgray')\n",
    "\n",
    "for i, ind in enumerate(real_e_index):\n",
    "    # s is the size of the marks (not sure the units)\n",
    "    # Let's make them bigger!\n",
    "    plt.scatter(output_df['G']*L, output_df[ind], label=ind, marker=markers[i], s=100) \n",
    "for i, ind in enumerate(real_w_index): \n",
    "    plt.scatter(output_df['G']*L, output_df[ind], label=ind, marker=markers[i], s=100) \n",
    "for i, ind in enumerate(im_e_index):\n",
    "    plt.scatter(output_df['G']*L, output_df[ind], label=ind, marker=markers[i], s=100) \n",
    "for i, ind in enumerate(im_w_index): \n",
    "    plt.scatter(output_df['G']*L, output_df[ind], label=ind, marker=markers[i], s=100) \n",
    "    \n",
    "plt.xlim(0.95*g_c, 1.05*g_c) # Looking within 5% of g_c\n",
    "plt.ylim(-0.2, 0.2) # You might need to change these values\n",
    "\n",
    "plt.legend()\n",
    "plt.xlabel('GL')\n",
    "\n",
    "plt.title('Real and imaginary parts around G_c')\n",
    "plt.show()"
   ]
  },
  {
   "cell_type": "markdown",
   "metadata": {},
   "source": [
    "## Energy\n",
    "We can also plot energy (and other things). Let's get the energy and derivatives from the output DataFrame.\n",
    "\n",
    "Again, if there is a division by zero error, ignore it for now. This occurs if we are taking the derivative of something too close to vertical."
   ]
  },
  {
   "cell_type": "code",
   "execution_count": 12,
   "metadata": {},
   "outputs": [
    {
     "name": "stdout",
     "output_type": "stream",
     "text": [
      "Taking 1st derivative\n",
      "Taking 2nd derivative\n",
      "Taking 3rd derivative\n"
     ]
    }
   ],
   "source": [
    "Es = output_df['energy']\n",
    "Gs = output_df['G']\n",
    "# Rescaling by appropriate factors of L\n",
    "es = Es/L\n",
    "gs = Gs*L # different than g in previous plot\n",
    "\n",
    "print('Taking 1st derivative')\n",
    "de = np.gradient(es, gs) # derivative de/dg\n",
    "print('Taking 2nd derivative')\n",
    "d2e = np.gradient(de, gs) # second derivative\n",
    "print('Taking 3rd derivative')\n",
    "d3e = np.gradient(d2e, gs) # third"
   ]
  },
  {
   "cell_type": "markdown",
   "metadata": {},
   "source": [
    "Now, let's make a 2-by-2 plot with the energy and derivatives."
   ]
  },
  {
   "cell_type": "code",
   "execution_count": 13,
   "metadata": {},
   "outputs": [
    {
     "data": {
      "image/png": "[encoded data removed]",
      "text/plain": [
       "<Figure size 864x864 with 4 Axes>"
      ]
     },
     "metadata": {
      "needs_background": "light"
     },
     "output_type": "display_data"
    }
   ],
   "source": [
    "plt.figure(figsize=(12, 12))\n",
    "\n",
    "plt.subplot(2, 2, 1)\n",
    "plt.scatter(gs, es)\n",
    "plt.xlabel('g')\n",
    "plt.ylabel('e')\n",
    "plt.axvline(g_c, ls=':', color='magenta')\n",
    "\n",
    "plt.subplot(2, 2, 2)\n",
    "plt.scatter(gs, de)\n",
    "plt.xlabel('g')\n",
    "plt.ylabel('de/dg')\n",
    "plt.axvline(g_c, ls=':', color='magenta')\n",
    "\n",
    "\n",
    "plt.subplot(2, 2, 3)\n",
    "plt.scatter(gs, d2e)\n",
    "plt.xlabel('g')\n",
    "plt.ylabel('d^2e/dg^2')\n",
    "plt.axvline(g_c, ls=':', color='magenta')\n",
    "plt.xlim(0.3, 1.0)\n",
    "\n",
    "\n",
    "plt.subplot(2, 2, 4)\n",
    "plt.scatter(gs, d3e)\n",
    "plt.xlabel('g')\n",
    "plt.ylabel('d^3e/dg^3')\n",
    "plt.axvline(g_c, ls=':', color='magenta')\n",
    "plt.xlim(0.3, 1.0) \n",
    "# Behavior around G=0 is weird but this is due to truncation and inaccuracies in the solution around that point\n",
    "\n",
    "plt.show()"
   ]
  },
  {
   "cell_type": "markdown",
   "metadata": {},
   "source": [
    "## Momentum Distribution\n",
    "\n",
    "Let's look at the momentum distribution within $5\\%$ of my prediction for $G_c$."
   ]
  },
  {
   "cell_type": "code",
   "execution_count": 14,
   "metadata": {},
   "outputs": [
    {
     "name": "stderr",
     "output_type": "stream",
     "text": [
      "No handles with labels found to put in legend.\n"
     ]
    },
    {
     "data": {
      "image/png": "[encoded data removed]",
      "text/plain": [
       "<Figure size 864x576 with 1 Axes>"
      ]
     },
     "metadata": {
      "needs_background": "light"
     },
     "output_type": "display_data"
    }
   ],
   "source": [
    "N_inds = ['N_{}'.format(i) for i in range(L)]\n",
    "\n",
    "plt.figure(figsize=(12, 8))\n",
    "\n",
    "for i, G in enumerate(Gs):\n",
    "    if 0.95 < G*L/g_c < 1.05: # Only selecting within 2% of G_c\n",
    "        plt.plot(k, output_df[N_inds].iloc[i], \n",
    "                label='g = {}'.format(np.round(G*L, 3)), # rounding the label to 3 decimal places\n",
    "                 marker='o') # Putting a dot at each data point\n",
    "plt.xlabel('k')\n",
    "plt.ylabel('N_k')\n",
    "plt.legend()\n",
    "plt.xlim(0, np.pi)\n",
    "plt.show()"
   ]
  },
  {
   "cell_type": "markdown",
   "metadata": {},
   "source": [
    "At precisely the critical coupling, it seems like Jorge's prediction of perfectly flat distribution is true, just not at the coupling he predicted.\n",
    "\n",
    "To get a better sense of overall behavior, we can plot at a wider range of coupling. To make sure we don't end up with too many lines, I'll only plot once every 5 datapoints."
   ]
  },
  {
   "cell_type": "code",
   "execution_count": 15,
   "metadata": {},
   "outputs": [
    {
     "data": {
      "image/png": "[encoded data removed]",
      "text/plain": [
       "<Figure size 576x576 with 1 Axes>"
      ]
     },
     "metadata": {
      "needs_background": "light"
     },
     "output_type": "display_data"
    }
   ],
   "source": [
    "plt.figure(figsize=(8,8))        \n",
    "\n",
    "for i, G in enumerate(Gs):\n",
    "    if i%5 == 0: # Only using indices that are multiples of 5\n",
    "        plt.plot(k, output_df[N_inds].iloc[i], \n",
    "                label='g = {}'.format(np.round(G*L, 3)), # rounding the label to 3 decimal places\n",
    "                 marker='o') # Putting a dot at each data point\n",
    "\n",
    "plt.xlabel('k')\n",
    "plt.ylabel('N_k')\n",
    "plt.legend()\n",
    "plt.xlim(0, np.pi)\n",
    "plt.ylim(0, 4) # Limits on values of N_k = n_{k up} + n_{k down} + n_{-k up} + n_{-k down}\n",
    "plt.show()"
   ]
  },
  {
   "cell_type": "markdown",
   "metadata": {},
   "source": [
    "# Checking results with exact diagonalization\n",
    "\n",
    "To use my exact-diagonalization code, you will need the [Quspin package](https://weinbe58.github.io/QuSpin/).\n",
    "First, we import functions from my exact-diagonalization code and create a basis for ``Nup`` spin up and ``Ndown``\n",
    "spin down fermions on a 1-d lattice with ``2L`` sites (since ``L`` counts only positive $k$):"
   ]
  },
  {
   "cell_type": "code",
   "execution_count": 16,
   "metadata": {},
   "outputs": [
    {
     "name": "stdout",
     "output_type": "stream",
     "text": [
      "Number of states in the basis:\n",
      "784\n"
     ]
    }
   ],
   "source": [
    "from exact_diag import ham_op_2, find_nk, form_basis, casimir_dict, iom_dict, quantum_operator\n",
    "basis = form_basis(2*L, Nup, Ndown)\n",
    "print('Number of states in the basis:')\n",
    "print(basis.Ns)"
   ]
  },
  {
   "cell_type": "markdown",
   "metadata": {},
   "source": [
    "Now, we create a Hamiltonian (as Quspin ``quantum_operator`` object) corresponding to our final coupling.\n",
    "Note that if the number of states in the basis is too big, this operator will eat up a lot of memory. I would recommend not running any of this for L > 5."
   ]
  },
  {
   "cell_type": "code",
   "execution_count": 17,
   "metadata": {},
   "outputs": [
    {
     "name": "stdout",
     "output_type": "stream",
     "text": [
      "Hermiticity check passed!\n",
      "Symmetry checks passed!\n",
      "Particle conservation check passed!\n"
     ]
    }
   ],
   "source": [
    "H = ham_op_2(L, G_final, k, basis=basis)\n"
   ]
  },
  {
   "cell_type": "markdown",
   "metadata": {},
   "source": [
    "We can diagonalize this Hamiltonian. Let's do full diagonalization if the dimension of the Hilbert space is\n",
    "less than 4000, and do sparse diagonalization to only get the 10 lowest-energy states if it's larger than that."
   ]
  },
  {
   "cell_type": "code",
   "execution_count": 18,
   "metadata": {},
   "outputs": [
    {
     "name": "stdout",
     "output_type": "stream",
     "text": [
      "Dimension of the Hilbert space:\n",
      "784\n"
     ]
    },
    {
     "data": {
      "image/png": "[encoded data removed]",
      "text/plain": [
       "<Figure size 432x288 with 1 Axes>"
      ]
     },
     "metadata": {
      "needs_background": "light"
     },
     "output_type": "display_data"
    }
   ],
   "source": [
    "dim_h = basis.Ns\n",
    "print('Dimension of the Hilbert space:')\n",
    "print(dim_h)\n",
    "\n",
    "if dim_h > 4000:\n",
    "    exact_energies, exact_states = H.eigsh(k=10, which='SA') # k is number of states to find, SA means find the smallest algabraic eigenvalues\n",
    "else:\n",
    "    exact_energies, exact_states = H.eigh() # Full diagonalization of a Hermitian matrix\n",
    "    \n",
    "# Creating a histogram of the energies\n",
    "plt.hist(exact_energies, bins=dim_h//50)\n",
    "plt.xlabel('Energy')\n",
    "plt.ylabel('Number of states')\n",
    "plt.title('Histogram of energies at G = {}'.format(G_final))\n",
    "plt.show()"
   ]
  },
  {
   "cell_type": "markdown",
   "metadata": {},
   "source": [
    "Let's compare the ground state energy from ED to the final ground state energy from the RG equations:"
   ]
  },
  {
   "cell_type": "code",
   "execution_count": 19,
   "metadata": {},
   "outputs": [
    {
     "name": "stdout",
     "output_type": "stream",
     "text": [
      "ED ground state energy\n",
      "19.082828514842348\n",
      "RG ground state energy\n",
      "20.927698011780137\n",
      "Difference\n",
      "-1.8448694969377897\n"
     ]
    }
   ],
   "source": [
    "print('ED ground state energy')\n",
    "print(exact_energies[0]) \n",
    "\n",
    "print('RG ground state energy')\n",
    "print(output_df['energy'].iloc[-1])\n",
    "\n",
    "print('Difference')\n",
    "print(exact_energies[0] - output_df['energy'].iloc[-1])"
   ]
  },
  {
   "cell_type": "markdown",
   "metadata": {},
   "source": [
    "Now let's plot the difference between energies at various couplings."
   ]
  },
  {
   "cell_type": "code",
   "execution_count": 20,
   "metadata": {},
   "outputs": [
    {
     "name": "stdout",
     "output_type": "stream",
     "text": [
      "Hermiticity check passed!\n",
      "Symmetry checks passed!\n",
      "Particle conservation check passed!\n",
      "Hermiticity check passed!\n",
      "Symmetry checks passed!\n",
      "Particle conservation check passed!\n",
      "Hermiticity check passed!\n",
      "Symmetry checks passed!\n",
      "Particle conservation check passed!\n",
      "Hermiticity check passed!\n",
      "Symmetry checks passed!\n",
      "Particle conservation check passed!\n",
      "Hermiticity check passed!\n",
      "Symmetry checks passed!\n",
      "Particle conservation check passed!\n",
      "Hermiticity check passed!\n",
      "Symmetry checks passed!\n",
      "Particle conservation check passed!\n",
      "Hermiticity check passed!\n",
      "Symmetry checks passed!\n",
      "Particle conservation check passed!\n",
      "Hermiticity check passed!\n",
      "Symmetry checks passed!\n",
      "Particle conservation check passed!\n",
      "Hermiticity check passed!\n",
      "Symmetry checks passed!\n",
      "Particle conservation check passed!\n",
      "Hermiticity check passed!\n",
      "Symmetry checks passed!\n",
      "Particle conservation check passed!\n",
      "Hermiticity check passed!\n",
      "Symmetry checks passed!\n",
      "Particle conservation check passed!\n",
      "Hermiticity check passed!\n",
      "Symmetry checks passed!\n",
      "Particle conservation check passed!\n",
      "Hermiticity check passed!\n",
      "Symmetry checks passed!\n",
      "Particle conservation check passed!\n",
      "Hermiticity check passed!\n",
      "Symmetry checks passed!\n",
      "Particle conservation check passed!\n",
      "Hermiticity check passed!\n",
      "Symmetry checks passed!\n",
      "Particle conservation check passed!\n",
      "Hermiticity check passed!\n",
      "Symmetry checks passed!\n",
      "Particle conservation check passed!\n",
      "Hermiticity check passed!\n",
      "Symmetry checks passed!\n",
      "Particle conservation check passed!\n",
      "Hermiticity check passed!\n",
      "Symmetry checks passed!\n",
      "Particle conservation check passed!\n",
      "Hermiticity check passed!\n",
      "Symmetry checks passed!\n",
      "Particle conservation check passed!\n",
      "Hermiticity check passed!\n",
      "Symmetry checks passed!\n",
      "Particle conservation check passed!\n",
      "Hermiticity check passed!\n",
      "Symmetry checks passed!\n",
      "Particle conservation check passed!\n",
      "Hermiticity check passed!\n",
      "Symmetry checks passed!\n",
      "Particle conservation check passed!\n",
      "Hermiticity check passed!\n",
      "Symmetry checks passed!\n",
      "Particle conservation check passed!\n",
      "Hermiticity check passed!\n",
      "Symmetry checks passed!\n",
      "Particle conservation check passed!\n",
      "Hermiticity check passed!\n",
      "Symmetry checks passed!\n",
      "Particle conservation check passed!\n",
      "Hermiticity check passed!\n",
      "Symmetry checks passed!\n",
      "Particle conservation check passed!\n",
      "Hermiticity check passed!\n",
      "Symmetry checks passed!\n",
      "Particle conservation check passed!\n",
      "Hermiticity check passed!\n",
      "Symmetry checks passed!\n",
      "Particle conservation check passed!\n",
      "Hermiticity check passed!\n",
      "Symmetry checks passed!\n",
      "Particle conservation check passed!\n",
      "Hermiticity check passed!\n",
      "Symmetry checks passed!\n",
      "Particle conservation check passed!\n",
      "Hermiticity check passed!\n",
      "Symmetry checks passed!\n",
      "Particle conservation check passed!\n",
      "Hermiticity check passed!\n",
      "Symmetry checks passed!\n",
      "Particle conservation check passed!\n",
      "Hermiticity check passed!\n",
      "Symmetry checks passed!\n",
      "Particle conservation check passed!\n",
      "Hermiticity check passed!\n",
      "Symmetry checks passed!\n",
      "Particle conservation check passed!\n",
      "Hermiticity check passed!\n",
      "Symmetry checks passed!\n",
      "Particle conservation check passed!\n",
      "Hermiticity check passed!\n",
      "Symmetry checks passed!\n",
      "Particle conservation check passed!\n",
      "Hermiticity check passed!\n",
      "Symmetry checks passed!\n",
      "Particle conservation check passed!\n",
      "Hermiticity check passed!\n",
      "Symmetry checks passed!\n",
      "Particle conservation check passed!\n",
      "Hermiticity check passed!\n",
      "Symmetry checks passed!\n",
      "Particle conservation check passed!\n",
      "Hermiticity check passed!\n",
      "Symmetry checks passed!\n",
      "Particle conservation check passed!\n"
     ]
    },
    {
     "data": {
      "image/png": "[encoded data removed]",
      "text/plain": [
       "<Figure size 432x288 with 1 Axes>"
      ]
     },
     "metadata": {
      "needs_background": "light"
     },
     "output_type": "display_data"
    }
   ],
   "source": [
    "diffs = []\n",
    "divisible_Gs = []\n",
    "for i, G in enumerate(Gs):\n",
    "    if i%20 == 0: # Only using indices that are multiples of 15\n",
    "        h = ham_op_2(L, G, k, basis=basis)\n",
    "        e, v = h.eigsh(k=1, which = 'SA') # we only need the 0th energy\n",
    "        diffs += [e[0] - output_df['energy'].iloc[i]]\n",
    "        divisible_Gs += [G]\n",
    "         \n",
    "plt.plot(np.array(divisible_Gs)*L, diffs, marker='o')\n",
    "plt.xlabel('GL')\n",
    "plt.ylabel('Energy difference')\n",
    "# plt.ylim(-10**-12, 10**-12)\n",
    "plt.show()"
   ]
  },
  {
   "cell_type": "code",
   "execution_count": null,
   "metadata": {},
   "outputs": [],
   "source": []
  },
  {
   "cell_type": "markdown",
   "metadata": {},
   "source": [
    "## Charge gap/chemical potential\n",
    "Let's define some more quantities: First, chemical potential is (more or less) the energy\n",
    "required to add a fermion to the system. We can estimate it as\n",
    "\\begin{equation}\n",
    "\\mu = \\frac{E(N+1)- E(N) + E(N) - E(N-1)}{2}\n",
    "= \\frac{E(N+1) -E(N-1)}{2}\n",
    "\\end{equation}\n",
    "where $E(M)$ is the ground state energy with $M$ fermions.\n",
    "\n",
    "We can define a similar quantity, the charge gap (which I will call $\\Delta$):\n",
    "\\begin{equation}\n",
    "\\Delta  = \\frac{E(N+1) + E(N-1) - 2 E(N)}{2}.\n",
    "\\end{equation}\n",
    "\n",
    "Let's see how these behave around our critical point:"
   ]
  },
  {
   "cell_type": "code",
   "execution_count": 51,
   "metadata": {},
   "outputs": [
    {
     "name": "stdout",
     "output_type": "stream",
     "text": [
      "Hermiticity check passed!\n",
      "Symmetry checks passed!\n",
      "Particle conservation check passed!\n",
      "Hermiticity check passed!\n",
      "Symmetry checks passed!\n",
      "Particle conservation check passed!\n",
      "Hermiticity check passed!\n",
      "Symmetry checks passed!\n",
      "Particle conservation check passed!\n",
      "Hermiticity check passed!\n",
      "Symmetry checks passed!\n",
      "Particle conservation check passed!\n",
      "Hermiticity check passed!\n",
      "Symmetry checks passed!\n",
      "Particle conservation check passed!\n",
      "Hermiticity check passed!\n",
      "Symmetry checks passed!\n",
      "Particle conservation check passed!\n",
      "Hermiticity check passed!\n",
      "Symmetry checks passed!\n",
      "Particle conservation check passed!\n",
      "Hermiticity check passed!\n",
      "Symmetry checks passed!\n",
      "Particle conservation check passed!\n",
      "Hermiticity check passed!\n",
      "Symmetry checks passed!\n",
      "Particle conservation check passed!\n",
      "Hermiticity check passed!\n",
      "Symmetry checks passed!\n",
      "Particle conservation check passed!\n",
      "Hermiticity check passed!\n",
      "Symmetry checks passed!\n",
      "Particle conservation check passed!\n",
      "Hermiticity check passed!\n",
      "Symmetry checks passed!\n",
      "Particle conservation check passed!\n",
      "Hermiticity check passed!\n",
      "Symmetry checks passed!\n",
      "Particle conservation check passed!\n",
      "Hermiticity check passed!\n",
      "Symmetry checks passed!\n",
      "Particle conservation check passed!\n",
      "Hermiticity check passed!\n",
      "Symmetry checks passed!\n",
      "Particle conservation check passed!\n",
      "Hermiticity check passed!\n",
      "Symmetry checks passed!\n",
      "Particle conservation check passed!\n",
      "Hermiticity check passed!\n",
      "Symmetry checks passed!\n",
      "Particle conservation check passed!\n",
      "Hermiticity check passed!\n",
      "Symmetry checks passed!\n",
      "Particle conservation check passed!\n",
      "Hermiticity check passed!\n",
      "Symmetry checks passed!\n",
      "Particle conservation check passed!\n",
      "Hermiticity check passed!\n",
      "Symmetry checks passed!\n",
      "Particle conservation check passed!\n",
      "Hermiticity check passed!\n",
      "Symmetry checks passed!\n",
      "Particle conservation check passed!\n",
      "Hermiticity check passed!\n",
      "Symmetry checks passed!\n",
      "Particle conservation check passed!\n",
      "Hermiticity check passed!\n",
      "Symmetry checks passed!\n",
      "Particle conservation check passed!\n",
      "Hermiticity check passed!\n",
      "Symmetry checks passed!\n",
      "Particle conservation check passed!\n",
      "Hermiticity check passed!\n",
      "Symmetry checks passed!\n",
      "Particle conservation check passed!\n",
      "Hermiticity check passed!\n",
      "Symmetry checks passed!\n",
      "Particle conservation check passed!\n",
      "Hermiticity check passed!\n",
      "Symmetry checks passed!\n",
      "Particle conservation check passed!\n",
      "Hermiticity check passed!\n",
      "Symmetry checks passed!\n",
      "Particle conservation check passed!\n",
      "Hermiticity check passed!\n",
      "Symmetry checks passed!\n",
      "Particle conservation check passed!\n",
      "Hermiticity check passed!\n",
      "Symmetry checks passed!\n",
      "Particle conservation check passed!\n",
      "Hermiticity check passed!\n",
      "Symmetry checks passed!\n",
      "Particle conservation check passed!\n",
      "Hermiticity check passed!\n",
      "Symmetry checks passed!\n",
      "Particle conservation check passed!\n",
      "Hermiticity check passed!\n",
      "Symmetry checks passed!\n",
      "Particle conservation check passed!\n",
      "Hermiticity check passed!\n",
      "Symmetry checks passed!\n",
      "Particle conservation check passed!\n",
      "Hermiticity check passed!\n",
      "Symmetry checks passed!\n",
      "Particle conservation check passed!\n",
      "Hermiticity check passed!\n",
      "Symmetry checks passed!\n",
      "Particle conservation check passed!\n",
      "Hermiticity check passed!\n",
      "Symmetry checks passed!\n",
      "Particle conservation check passed!\n",
      "Hermiticity check passed!\n",
      "Symmetry checks passed!\n",
      "Particle conservation check passed!\n",
      "Hermiticity check passed!\n",
      "Symmetry checks passed!\n",
      "Particle conservation check passed!\n",
      "Hermiticity check passed!\n",
      "Symmetry checks passed!\n",
      "Particle conservation check passed!\n",
      "Hermiticity check passed!\n",
      "Symmetry checks passed!\n",
      "Particle conservation check passed!\n",
      "Hermiticity check passed!\n",
      "Symmetry checks passed!\n",
      "Particle conservation check passed!\n",
      "Hermiticity check passed!\n",
      "Symmetry checks passed!\n",
      "Particle conservation check passed!\n",
      "Hermiticity check passed!\n",
      "Symmetry checks passed!\n",
      "Particle conservation check passed!\n",
      "Hermiticity check passed!\n",
      "Symmetry checks passed!\n",
      "Particle conservation check passed!\n",
      "Hermiticity check passed!\n",
      "Symmetry checks passed!\n",
      "Particle conservation check passed!\n",
      "Hermiticity check passed!\n",
      "Symmetry checks passed!\n",
      "Particle conservation check passed!\n",
      "Hermiticity check passed!\n",
      "Symmetry checks passed!\n",
      "Particle conservation check passed!\n",
      "Hermiticity check passed!\n",
      "Symmetry checks passed!\n",
      "Particle conservation check passed!\n",
      "Hermiticity check passed!\n",
      "Symmetry checks passed!\n",
      "Particle conservation check passed!\n",
      "Hermiticity check passed!\n",
      "Symmetry checks passed!\n",
      "Particle conservation check passed!\n",
      "Hermiticity check passed!\n",
      "Symmetry checks passed!\n",
      "Particle conservation check passed!\n",
      "Hermiticity check passed!\n",
      "Symmetry checks passed!\n",
      "Particle conservation check passed!\n",
      "Hermiticity check passed!\n",
      "Symmetry checks passed!\n",
      "Particle conservation check passed!\n",
      "Hermiticity check passed!\n",
      "Symmetry checks passed!\n",
      "Particle conservation check passed!\n",
      "Hermiticity check passed!\n",
      "Symmetry checks passed!\n",
      "Particle conservation check passed!\n",
      "Hermiticity check passed!\n",
      "Symmetry checks passed!\n",
      "Particle conservation check passed!\n",
      "Hermiticity check passed!\n",
      "Symmetry checks passed!\n",
      "Particle conservation check passed!\n",
      "Hermiticity check passed!\n",
      "Symmetry checks passed!\n",
      "Particle conservation check passed!\n",
      "Hermiticity check passed!\n",
      "Symmetry checks passed!\n",
      "Particle conservation check passed!\n"
     ]
    }
   ],
   "source": [
    "Gss = np.linspace(0, G_final, 20)\n",
    "\n",
    "b_plus = form_basis(2*L, Nup + 1, Ndown)\n",
    "b_minus = form_basis(2*L, Nup - 1, Ndown)\n",
    "e_plus = np.zeros(len(Gss))\n",
    "energies = np.zeros(len(Gss))\n",
    "e_minus = np.zeros(len(Gss))\n",
    "for i, G in enumerate(Gss):\n",
    "    h_plus = ham_op_2(L, G, k, basis=b_plus)\n",
    "    h = ham_op_2(L, G, k, basis=basis)\n",
    "    h_minus = ham_op_2(L, G, k, basis=b_minus)\n",
    "    ep, vp = h_plus.eigsh(k=1, which='SA')\n",
    "    e, v = h.eigsh(k=1, which='SA')\n",
    "    em, vm = h_minus.eigsh(k=1, which='SA')\n",
    "    e_plus[i] = ep[0]\n",
    "    energies[i] = e[0]\n",
    "    e_minus[i] = em[0]"
   ]
  },
  {
   "cell_type": "code",
   "execution_count": 21,
   "metadata": {},
   "outputs": [
    {
     "ename": "NameError",
     "evalue": "name 'e_plus' is not defined",
     "output_type": "error",
     "traceback": [
      "\u001b[0;31m---------------------------------------------------------------------------\u001b[0m",
      "\u001b[0;31mNameError\u001b[0m                                 Traceback (most recent call last)",
      "\u001b[0;32m<ipython-input-21-356b3b95f3ab>\u001b[0m in \u001b[0;36m<module>\u001b[0;34m\u001b[0m\n\u001b[0;32m----> 1\u001b[0;31m \u001b[0mmu\u001b[0m \u001b[0;34m=\u001b[0m \u001b[0;34m(\u001b[0m\u001b[0me_plus\u001b[0m \u001b[0;34m-\u001b[0m \u001b[0me_minus\u001b[0m\u001b[0;34m)\u001b[0m\u001b[0;34m/\u001b[0m\u001b[0;36m2\u001b[0m\u001b[0;34m\u001b[0m\u001b[0;34m\u001b[0m\u001b[0m\n\u001b[0m\u001b[1;32m      2\u001b[0m \u001b[0mcg\u001b[0m \u001b[0;34m=\u001b[0m \u001b[0;34m(\u001b[0m\u001b[0me_plus\u001b[0m \u001b[0;34m+\u001b[0m \u001b[0me_minus\u001b[0m \u001b[0;34m-\u001b[0m \u001b[0;36m2\u001b[0m\u001b[0;34m*\u001b[0m\u001b[0menergies\u001b[0m\u001b[0;34m)\u001b[0m\u001b[0;34m/\u001b[0m\u001b[0;36m2\u001b[0m\u001b[0;34m\u001b[0m\u001b[0;34m\u001b[0m\u001b[0m\n\u001b[1;32m      3\u001b[0m \u001b[0mplt\u001b[0m\u001b[0;34m.\u001b[0m\u001b[0mfigure\u001b[0m\u001b[0;34m(\u001b[0m\u001b[0mfigsize\u001b[0m\u001b[0;34m=\u001b[0m\u001b[0;34m(\u001b[0m\u001b[0;36m8\u001b[0m\u001b[0;34m,\u001b[0m\u001b[0;36m8\u001b[0m\u001b[0;34m)\u001b[0m\u001b[0;34m)\u001b[0m\u001b[0;34m\u001b[0m\u001b[0;34m\u001b[0m\u001b[0m\n\u001b[1;32m      4\u001b[0m \u001b[0mplt\u001b[0m\u001b[0;34m.\u001b[0m\u001b[0maxhline\u001b[0m\u001b[0;34m(\u001b[0m\u001b[0;36m0\u001b[0m\u001b[0;34m,\u001b[0m \u001b[0mcolor\u001b[0m\u001b[0;34m=\u001b[0m\u001b[0;34m'gray'\u001b[0m\u001b[0;34m)\u001b[0m\u001b[0;34m\u001b[0m\u001b[0;34m\u001b[0m\u001b[0m\n\u001b[1;32m      5\u001b[0m \u001b[0mplt\u001b[0m\u001b[0;34m.\u001b[0m\u001b[0maxvline\u001b[0m\u001b[0;34m(\u001b[0m\u001b[0mg_c\u001b[0m\u001b[0;34m,\u001b[0m \u001b[0mcolor\u001b[0m\u001b[0;34m=\u001b[0m\u001b[0;34m'gray'\u001b[0m\u001b[0;34m)\u001b[0m\u001b[0;34m\u001b[0m\u001b[0;34m\u001b[0m\u001b[0m\n",
      "\u001b[0;31mNameError\u001b[0m: name 'e_plus' is not defined"
     ]
    }
   ],
   "source": [
    "mu = (e_plus - e_minus)/2\n",
    "cg = (e_plus + e_minus - 2*energies)/2\n",
    "plt.figure(figsize=(8,8))\n",
    "plt.axhline(0, color='gray')\n",
    "plt.axvline(g_c, color='gray')\n",
    "plt.plot(Gss*L, mu/L, label = '$\\mu/L$', marker = '+')\n",
    "plt.plot(Gss*L, cg/L, label = '$\\Delta/L$', marker = 'o')\n",
    "plt.xlabel('GL')\n",
    "plt.title('Chemical potential and charge gap')\n",
    "plt.legend()\n",
    "plt.show()"
   ]
  },
  {
   "cell_type": "code",
   "execution_count": null,
   "metadata": {},
   "outputs": [],
   "source": []
  }
 ],
 "metadata": {
  "kernelspec": {
   "display_name": "Python 3",
   "language": "python",
   "name": "python3"
  },
  "language_info": {
   "codemirror_mode": {
    "name": "ipython",
    "version": 3
   },
   "file_extension": ".py",
   "mimetype": "text/x-python",
   "name": "python",
   "nbconvert_exporter": "python",
   "pygments_lexer": "ipython3",
   "version": "3.7.6"
  }
 },
 "nbformat": 4,
 "nbformat_minor": 4
}
