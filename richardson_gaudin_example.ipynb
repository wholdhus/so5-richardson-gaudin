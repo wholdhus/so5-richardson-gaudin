{
 "cells": [
  {
   "cell_type": "markdown",
   "metadata": {},
   "source": [
    "# SO(5) Richardson Gaudin\n",
    "\n",
    "First, let's import the functions and packages we need we need"
   ]
  },
  {
   "cell_type": "code",
   "execution_count": 13,
   "metadata": {},
   "outputs": [],
   "source": [
    "from solve_rg_eqs import solve_rgEqs, solve_rgEqs_2, G_to_g\n",
    "import numpy as np\n",
    "import matplotlib.pyplot as plt\n",
    "import pandas as pd"
   ]
  },
  {
   "cell_type": "markdown",
   "metadata": {},
   "source": [
    "Setting physical parameters. \n",
    "\n",
    "Note that $g$ is not $GL$, but instead\n",
    "$g = \\frac{G}{1-G\\sum_k k}$. At $G_c = \\frac{1}{\\sum_k k}$, $g$ becomes singular. So, around this point I switch to using $1/g$ in the code.\n",
    "\n",
    "Due to assumptions in the code, I currently require Nup and Ndown to be even numbers."
   ]
  },
  {
   "cell_type": "code",
   "execution_count": 23,
   "metadata": {},
   "outputs": [
    {
     "name": "stdout",
     "output_type": "stream",
     "text": [
      "[0. 0. 0.]\n",
      "[3. 3. 3.]\n"
     ]
    }
   ],
   "source": [
    "L = 3 # Very small system, just an illustration\n",
    "Ne = 3\n",
    "Nw = 3\n",
    "\n",
    "N = Ne + Nw\n",
    "ts = np.zeros(L)\n",
    "vs = np.zeros(L)\n",
    "vs[2] = 0\n",
    "print(vs)\n",
    "def ck(vs):\n",
    "    cks = (.5*vs-1)**2+3*(1-.5*vs)-1\n",
    "    return cks\n",
    "print(ck(vs))\n",
    "\n",
    "\n",
    "N = Ne+Nw + np.sum(vs)\n",
    "\n",
    "dims = (L, Ne, Nw, vs)\n",
    "\n",
    "# G_final = 1.25*(2/(np.pi*L)) # 1.5 times critical coupling?\n",
    "G_final = -0.5\n",
    "k = np.arange(1, 2*L+1, 2)*0.5*np.pi/L"
   ]
  },
  {
   "cell_type": "markdown",
   "metadata": {},
   "source": [
    "Setting numerical parameters. If the following things don't work, try decreasing ``dg`` (which will change the other parameters as well). If you want more (or less) points in the output, decrease (increase) the value of ``skip``, which sets how often we remove artificial imaginary parts and save values to output (i.e. skip ``skip`` values of ``g`` before doing this)."
   ]
  },
  {
   "cell_type": "code",
   "execution_count": 24,
   "metadata": {},
   "outputs": [],
   "source": [
    "dg = 0.01/L # step size of g. Scaling with N instead of L because increasing N increases difficulty\n",
    "g0 = .1*dg # initial value of g\n",
    "imk = dg # scale of the imaginary parts added to k\n",
    "imv = g0 # scale of the imaginary parts used in the initial guess\n",
    "\n",
    "skip=4*N # it's harder for larger N, so let's make it easy on us"
   ]
  },
  {
   "cell_type": "markdown",
   "metadata": {},
   "source": [
    "Solving the Richardson-Gaudin equations.\n",
    "\n",
    "Watch out, this could take a while. It will increment ``g`` from ``g0`` until\n",
    "it has trouble converging, at which point it switches to incrementing ``1/g``.\n",
    "\n",
    "Also, ignore things that look like error messages. \n",
    "\n",
    "## Wait for the evaluation to complete!\n",
    "## The [*]: to the left of this should turn into a number [x]:"
   ]
  },
  {
   "cell_type": "code",
   "execution_count": null,
   "metadata": {},
   "outputs": [],
   "source": [
    "output_df = solve_rgEqs_2(dims, G_final, k, dg=dg, g0=g0, imscale_k=imk,\n",
    "                              imscale_v=imv, skip=skip)\n"
   ]
  },
  {
   "cell_type": "markdown",
   "metadata": {},
   "source": [
    "OK, that took a while. If there's a big pink error message about division by zero, ignore it for now.\n",
    "\n",
    "If you see an error that says something about child processes, I suggest restarting the kernel and rerunning.\n",
    "\n",
    "Let's look at the output, stored in a Pandas DataFrame.\n",
    "\n",
    "To store it as a CSV, uncomment lines 2 and 3 below and input a filename when prompted. Line 4 is an example of how to load the data (or other CSV data) into a Pandas dataframe."
   ]
  },
  {
   "cell_type": "code",
   "execution_count": 17,
   "metadata": {},
   "outputs": [
    {
     "name": "stdout",
     "output_type": "stream",
     "text": [
      "          g         G   Re(e_0)       Im(e_0)  Re(omega_0)  Im(omega_0)  \\\n",
      "0  0.078400  0.057249  0.509539  8.970496e-19     0.491379     0.009998   \n",
      "1  0.161344  0.091656  0.493944  1.283186e-18     0.458234     0.018717   \n",
      "2  0.244288  0.113560  0.477933  1.868913e-18     0.427020     0.025479   \n",
      "3  0.318310  0.127324  0.463525 -3.666922e-11     0.401187     0.030027   \n",
      "4  1.101007  0.177915  0.331456  1.243688e-10     0.230620     0.037993   \n",
      "5 -0.605422  0.326728  9.647688  8.802940e-08    -1.259077    -0.866755   \n",
      "6 -0.237432  1.997410  2.174145 -3.651341e-10     3.260284    -1.946570   \n",
      "7 -0.148978 -0.500000  1.881181  2.380021e-10     2.455874    -0.514360   \n",
      "\n",
      "      Re(e_1)       Im(e_1)  Re(omega_1)  Im(omega_1)     energy       R_0  \\\n",
      "0    0.474848  2.498897e-18     0.491379    -0.009998   6.074153  1.836201   \n",
      "1    0.428671  5.589622e-18     0.458234    -0.018717   5.295215  1.683028   \n",
      "2    0.388401  1.484628e-17     0.427020    -0.025479   4.783373  1.546253   \n",
      "3    0.357136 -2.293065e-10     0.401187    -0.030027   4.452495  1.435225   \n",
      "4    0.184292 -1.899267e-10     0.230620    -0.037993   3.126060  0.586979   \n",
      "5   -0.846468  3.135222e-09    -1.259077     0.866755  -2.481225  0.927288   \n",
      "6 -129.575782 -1.107040e-05     3.260284     1.946570 -72.672992  0.442973   \n",
      "7    4.022990  6.857502e-09     2.455874     0.514360  32.472721  0.295273   \n",
      "\n",
      "        N_0       R_1       N_1       R_2  N_2  \n",
      "0  3.961967 -0.195390  0.038033  1.359189  4.0  \n",
      "1  3.930068 -0.422223  0.069932  1.739196  4.0  \n",
      "2  3.859682 -0.665456  0.140318  2.119203  4.0  \n",
      "3  3.802443 -0.893559  0.197557  2.458333  4.0  \n",
      "4  5.210362 -3.631231 -1.210362  6.044252  4.0  \n",
      "5 -0.110777  3.846446  4.110777 -1.773734  4.0  \n",
      "6  0.125561  2.644817  3.874439 -0.087790  4.0  \n",
      "7  0.093012  2.387270  3.906988  0.317458  4.0  \n"
     ]
    }
   ],
   "source": [
    "print(output_df)\n",
    "# filename = input('Name to save file to: ')\n",
    "# output_df.to_csv(filename)\n",
    "# new_df = pd.load_csv(filename)"
   ]
  },
  {
   "cell_type": "markdown",
   "metadata": {},
   "source": [
    "# Checking results with exact diagonalization\n",
    "\n",
    "To use my exact-diagonalization code, you will need the [Quspin package](https://weinbe58.github.io/QuSpin/).\n",
    "First, we import functions from my exact-diagonalization code and create a basis for ``Nup`` spin up and ``Ndown``\n",
    "spin down fermions on a 1-d lattice with ``2L`` sites (since ``L`` counts only positive $k$):"
   ]
  },
  {
   "cell_type": "code",
   "execution_count": 18,
   "metadata": {},
   "outputs": [
    {
     "name": "stdout",
     "output_type": "stream",
     "text": [
      "3\n",
      "Number of states in the basis:\n",
      "400\n"
     ]
    }
   ],
   "source": [
    "from exact_diag import ham_op_2, find_nk, form_basis, casimir_dict, iom_dict, quantum_operator\n",
    "Nup = int(Ne + np.sum(vs)/2)\n",
    "Ndown = int(Nw + np.sum(vs)/2)\n",
    "print(Nup)\n",
    "basis = form_basis(2*L, Nup, Ndown)\n",
    "print('Number of states in the basis:')\n",
    "print(basis.Ns)"
   ]
  },
  {
   "cell_type": "code",
   "execution_count": 19,
   "metadata": {},
   "outputs": [],
   "source": [
    "def Z(a,b):\n",
    "    return a*b/(a-b)\n",
    "def ioms(dims, g, ks, es):\n",
    "    if len(dims) == 3:\n",
    "        L, Ne, Nw = dims\n",
    "        vs = np.zeros(L)\n",
    "    else:\n",
    "        L, Ne, Nw, vs = dims\n",
    "    R = np.zeros(L, dtype=np.complex128)\n",
    "    for i, k in enumerate(ks):\n",
    "        R[i] = g*np.sum((1-.5*vs[i])*Z(k, es))\n",
    "        otherks = ks[np.arange(L) != i]\n",
    "        othervs = vs[np.arange(L) != i]\n",
    "        R[i] -= g*np.sum(((.5*vs[i]-1)*(.5*othervs-1)-1)\n",
    "                           *Z(k, otherks))\n",
    "        R[i] += vs[i]*.5\n",
    "    return R"
   ]
  },
  {
   "cell_type": "code",
   "execution_count": 20,
   "metadata": {},
   "outputs": [
    {
     "name": "stdout",
     "output_type": "stream",
     "text": [
      "Hermiticity check passed!\n",
      "Symmetry checks passed!\n",
      "Particle conservation check passed!\n"
     ]
    }
   ],
   "source": [
    "H = ham_op_2(L, G_final, k, basis=basis)"
   ]
  },
  {
   "cell_type": "code",
   "execution_count": 21,
   "metadata": {},
   "outputs": [
    {
     "name": "stdout",
     "output_type": "stream",
     "text": [
      "Hermiticity check passed!\n",
      "Symmetry checks passed!\n",
      "Particle conservation check passed!\n",
      "Re(e_0)    1.881181\n",
      "Re(e_1)    4.022990\n",
      "Name: 7, dtype: float64\n",
      "Integrals of motion from hand\n",
      "[0.29527251+0.j 2.38726977+0.j 0.31745772+0.j]\n",
      "From dataset\n",
      "R_0    0.295273\n",
      "R_1    2.387270\n",
      "R_2    0.317458\n",
      "Name: 7, dtype: float64\n",
      "Energies from RG\n",
      "32.47272127554452\n",
      "32.47272127554452\n",
      "(32.47272127554452+0j)\n",
      "ED ground state\n",
      "17.841624550719732\n",
      "Smallest difference from ED at 226th state\n",
      "4.662851438297366e-09\n",
      "Degeneracy of this state:\n",
      "3\n",
      "Trv grvn state casimirs\n",
      "(3.000000000000001+0j)\n",
      "(3.000000000000001+0j)\n",
      "(-1+0j)\n",
      "Excited state casimirs\n",
      "(3+0j)\n",
      "(2.9999999999999996+0j)\n",
      "(-1+0j)\n"
     ]
    }
   ],
   "source": [
    "g = output_df['g'].iloc[-1]\n",
    "h = ham_op_2(L, output_df['G'].iloc[-1], k, basis)\n",
    "e0 = output_df['energy'].iloc[-1]\n",
    "ces = output_df[['Re(e_{})'.format(i) for i in range(Ne)]].iloc[-1] \n",
    "if max(abs(output_df[['Im(e_{})'.format(i) for i in range(Ne)]].iloc[-1])) > 10**-6:\n",
    "    ces += 1j*output_df[['Im(e_{})'.format(i) for i in range(Ne)]].iloc[-1]\n",
    "print(ces)\n",
    "ioms_g = ioms(dims, g, k, ces)\n",
    "print('Integrals of motion from hand')\n",
    "print(ioms_g )\n",
    "print('From dataset')\n",
    "print(output_df[['R_{}'.format(i) for i in range(L)]].iloc[-1])\n",
    "e02 = (2*np.sum(k*output_df[['R_{}'.format(i) for i in range(L)]].iloc[-1]) - g*np.sum(ck(vs)*k**2))/(1+g*np.sum(k)) \n",
    "e03 = (2*np.sum(k*ioms_g) - g*np.sum(ck(vs)*k**2))/(1+g*np.sum(k)) \n",
    "\n",
    "e, v = h.eigh()\n",
    "print('Energies from RG')\n",
    "print(e0)\n",
    "print(e02)\n",
    "print(e03)\n",
    "print('ED ground state')\n",
    "print(e[0])\n",
    "rg_ind = np.argmin(np.abs(e-e0))\n",
    "print('Smallest difference from ED at {}th state'.format(rg_ind))\n",
    "print(np.min(np.abs(e-e0)))\n",
    "print('Degeneracy of this state:')\n",
    "print(len(e[np.abs(e - e[rg_ind]) < 10**-10]))\n",
    "\n",
    "cs = [quantum_operator(casimir_dict(L, i, 1), basis=basis, check_herm=False, check_pcon=False, check_symm=False) \n",
    "      for i in range(L)]\n",
    "\n",
    "print('Trv grvn state casimirs')\n",
    "for c in cs:\n",
    "    print(c.matrix_ele(v[:,0], v[:,0]))\n",
    "print('Excited state casimirs')\n",
    "for c in cs:\n",
    "    print(c.matrix_ele(v[:,rg_ind], v[:,rg_ind]))"
   ]
  },
  {
   "cell_type": "code",
   "execution_count": 22,
   "metadata": {},
   "outputs": [
    {
     "name": "stdout",
     "output_type": "stream",
     "text": [
      "3\n",
      "Number of states in the basis:\n",
      "400\n",
      "e_alpha here\n",
      "Im(e_0)    0.463525-0.000000j\n",
      "Im(e_1)    0.357136-0.000000j\n",
      "Name: 3, dtype: complex128\n",
      "0th iom\n",
      "v = 0.0 here\n",
      "p_k1, m_k1 = 3, 2\n",
      "Hermiticity check passed!\n",
      "Symmetry checks passed!\n",
      "Particle conservation check passed!\n",
      "Smallest difference\n",
      "1.626880371431288e-09\n",
      "Index of exact val.\n",
      "386\n",
      "\n",
      "1th iom\n",
      "v = 0.0 here\n",
      "p_k1, m_k1 = 4, 1\n",
      "Hermiticity check passed!\n",
      "Symmetry checks passed!\n",
      "Particle conservation check passed!\n",
      "Smallest difference\n",
      "1.466080103508114e-10\n",
      "Index of exact val.\n",
      "73\n",
      "\n",
      "2th iom\n",
      "v = 2.0 here\n",
      "p_k1, m_k1 = 5, 0\n",
      "Hermiticity check passed!\n",
      "Symmetry checks passed!\n",
      "Particle conservation check passed!\n",
      "Smallest difference\n",
      "0.0\n",
      "Index of exact val.\n",
      "197\n",
      "\n"
     ]
    }
   ],
   "source": [
    "Nup = int(Ne + np.sum(vs)/2)\n",
    "Ndown = int(Nw + np.sum(vs)/2)\n",
    "print(Nup)\n",
    "basis = form_basis(2*L, Nup, Ndown)\n",
    "print('Number of states in the basis:')\n",
    "print(basis.Ns)\n",
    "\n",
    "# i_ind = 1\n",
    "g_ind = 3\n",
    "g = output_df['g'].iloc[g_ind]\n",
    "\n",
    "ces = np.array(output_df[['Re(e_{})'.format(i) for i in range(Ne)]].iloc[g_ind], dtype=np.complex128)\n",
    "if max(abs(output_df[['Im(e_{})'.format(i) for i in range(Ne)]].iloc[g_ind])) > 10**-10:\n",
    "    ces += 1j*output_df[['Im(e_{})'.format(i) for i in range(Ne)]].iloc[g_ind]\n",
    "print('e_alpha here')\n",
    "print(ces)\n",
    "ioms_g = ioms(dims, g, k, ces)\n",
    "\n",
    "for i_ind in range(L):\n",
    "# for i, g in enumerate(output_df['g']):\n",
    "    # print('g = {}'.format(g))\n",
    "    print('{}th iom'.format(i_ind))\n",
    "    print('v = {} here'.format(vs[i_ind]))\n",
    "    Ri = quantum_operator(iom_dict(L, g, k, k1=i_ind, mult=1.), basis=basis)\n",
    "    # ri = output_df['R_{}'.format(i_ind)].iloc[g_ind]\n",
    "    ri = ioms_g[i_ind]\n",
    "    e, v = Ri.eigh()\n",
    "    print('Smallest difference')\n",
    "    print(min(abs(e-ri)))\n",
    "    print('Index of exact val.')\n",
    "    print(np.argmin(abs(e-ri)))\n",
    "    print('')"
   ]
  },
  {
   "cell_type": "markdown",
   "metadata": {
    "jupyter": {
     "source_hidden": true
    }
   },
   "source": [
    "# Using the results\n",
    "\n",
    "## Pairons\n",
    "\n",
    "Let's make a plot of the pairons. First, we need to get the results from the DataFrame. In output_df, the results for each pairon's real and imaginary part is stored as a row, with a name like ``Re(omega_0)``. Let's make lists of these column names:"
   ]
  },
  {
   "cell_type": "code",
   "execution_count": 6,
   "metadata": {
    "collapsed": true,
    "jupyter": {
     "outputs_hidden": true,
     "source_hidden": true
    }
   },
   "outputs": [
    {
     "name": "stdout",
     "output_type": "stream",
     "text": [
      "['Re(e_0)', 'Re(e_1)']\n",
      "['Im(e_0)', 'Im(e_1)']\n",
      "['Re(omega_0)', 'Re(omega_1)']\n",
      "['Im(omega_0)', 'Im(omega_1)']\n"
     ]
    }
   ],
   "source": [
    "real_e_index = ['Re(e_{})'.format(i) for i in range(Ne)]\n",
    "im_e_index = ['Im(e_{})'.format(i) for i in range(Ne)]\n",
    "real_w_index = ['Re(omega_{})'.format(i) for i in range(Nw)]\n",
    "im_w_index = ['Im(omega_{})'.format(i) for i in range(Nw)]\n",
    "\n",
    "# Is this the thing we wanted?\n",
    "print(real_e_index)\n",
    "print(im_e_index)\n",
    "print(real_w_index)\n",
    "print(im_w_index)"
   ]
  },
  {
   "cell_type": "markdown",
   "metadata": {
    "jupyter": {
     "source_hidden": true
    }
   },
   "source": [
    "Let's make a plot with labels and titles and legends!"
   ]
  },
  {
   "cell_type": "code",
   "execution_count": 7,
   "metadata": {
    "collapsed": true,
    "jupyter": {
     "outputs_hidden": true,
     "source_hidden": true
    }
   },
   "outputs": [
    {
     "data": {
      "image/png": "[encoded data removed]",
      "text/plain": [
       "<Figure size 864x864 with 2 Axes>"
      ]
     },
     "metadata": {
      "needs_background": "light"
     },
     "output_type": "display_data"
    }
   ],
   "source": [
    "plt.figure(figsize=(12,12)) # Making a bigger figure for the plots\n",
    "\n",
    "markers = ['1', '2', '3', '4', 'x', '+', '.', 'v', '^'] \n",
    "# using different shapes for the markers so we can see stacked results\n",
    "\n",
    "plt.subplot(2,1,1) # Making 2 subplots, first for real parts\n",
    "for i, ind in enumerate(real_e_index):\n",
    "    # Plotting like before, but now assigning labels for the legend\n",
    "    # Luckily, our rownames are decent labels already\n",
    "    plt.scatter(output_df['G']*L, output_df[ind], label=ind, marker=markers[i]) \n",
    "# Doing the same for real parts of omega\n",
    "for i, ind in enumerate(real_w_index): \n",
    "    plt.scatter(output_df['G']*L, output_df[ind], label=ind, marker=markers[i]) \n",
    "\n",
    "# Let's plot a horizontal line at 0\n",
    "# plt.axhline(0)\n",
    "\n",
    "# Let's make a thin, vertical, dotted/dashed, magenta line at G_c\n",
    "g_c = L/np.sum(k)\n",
    "plt.axvline(g_c, ls='-.', color='magenta', linewidth=.5)\n",
    "    \n",
    "# Making axes labels\n",
    "plt.title('Real parts of the pairons for L = {}, Nup = {}, Ndown = {}'.format(L, Ne, Nw))\n",
    "plt.xlabel('GL')\n",
    "plt.ylabel('Real part')\n",
    "plt.legend() \n",
    "    \n",
    "plt.subplot(2,1,2) # Now moving to a second subplot\n",
    "for i, ind in enumerate(im_e_index):\n",
    "    plt.scatter(output_df['G']*L, output_df[ind], label=ind, marker=markers[i]) \n",
    "for i, ind in enumerate(im_w_index): \n",
    "    plt.scatter(output_df['G']*L, output_df[ind], label=ind, marker=markers[i]) \n",
    "\n",
    "# plt.axhline(0)\n",
    "# plt.axvline(g_c, ls='-.', color='magenta', linewidth=.5)    \n",
    "    \n",
    "plt.title('Imaginary parts of the pairons for L = {}, Nup = {}, Ndown = {}'.format(L, Ne, Nw))\n",
    "plt.xlabel('GL')\n",
    "plt.ylabel('Imaginary part')\n",
    "plt.legend()\n",
    "\n",
    "plt.show()"
   ]
  },
  {
   "cell_type": "markdown",
   "metadata": {
    "jupyter": {
     "source_hidden": true
    }
   },
   "source": [
    "We can change the limits of the axes to get a closer look at the behavior around G_c:"
   ]
  },
  {
   "cell_type": "code",
   "execution_count": 8,
   "metadata": {
    "collapsed": true,
    "jupyter": {
     "outputs_hidden": true,
     "source_hidden": true
    }
   },
   "outputs": [
    {
     "data": {
      "image/png": "[encoded data removed]",
      "text/plain": [
       "<Figure size 576x576 with 1 Axes>"
      ]
     },
     "metadata": {
      "needs_background": "light"
     },
     "output_type": "display_data"
    }
   ],
   "source": [
    "plt.figure(figsize=(8,8))\n",
    "\n",
    "plt.axvline(g_c, ls = '--', color='lightgray')\n",
    "plt.axhline(0, ls = '--', color='lightgray')\n",
    "\n",
    "for i, ind in enumerate(real_e_index):\n",
    "    # s is the size of the marks (not sure the units)\n",
    "    # Let's make them bigger!\n",
    "    plt.scatter(output_df['G']*L, output_df[ind], label=ind, marker=markers[i], s=100) \n",
    "for i, ind in enumerate(real_w_index): \n",
    "    plt.scatter(output_df['G']*L, output_df[ind], label=ind, marker=markers[i], s=100) \n",
    "for i, ind in enumerate(im_e_index):\n",
    "    plt.scatter(output_df['G']*L, output_df[ind], label=ind, marker=markers[i], s=100) \n",
    "for i, ind in enumerate(im_w_index): \n",
    "    plt.scatter(output_df['G']*L, output_df[ind], label=ind, marker=markers[i], s=100) \n",
    "    \n",
    "plt.xlim(0.95*g_c, 1.05*g_c) # Looking within 5% of g_c\n",
    "plt.ylim(-0.2, 0.2) # You might need to change these values\n",
    "\n",
    "plt.legend()\n",
    "plt.xlabel('GL')\n",
    "\n",
    "plt.title('Real and imaginary parts around G_c')\n",
    "plt.show()"
   ]
  },
  {
   "cell_type": "markdown",
   "metadata": {
    "jupyter": {
     "source_hidden": true
    }
   },
   "source": [
    "## Energy\n",
    "We can also plot energy (and other things). Let's get the energy and derivatives from the output DataFrame.\n",
    "\n",
    "Again, if there is a division by zero error, ignore it for now. This occurs if we are taking the derivative of something too close to vertical."
   ]
  },
  {
   "cell_type": "code",
   "execution_count": 9,
   "metadata": {
    "collapsed": true,
    "jupyter": {
     "outputs_hidden": true,
     "source_hidden": true
    }
   },
   "outputs": [
    {
     "name": "stdout",
     "output_type": "stream",
     "text": [
      "Taking 1st derivative\n",
      "Taking 2nd derivative\n",
      "Taking 3rd derivative\n"
     ]
    }
   ],
   "source": [
    "Es = output_df['energy']\n",
    "Gs = output_df['G']\n",
    "# Rescaling by appropriate factors of L\n",
    "es = Es/L\n",
    "gs = Gs*L # different than g in previous plot\n",
    "\n",
    "print('Taking 1st derivative')\n",
    "de = np.gradient(es, gs) # derivative de/dg\n",
    "print('Taking 2nd derivative')\n",
    "d2e = np.gradient(de, gs) # second derivative\n",
    "print('Taking 3rd derivative')\n",
    "d3e = np.gradient(d2e, gs) # third\n"
   ]
  },
  {
   "cell_type": "markdown",
   "metadata": {
    "jupyter": {
     "source_hidden": true
    }
   },
   "source": [
    "Now, let's make a 2-by-2 plot with the energy and derivatives."
   ]
  },
  {
   "cell_type": "code",
   "execution_count": 10,
   "metadata": {
    "collapsed": true,
    "jupyter": {
     "outputs_hidden": true,
     "source_hidden": true
    }
   },
   "outputs": [
    {
     "data": {
      "image/png": "[encoded data removed]",
      "text/plain": [
       "<Figure size 864x864 with 4 Axes>"
      ]
     },
     "metadata": {
      "needs_background": "light"
     },
     "output_type": "display_data"
    }
   ],
   "source": [
    "plt.figure(figsize=(12, 12))\n",
    "\n",
    "plt.subplot(2, 2, 1)\n",
    "plt.plot(gs, es)\n",
    "plt.xlabel('g')\n",
    "plt.ylabel('e')\n",
    "plt.axvline(g_c, ls=':', color='magenta')\n",
    "plt.axvline(0.8585403710772574*g_c)\n",
    "\n",
    "plt.subplot(2, 2, 2)\n",
    "plt.scatter(gs, de)\n",
    "plt.xlabel('g')\n",
    "plt.ylabel('de/dg')\n",
    "plt.axvline(g_c, ls=':', color='magenta')\n",
    "\n",
    "\n",
    "plt.subplot(2, 2, 3)\n",
    "plt.scatter(gs, d2e)\n",
    "plt.xlabel('g')\n",
    "plt.ylabel('d^2e/dg^2')\n",
    "plt.axvline(g_c, ls=':', color='magenta')\n",
    "\n",
    "\n",
    "plt.subplot(2, 2, 4)\n",
    "plt.scatter(gs, d3e)\n",
    "plt.xlabel('g')\n",
    "plt.ylabel('d^3e/dg^3')\n",
    "plt.axvline(g_c, ls=':', color='magenta')\n",
    "# Behavior around G=0 is weird but this is due to truncation and inaccuracies in the solution around that point\n",
    "\n",
    "plt.show()"
   ]
  },
  {
   "cell_type": "markdown",
   "metadata": {
    "jupyter": {
     "source_hidden": true
    }
   },
   "source": [
    "## Momentum Distribution\n",
    "\n",
    "Let's look at the momentum distribution within $5\\%$ of my prediction for $G_c$."
   ]
  },
  {
   "cell_type": "code",
   "execution_count": 11,
   "metadata": {
    "collapsed": true,
    "jupyter": {
     "outputs_hidden": true,
     "source_hidden": true
    }
   },
   "outputs": [
    {
     "name": "stderr",
     "output_type": "stream",
     "text": [
      "No handles with labels found to put in legend.\n"
     ]
    },
    {
     "data": {
      "image/png": "[encoded data removed]",
      "text/plain": [
       "<Figure size 864x576 with 1 Axes>"
      ]
     },
     "metadata": {
      "needs_background": "light"
     },
     "output_type": "display_data"
    }
   ],
   "source": [
    "N_inds = ['N_{}'.format(i) for i in range(L)]\n",
    "\n",
    "plt.figure(figsize=(12, 8))\n",
    "\n",
    "for i, G in enumerate(Gs):\n",
    "    if 0.95 < G*L/g_c < 1.05: # Only selecting within 2% of G_c\n",
    "        plt.plot(k, output_df[N_inds].iloc[i], \n",
    "                label='g = {}'.format(np.round(G*L, 3)), # rounding the label to 3 decimal places\n",
    "                 marker='o') # Putting a dot at each data point\n",
    "        print(np.sum(output_df[N_inds].iloc[i]))\n",
    "plt.xlabel('k')\n",
    "plt.ylabel('N_k')\n",
    "plt.legend()\n",
    "plt.xlim(0, np.pi)\n",
    "plt.show()"
   ]
  },
  {
   "cell_type": "markdown",
   "metadata": {
    "jupyter": {
     "source_hidden": true
    }
   },
   "source": [
    "At precisely the critical coupling, it seems like Jorge's prediction of perfectly flat distribution is true, just not at the coupling he predicted.\n",
    "\n",
    "To get a better sense of overall behavior, we can plot at a wider range of coupling. To make sure we don't end up with too many lines, I'll only plot once every 5 datapoints."
   ]
  },
  {
   "cell_type": "code",
   "execution_count": 12,
   "metadata": {
    "collapsed": true,
    "jupyter": {
     "outputs_hidden": true,
     "source_hidden": true
    }
   },
   "outputs": [
    {
     "name": "stdout",
     "output_type": "stream",
     "text": [
      "sum_k n_k\n",
      "7.99999999999999\n",
      "G/Gc\n",
      "0.26978052970887856\n",
      "g\n",
      "0.07840000000000001\n",
      "sum_k n_k\n",
      "7.999999999999993\n",
      "G/Gc\n",
      "0.43192007716848013\n",
      "g\n",
      "0.16134399999999988\n",
      "sum_k n_k\n",
      "7.999999999512583\n",
      "G/Gc\n",
      "0.5351388711477864\n",
      "g\n",
      "0.24428799999999956\n",
      "sum_k n_k\n",
      "7.999999999712307\n",
      "G/Gc\n",
      "0.5999999999999999\n",
      "g\n",
      "0.31830988618379064\n",
      "sum_k n_k\n",
      "8.00000000101158\n",
      "G/Gc\n",
      "0.704675793412166\n",
      "g\n",
      "0.5063480893063582\n",
      "sum_k n_k\n",
      "7.999999999191065\n",
      "G/Gc\n",
      "0.8714840930989602\n",
      "g\n",
      "1.4390021654358067\n",
      "sum_k n_k\n",
      "7.999999995725018\n",
      "G/Gc\n",
      "1.1417565700004\n",
      "g\n",
      "-1.7091854665379158\n",
      "sum_k n_k\n",
      "7.99999999662465\n",
      "G/Gc\n",
      "1.2499999999999998\n",
      "g\n",
      "-1.0610329539459689\n"
     ]
    },
    {
     "data": {
      "image/png": "[encoded data removed]",
      "text/plain": [
       "<Figure size 576x576 with 1 Axes>"
      ]
     },
     "metadata": {
      "needs_background": "light"
     },
     "output_type": "display_data"
    }
   ],
   "source": [
    "plt.figure(figsize=(8,8))        \n",
    "Gc = 1/np.sum(k)\n",
    "for i, G in enumerate(Gs):\n",
    "    n = np.sum(np.sum(output_df[N_inds].iloc[i]))\n",
    "    if np.abs(n-N) > 10**-5:\n",
    "        print('sum_k n_k')\n",
    "        print(np.sum(output_df[N_inds].iloc[i]))\n",
    "        print('G/Gc')\n",
    "        print(G/Gc)\n",
    "        print('g')\n",
    "        print(output_df['g'].iloc[i])\n",
    "    plt.plot(k, output_df[N_inds].iloc[i], \n",
    "             label='g = {}'.format(np.round(G*L, 3)), # rounding the label to 3 decimal places\n",
    "             marker='o') # Putting a dot at each data point\n",
    "\n",
    "plt.xlabel('k')\n",
    "plt.ylabel('N_k')\n",
    "plt.legend()\n",
    "plt.xlim(0, np.pi)\n",
    "plt.ylim(0, 4.5) # Limits on values of N_k = n_{k up} + n_{k down} + n_{-k up} + n_{-k down}\n",
    "plt.show()"
   ]
  },
  {
   "cell_type": "markdown",
   "metadata": {
    "jupyter": {
     "source_hidden": true
    }
   },
   "source": [
    "Now, we create a Hamiltonian (as Quspin ``quantum_operator`` object) corresponding to our final coupling.\n",
    "Note that if the number of states in the basis is too big, this operator will eat up a lot of memory. I would recommend not running any of this for L > 5."
   ]
  },
  {
   "cell_type": "markdown",
   "metadata": {},
   "source": [
    "Now let's plot the energies at various couplings."
   ]
  },
  {
   "cell_type": "code",
   "execution_count": 20,
   "metadata": {},
   "outputs": [
    {
     "name": "stdout",
     "output_type": "stream",
     "text": [
      "Hermiticity check passed!\n",
      "Symmetry checks passed!\n",
      "Particle conservation check passed!\n",
      "Hermiticity check passed!\n",
      "Symmetry checks passed!\n",
      "Particle conservation check passed!\n"
     ]
    },
    {
     "data": {
      "image/png": "[encoded data removed]",
      "text/plain": [
       "<Figure size 432x288 with 1 Axes>"
      ]
     },
     "metadata": {
      "needs_background": "light"
     },
     "output_type": "display_data"
    }
   ],
   "source": [
    "e_es = []\n",
    "divisible_Gs = []\n",
    "for i, G in enumerate(Gs):\n",
    "    if i%4 == 0: # Only using indices that are multiples of 4\n",
    "        h = ham_op_2(L, G, k, basis=basis)\n",
    "        e, v = h.eigsh(k=1, which = 'SA') # we only need the 0th energy\n",
    "        e_es += [e[0]]\n",
    "    \n",
    "        divisible_Gs += [G]\n",
    "\n",
    "plt.plot(np.array(divisible_Gs)*L, e_es, marker='o')\n",
    "plt.plot(output_df['G']*L, output_df['energy'])\n",
    "plt.xlabel('GL')\n",
    "plt.ylabel('Energy difference')\n",
    "# plt.ylim(-10**-12, 10**-12)\n",
    "plt.show()"
   ]
  },
  {
   "cell_type": "markdown",
   "metadata": {},
   "source": [
    "## Charge gap/chemical potential\n",
    "Let's define some more quantities: First, chemical potential is (more or less) the energy\n",
    "required to add a fermion to the system. We can estimate it as\n",
    "\\begin{equation}\n",
    "\\mu = \\frac{E(N+1)- E(N) + E(N) - E(N-1)}{2}\n",
    "= \\frac{E(N+1) -E(N-1)}{2}\n",
    "\\end{equation}\n",
    "where $E(M)$ is the ground state energy with $M$ fermions.\n",
    "\n",
    "We can define a similar quantity, the charge gap (which I will call $\\Delta$):\n",
    "\\begin{equation}\n",
    "\\Delta  = \\frac{E(N+1) + E(N-1) - 2 E(N)}{2}.\n",
    "\\end{equation}\n",
    "\n",
    "Let's see how these behave around our critical point:"
   ]
  },
  {
   "cell_type": "code",
   "execution_count": 21,
   "metadata": {},
   "outputs": [
    {
     "name": "stdout",
     "output_type": "stream",
     "text": [
      "Hermiticity check passed!\n",
      "Symmetry checks passed!\n",
      "Particle conservation check passed!\n",
      "Hermiticity check passed!\n",
      "Symmetry checks passed!\n",
      "Particle conservation check passed!\n",
      "Hermiticity check passed!\n",
      "Symmetry checks passed!\n",
      "Particle conservation check passed!\n",
      "Hermiticity check passed!\n",
      "Symmetry checks passed!\n",
      "Particle conservation check passed!\n",
      "Hermiticity check passed!\n",
      "Symmetry checks passed!\n",
      "Particle conservation check passed!\n",
      "Hermiticity check passed!\n",
      "Symmetry checks passed!\n",
      "Particle conservation check passed!\n",
      "Hermiticity check passed!\n",
      "Symmetry checks passed!\n",
      "Particle conservation check passed!\n",
      "Hermiticity check passed!\n",
      "Symmetry checks passed!\n",
      "Particle conservation check passed!\n",
      "Hermiticity check passed!\n",
      "Symmetry checks passed!\n",
      "Particle conservation check passed!\n",
      "Hermiticity check passed!\n",
      "Symmetry checks passed!\n",
      "Particle conservation check passed!\n",
      "Hermiticity check passed!\n",
      "Symmetry checks passed!\n",
      "Particle conservation check passed!\n",
      "Hermiticity check passed!\n",
      "Symmetry checks passed!\n",
      "Particle conservation check passed!\n",
      "Hermiticity check passed!\n",
      "Symmetry checks passed!\n",
      "Particle conservation check passed!\n",
      "Hermiticity check passed!\n",
      "Symmetry checks passed!\n",
      "Particle conservation check passed!\n",
      "Hermiticity check passed!\n",
      "Symmetry checks passed!\n",
      "Particle conservation check passed!\n",
      "Hermiticity check passed!\n",
      "Symmetry checks passed!\n",
      "Particle conservation check passed!\n",
      "Hermiticity check passed!\n",
      "Symmetry checks passed!\n",
      "Particle conservation check passed!\n",
      "Hermiticity check passed!\n",
      "Symmetry checks passed!\n",
      "Particle conservation check passed!\n",
      "Hermiticity check passed!\n",
      "Symmetry checks passed!\n",
      "Particle conservation check passed!\n",
      "Hermiticity check passed!\n",
      "Symmetry checks passed!\n",
      "Particle conservation check passed!\n",
      "Hermiticity check passed!\n",
      "Symmetry checks passed!\n",
      "Particle conservation check passed!\n",
      "Hermiticity check passed!\n",
      "Symmetry checks passed!\n",
      "Particle conservation check passed!\n",
      "Hermiticity check passed!\n",
      "Symmetry checks passed!\n",
      "Particle conservation check passed!\n",
      "Hermiticity check passed!\n",
      "Symmetry checks passed!\n",
      "Particle conservation check passed!\n",
      "Hermiticity check passed!\n",
      "Symmetry checks passed!\n",
      "Particle conservation check passed!\n",
      "Hermiticity check passed!\n",
      "Symmetry checks passed!\n",
      "Particle conservation check passed!\n",
      "Hermiticity check passed!\n",
      "Symmetry checks passed!\n",
      "Particle conservation check passed!\n",
      "Hermiticity check passed!\n",
      "Symmetry checks passed!\n",
      "Particle conservation check passed!\n",
      "Hermiticity check passed!\n",
      "Symmetry checks passed!\n",
      "Particle conservation check passed!\n",
      "Hermiticity check passed!\n",
      "Symmetry checks passed!\n",
      "Particle conservation check passed!\n",
      "Hermiticity check passed!\n",
      "Symmetry checks passed!\n",
      "Particle conservation check passed!\n",
      "Hermiticity check passed!\n",
      "Symmetry checks passed!\n",
      "Particle conservation check passed!\n",
      "Hermiticity check passed!\n",
      "Symmetry checks passed!\n",
      "Particle conservation check passed!\n",
      "Hermiticity check passed!\n",
      "Symmetry checks passed!\n",
      "Particle conservation check passed!\n",
      "Hermiticity check passed!\n",
      "Symmetry checks passed!\n",
      "Particle conservation check passed!\n",
      "Hermiticity check passed!\n",
      "Symmetry checks passed!\n",
      "Particle conservation check passed!\n",
      "Hermiticity check passed!\n",
      "Symmetry checks passed!\n",
      "Particle conservation check passed!\n",
      "Hermiticity check passed!\n",
      "Symmetry checks passed!\n",
      "Particle conservation check passed!\n",
      "Hermiticity check passed!\n",
      "Symmetry checks passed!\n",
      "Particle conservation check passed!\n",
      "Hermiticity check passed!\n",
      "Symmetry checks passed!\n",
      "Particle conservation check passed!\n",
      "Hermiticity check passed!\n",
      "Symmetry checks passed!\n",
      "Particle conservation check passed!\n",
      "Hermiticity check passed!\n",
      "Symmetry checks passed!\n",
      "Particle conservation check passed!\n",
      "Hermiticity check passed!\n",
      "Symmetry checks passed!\n",
      "Particle conservation check passed!\n",
      "Hermiticity check passed!\n",
      "Symmetry checks passed!\n",
      "Particle conservation check passed!\n",
      "Hermiticity check passed!\n",
      "Symmetry checks passed!\n",
      "Particle conservation check passed!\n",
      "Hermiticity check passed!\n",
      "Symmetry checks passed!\n",
      "Particle conservation check passed!\n",
      "Hermiticity check passed!\n",
      "Symmetry checks passed!\n",
      "Particle conservation check passed!\n",
      "Hermiticity check passed!\n",
      "Symmetry checks passed!\n",
      "Particle conservation check passed!\n",
      "Hermiticity check passed!\n",
      "Symmetry checks passed!\n",
      "Particle conservation check passed!\n",
      "Hermiticity check passed!\n",
      "Symmetry checks passed!\n",
      "Particle conservation check passed!\n",
      "Hermiticity check passed!\n",
      "Symmetry checks passed!\n",
      "Particle conservation check passed!\n",
      "Hermiticity check passed!\n",
      "Symmetry checks passed!\n",
      "Particle conservation check passed!\n",
      "Hermiticity check passed!\n",
      "Symmetry checks passed!\n",
      "Particle conservation check passed!\n",
      "Hermiticity check passed!\n",
      "Symmetry checks passed!\n",
      "Particle conservation check passed!\n",
      "Hermiticity check passed!\n",
      "Symmetry checks passed!\n",
      "Particle conservation check passed!\n",
      "Hermiticity check passed!\n",
      "Symmetry checks passed!\n",
      "Particle conservation check passed!\n",
      "Hermiticity check passed!\n",
      "Symmetry checks passed!\n",
      "Particle conservation check passed!\n",
      "Hermiticity check passed!\n",
      "Symmetry checks passed!\n",
      "Particle conservation check passed!\n",
      "Hermiticity check passed!\n",
      "Symmetry checks passed!\n",
      "Particle conservation check passed!\n",
      "Hermiticity check passed!\n",
      "Symmetry checks passed!\n",
      "Particle conservation check passed!\n"
     ]
    }
   ],
   "source": [
    "Gss = np.linspace(0, G_final, 20)\n",
    "\n",
    "b_plus = form_basis(2*L, Nup + 1, Ndown)\n",
    "b_minus = form_basis(2*L, Nup - 1, Ndown)\n",
    "e_plus = np.zeros(len(Gss))\n",
    "energies = np.zeros(len(Gss))\n",
    "e_minus = np.zeros(len(Gss))\n",
    "for i, G in enumerate(Gss):\n",
    "    h_plus = ham_op_2(L, G, k, basis=b_plus)\n",
    "    h = ham_op_2(L, G, k, basis=basis)\n",
    "    h_minus = ham_op_2(L, G, k, basis=b_minus)\n",
    "    ep, vp = h_plus.eigsh(k=1, which='SA')\n",
    "    e, v = h.eigsh(k=1, which='SA')\n",
    "    em, vm = h_minus.eigsh(k=1, which='SA')\n",
    "    e_plus[i] = ep[0]\n",
    "    energies[i] = e[0]\n",
    "    e_minus[i] = em[0]"
   ]
  },
  {
   "cell_type": "code",
   "execution_count": 22,
   "metadata": {},
   "outputs": [
    {
     "data": {
      "image/png": "[encoded data removed]",
      "text/plain": [
       "<Figure size 576x576 with 1 Axes>"
      ]
     },
     "metadata": {
      "needs_background": "light"
     },
     "output_type": "display_data"
    }
   ],
   "source": [
    "mu = (e_plus - e_minus)/2\n",
    "cg = (e_plus + e_minus - 2*energies)/2\n",
    "plt.figure(figsize=(8,8))\n",
    "plt.axhline(0, color='gray')\n",
    "plt.axvline(g_c, color='gray')\n",
    "plt.plot(Gss*L, mu/L, label = '$\\mu/L$', marker = '+')\n",
    "plt.plot(Gss*L, cg/L, label = '$\\Delta/L$', marker = 'o')\n",
    "plt.xlabel('GL')\n",
    "plt.title('Chemical potential and charge gap')\n",
    "plt.legend()\n",
    "plt.show()"
   ]
  }
 ],
 "metadata": {
  "kernelspec": {
   "display_name": "Python 3",
   "language": "python",
   "name": "python3"
  },
  "language_info": {
   "codemirror_mode": {
    "name": "ipython",
    "version": 3
   },
   "file_extension": ".py",
   "mimetype": "text/x-python",
   "name": "python",
   "nbconvert_exporter": "python",
   "pygments_lexer": "ipython3",
   "version": "3.7.6"
  }
 },
 "nbformat": 4,
 "nbformat_minor": 4
}
